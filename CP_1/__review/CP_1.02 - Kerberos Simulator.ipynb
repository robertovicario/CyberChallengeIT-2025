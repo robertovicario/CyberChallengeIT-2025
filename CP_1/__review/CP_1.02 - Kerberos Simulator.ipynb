{
 "cells": [
  {
   "cell_type": "markdown",
   "metadata": {},
   "source": [
    "### CP_1.02 - Kerberos Simulator"
   ]
  },
  {
   "cell_type": "markdown",
   "metadata": {},
   "source": [
    "https://github.com/Th3F0x-code/CTF_Write-up/blob/ba87a3503ad6f9a6afb8162b48fd2cd88f02c632/CyberChallenge/2020/Week%2008/Kerberos_Simulator.md"
   ]
  },
  {
   "cell_type": "markdown",
   "metadata": {},
   "source": [
    "# KERBEROS SIMULATOR\n",
    "\n",
    "**1) Apro un autenticazione con il server, ricevo:**\n",
    "\n",
    "Encrypted Key Message: `bDNzTVVsdEI4cm9PNjJFeXltU3V6ejlPTFV0bkxCakdBMTlpT0cySWRGVkU2bmFVa2h0RGs5U2I4UDI0TEZJYzJzVFZTUVFXbFEvMzdldzl0ZllYUmc9PQ==`\n",
    "Authentication Ticket: `a3FrdVNxNTZweDFWK05rM290YXhES3pPZFp2TkdkaVNGLzk2SUJ0cm9wSkQrTS9MMWhrZjZXREdWdXdkdm1HcCtXOHkxQy95T29RcHBPWU54Tml5bVE9PQ==`\n",
    "\n",
    "\n",
    "**2) Decifriamo Encrypted Message con la chiave '192883939', il server ritorna:**\n",
    "\n",
    "`{K_A_TGS=873331, TGS=tgs1, Timestamp=2020:5:6:14:18:10}`\n",
    "\n",
    "\n",
    "**3) Mandiamo al server l'autentication ticket ricevuto in precedenza nel punto (1):**\n",
    "\n",
    "\n",
    "Authentication Ticket: `a3FrdVNxNTZweDFWK05rM290YXhES3pPZFp2TkdkaVNGLzk2SUJ0cm9wSkQrTS9MMWhrZjZXREdWdXdkdm1HcCtXOHkxQy95T29RcHBPWU54Tml5bVE9PQ==`\n",
    "\n",
    "Mandando la flag solo ad Alice, autentichiamoci come lei: `{Alice, Timestamp=2020:5:6:14:18:10}`\n",
    "Cifrandolo con la chiave '873331' ottenuta nel punto (2):\n",
    "Ciphertext = `T0F5S3kxMG5YMFovY1ZzeEZBZnNiZ1o1THA4NEdybGg2TTUzVnp6K0NNeFRiaUNiQ0x4b3hOSUJnaWZSVzlHTQ==`\n",
    "Mandiamo al server sia l'authentication ticket che il ciphertext.\n",
    "\n",
    "\n",
    "**4) Il TGS risponde:**\n",
    "\n",
    "Encrypted Message: `YXZyQ3pXUEFhbFo2OWZlY09PODhxUlJqYnRIUDBYdWVKYWxqYXJQQjdTTk1Dcnlra1BjSTlFNnY3cXA1cW9HRw==`\n",
    "Decriptiamolo con la key ottenuta nel passo (2) -> Otteniamo `CCIT{K3rb3r0s_4uth3nt1c4t10n_Pr0t0c0l}`\n"
   ]
  }
 ],
 "metadata": {
  "language_info": {
   "name": "python"
  }
 },
 "nbformat": 4,
 "nbformat_minor": 2
}
