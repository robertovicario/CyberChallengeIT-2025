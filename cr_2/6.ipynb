{
 "cells": [
  {
   "cell_type": "code",
   "execution_count": 1,
   "metadata": {},
   "outputs": [
    {
     "ename": "KeyboardInterrupt",
     "evalue": "",
     "output_type": "error",
     "traceback": [
      "\u001b[0;31m---------------------------------------------------------------------------\u001b[0m",
      "\u001b[0;31mKeyboardInterrupt\u001b[0m                         Traceback (most recent call last)",
      "Cell \u001b[0;32mIn[1], line 15\u001b[0m\n\u001b[1;32m     12\u001b[0m ct \u001b[38;5;241m=\u001b[39m \u001b[38;5;124m'\u001b[39m\u001b[38;5;124mfe7d573c3f2bd0320ca5e175ca7ba52586f1da4354644b641e775fed1fddc3988a689ab5b0e5ed557093bb0c24690e75\u001b[39m\u001b[38;5;124m'\u001b[39m\n\u001b[1;32m     14\u001b[0m \u001b[38;5;66;03m# Solve the Discrete Logarithm Problem using sympy (or any other method to get privB)\u001b[39;00m\n\u001b[0;32m---> 15\u001b[0m privB \u001b[38;5;241m=\u001b[39m \u001b[43mdiscrete_log\u001b[49m\u001b[43m(\u001b[49m\u001b[43mp\u001b[49m\u001b[43m,\u001b[49m\u001b[43m \u001b[49m\u001b[43mpubB\u001b[49m\u001b[43m,\u001b[49m\u001b[43m \u001b[49m\u001b[43mg\u001b[49m\u001b[43m)\u001b[49m\n\u001b[1;32m     17\u001b[0m \u001b[38;5;66;03m# Calculate shared secret\u001b[39;00m\n\u001b[1;32m     18\u001b[0m shared_secret \u001b[38;5;241m=\u001b[39m \u001b[38;5;28mpow\u001b[39m(pubA, privB, p)\n",
      "File \u001b[0;32m~/anaconda3/lib/python3.11/site-packages/sympy/ntheory/residue_ntheory.py:1346\u001b[0m, in \u001b[0;36mdiscrete_log\u001b[0;34m(n, a, b, order, prime_order)\u001b[0m\n\u001b[1;32m   1344\u001b[0m n, a, b \u001b[38;5;241m=\u001b[39m as_int(n), as_int(a), as_int(b)\n\u001b[1;32m   1345\u001b[0m \u001b[38;5;28;01mif\u001b[39;00m order \u001b[38;5;129;01mis\u001b[39;00m \u001b[38;5;28;01mNone\u001b[39;00m:\n\u001b[0;32m-> 1346\u001b[0m     order \u001b[38;5;241m=\u001b[39m \u001b[43mn_order\u001b[49m\u001b[43m(\u001b[49m\u001b[43mb\u001b[49m\u001b[43m,\u001b[49m\u001b[43m \u001b[49m\u001b[43mn\u001b[49m\u001b[43m)\u001b[49m\n\u001b[1;32m   1348\u001b[0m \u001b[38;5;28;01mif\u001b[39;00m prime_order \u001b[38;5;129;01mis\u001b[39;00m \u001b[38;5;28;01mNone\u001b[39;00m:\n\u001b[1;32m   1349\u001b[0m     prime_order \u001b[38;5;241m=\u001b[39m isprime(order)\n",
      "File \u001b[0;32m~/anaconda3/lib/python3.11/site-packages/sympy/ntheory/residue_ntheory.py:42\u001b[0m, in \u001b[0;36mn_order\u001b[0;34m(a, n)\u001b[0m\n\u001b[1;32m     40\u001b[0m \u001b[38;5;28;01mif\u001b[39;00m kx \u001b[38;5;241m>\u001b[39m \u001b[38;5;241m1\u001b[39m:\n\u001b[1;32m     41\u001b[0m     factors[px] \u001b[38;5;241m+\u001b[39m\u001b[38;5;241m=\u001b[39m kx \u001b[38;5;241m-\u001b[39m \u001b[38;5;241m1\u001b[39m\n\u001b[0;32m---> 42\u001b[0m fpx \u001b[38;5;241m=\u001b[39m \u001b[43mfactorint\u001b[49m\u001b[43m(\u001b[49m\u001b[43mpx\u001b[49m\u001b[43m \u001b[49m\u001b[38;5;241;43m-\u001b[39;49m\u001b[43m \u001b[49m\u001b[38;5;241;43m1\u001b[39;49m\u001b[43m)\u001b[49m\n\u001b[1;32m     43\u001b[0m \u001b[38;5;28;01mfor\u001b[39;00m py, ky \u001b[38;5;129;01min\u001b[39;00m fpx\u001b[38;5;241m.\u001b[39mitems():\n\u001b[1;32m     44\u001b[0m     factors[py] \u001b[38;5;241m+\u001b[39m\u001b[38;5;241m=\u001b[39m ky\n",
      "File \u001b[0;32m~/anaconda3/lib/python3.11/site-packages/sympy/ntheory/factor_.py:1438\u001b[0m, in \u001b[0;36mfactorint\u001b[0;34m(n, limit, use_trial, use_rho, use_pm1, use_ecm, verbose, visual, multiple)\u001b[0m\n\u001b[1;32m   1436\u001b[0m \u001b[38;5;28;01mwhile\u001b[39;00m(\u001b[38;5;241m1\u001b[39m):\n\u001b[1;32m   1437\u001b[0m     \u001b[38;5;28;01mtry\u001b[39;00m:\n\u001b[0;32m-> 1438\u001b[0m         factor \u001b[38;5;241m=\u001b[39m \u001b[43m_ecm_one_factor\u001b[49m\u001b[43m(\u001b[49m\u001b[43mn\u001b[49m\u001b[43m,\u001b[49m\u001b[43m \u001b[49m\u001b[43mB1\u001b[49m\u001b[43m,\u001b[49m\u001b[43m \u001b[49m\u001b[43mB2\u001b[49m\u001b[43m,\u001b[49m\u001b[43m \u001b[49m\u001b[43mnum_curves\u001b[49m\u001b[43m)\u001b[49m\n\u001b[1;32m   1439\u001b[0m         ps \u001b[38;5;241m=\u001b[39m factorint(factor, limit\u001b[38;5;241m=\u001b[39mlimit \u001b[38;5;241m-\u001b[39m \u001b[38;5;241m1\u001b[39m,\n\u001b[1;32m   1440\u001b[0m                        use_trial\u001b[38;5;241m=\u001b[39muse_trial,\n\u001b[1;32m   1441\u001b[0m                        use_rho\u001b[38;5;241m=\u001b[39muse_rho,\n\u001b[1;32m   1442\u001b[0m                        use_pm1\u001b[38;5;241m=\u001b[39muse_pm1,\n\u001b[1;32m   1443\u001b[0m                        use_ecm\u001b[38;5;241m=\u001b[39muse_ecm,\n\u001b[1;32m   1444\u001b[0m                        verbose\u001b[38;5;241m=\u001b[39mverbose)\n\u001b[1;32m   1445\u001b[0m         n, _ \u001b[38;5;241m=\u001b[39m _trial(factors, n, ps, verbose\u001b[38;5;241m=\u001b[39m\u001b[38;5;28;01mFalse\u001b[39;00m)\n",
      "File \u001b[0;32m~/anaconda3/lib/python3.11/site-packages/sympy/ntheory/ecm.py:231\u001b[0m, in \u001b[0;36m_ecm_one_factor\u001b[0;34m(n, B1, B2, max_curve)\u001b[0m\n\u001b[1;32m    229\u001b[0m a24 \u001b[38;5;241m=\u001b[39m (C \u001b[38;5;241m+\u001b[39m \u001b[38;5;241m2\u001b[39m)\u001b[38;5;241m*\u001b[39mmod_inverse(\u001b[38;5;241m4\u001b[39m, n) \u001b[38;5;241m%\u001b[39m n\n\u001b[1;32m    230\u001b[0m Q \u001b[38;5;241m=\u001b[39m Point(u_3, \u001b[38;5;28mpow\u001b[39m(v, \u001b[38;5;241m3\u001b[39m, n), a24, n)\n\u001b[0;32m--> 231\u001b[0m Q \u001b[38;5;241m=\u001b[39m \u001b[43mQ\u001b[49m\u001b[38;5;241;43m.\u001b[39;49m\u001b[43mmont_ladder\u001b[49m\u001b[43m(\u001b[49m\u001b[43mk\u001b[49m\u001b[43m)\u001b[49m\n\u001b[1;32m    232\u001b[0m g \u001b[38;5;241m=\u001b[39m gcd(Q\u001b[38;5;241m.\u001b[39mz_cord, n)\n\u001b[1;32m    234\u001b[0m \u001b[38;5;66;03m#Stage 1 factor\u001b[39;00m\n",
      "File \u001b[0;32m~/anaconda3/lib/python3.11/site-packages/sympy/ntheory/ecm.py:150\u001b[0m, in \u001b[0;36mPoint.mont_ladder\u001b[0;34m(self, k)\u001b[0m\n\u001b[1;32m    148\u001b[0m     \u001b[38;5;28;01melse\u001b[39;00m:\n\u001b[1;32m    149\u001b[0m         R \u001b[38;5;241m=\u001b[39m Q\u001b[38;5;241m.\u001b[39madd(R, \u001b[38;5;28mself\u001b[39m)\n\u001b[0;32m--> 150\u001b[0m         Q \u001b[38;5;241m=\u001b[39m \u001b[43mQ\u001b[49m\u001b[38;5;241;43m.\u001b[39;49m\u001b[43mdouble\u001b[49m\u001b[43m(\u001b[49m\u001b[43m)\u001b[49m\n\u001b[1;32m    151\u001b[0m \u001b[38;5;28;01mreturn\u001b[39;00m Q\n",
      "File \u001b[0;32m~/anaconda3/lib/python3.11/site-packages/sympy/ntheory/ecm.py:115\u001b[0m, in \u001b[0;36mPoint.double\u001b[0;34m(self)\u001b[0m\n\u001b[1;32m    113\u001b[0m u, v \u001b[38;5;241m=\u001b[39m u\u001b[38;5;241m*\u001b[39mu, v\u001b[38;5;241m*\u001b[39mv\n\u001b[1;32m    114\u001b[0m diff \u001b[38;5;241m=\u001b[39m u \u001b[38;5;241m-\u001b[39m v\n\u001b[0;32m--> 115\u001b[0m x_cord \u001b[38;5;241m=\u001b[39m \u001b[43mu\u001b[49m\u001b[38;5;241;43m*\u001b[39;49m\u001b[43mv\u001b[49m \u001b[38;5;241m%\u001b[39m \u001b[38;5;28mself\u001b[39m\u001b[38;5;241m.\u001b[39mmod\n\u001b[1;32m    116\u001b[0m z_cord \u001b[38;5;241m=\u001b[39m diff\u001b[38;5;241m*\u001b[39m(v \u001b[38;5;241m+\u001b[39m \u001b[38;5;28mself\u001b[39m\u001b[38;5;241m.\u001b[39ma_24\u001b[38;5;241m*\u001b[39mdiff) \u001b[38;5;241m%\u001b[39m \u001b[38;5;28mself\u001b[39m\u001b[38;5;241m.\u001b[39mmod\n\u001b[1;32m    117\u001b[0m \u001b[38;5;28;01mreturn\u001b[39;00m Point(x_cord, z_cord, \u001b[38;5;28mself\u001b[39m\u001b[38;5;241m.\u001b[39ma_24, \u001b[38;5;28mself\u001b[39m\u001b[38;5;241m.\u001b[39mmod)\n",
      "\u001b[0;31mKeyboardInterrupt\u001b[0m: "
     ]
    }
   ],
   "source": [
    "from Crypto.Util.number import inverse\n",
    "from Crypto.Cipher import AES\n",
    "from Crypto.Util.Padding import unpad\n",
    "import hashlib\n",
    "from sympy.ntheory import discrete_log\n",
    "import binascii\n",
    "\n",
    "p = 139379733354483189501227871110064527157682987958433427156390202678064149815642568826477911770307752913621426076298507790818439936280449152741721879461096492477608431936689120104356856262262510907004792117855182041421333215157243722734389759734373030448619917500336774214725967664965383449965717319942422012769\n",
    "g = 141766002927079634436012416932426270195633516375074194269497658683856933939749443631920896002088564385320471756930651924877164463775158556657562652267307493472917448586968014693578189551533885711413705919878486107011929558061609254391556828943430904948541065524176574683093670163402084986719526042666437454093\n",
    "pubA = 66016709400498362636875074602841729207604794529650288520206492814919780360783708766932535497512319649726274113961638853865431404545264600640090701462114753302958560839001532056864200400813840304804168459012583090289433312917793089693811381875506133051726976084529081221968387648987529391439097289229126508657\n",
    "pubB = 133227005774287036263116319213286327328023826794360062545765483165358414788214818135925261563492163513299648752612241934102242044547030469122144101231822302310174491118256008699381279457737273945228911100642427945143296557018573202722398182706517728025099779057026709510256921227257159199663754440944499687527\n",
    "ct = 'fe7d573c3f2bd0320ca5e175ca7ba52586f1da4354644b641e775fed1fddc3988a689ab5b0e5ed557093bb0c24690e75'\n",
    "\n",
    "# Solve the Discrete Logarithm Problem using sympy (or any other method to get privB)\n",
    "privB = discrete_log(p, pubB, g)\n",
    "\n",
    "# Calculate shared secret\n",
    "shared_secret = pow(pubA, privB, p)\n",
    "\n",
    "# Derive the AES key\n",
    "key = hashlib.sha256(shared_secret.to_bytes((shared_secret.bit_length() + 7) // 8, 'big')).digest()[:16]\n",
    "\n",
    "# Decrypt the ciphertext using AES\n",
    "cipher = AES.new(key, AES.MODE_ECB)\n",
    "ct_bytes = bytes.fromhex(ct)\n",
    "flag = unpad(cipher.decrypt(ct_bytes), 16)\n",
    "\n",
    "# Convert the decrypted flag to a readable string\n",
    "print(\"Decrypted Flag:\", flag.decode('utf-8'))"
   ]
  }
 ],
 "metadata": {
  "kernelspec": {
   "display_name": "base",
   "language": "python",
   "name": "python3"
  },
  "language_info": {
   "codemirror_mode": {
    "name": "ipython",
    "version": 3
   },
   "file_extension": ".py",
   "mimetype": "text/x-python",
   "name": "python",
   "nbconvert_exporter": "python",
   "pygments_lexer": "ipython3",
   "version": "3.11.5"
  }
 },
 "nbformat": 4,
 "nbformat_minor": 2
}
