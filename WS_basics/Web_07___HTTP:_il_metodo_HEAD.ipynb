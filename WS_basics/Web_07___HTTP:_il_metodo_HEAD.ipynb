{
 "cells": [
  {
   "cell_type": "markdown",
   "metadata": {},
   "source": [
    "### Web 07 - HTTP: il metodo HEAD"
   ]
  },
  {
   "cell_type": "code",
   "execution_count": null,
   "metadata": {},
   "outputs": [
    {
     "data": {
      "text/plain": [
       "{'Content-Length': '12', 'Content-Type': 'text/plain; charset=utf-8', 'Date': 'Fri, 21 Mar 2025 15:33:08 GMT', 'Server': 'nginx/1.21.6', 'X-Flag': 'flag{r0gu3_m374d474}'}"
      ]
     },
     "execution_count": 12,
     "metadata": {},
     "output_type": "execute_result"
    }
   ],
   "source": [
    "import requests\n",
    "\n",
    "url = 'http://web-07.challs.olicyber.it'\n",
    "flag_head = requests.head(url=url)\n",
    "flag = flag_head.headers\n",
    "  \n",
    "flag"
   ]
  }
 ],
 "metadata": {
  "kernelspec": {
   "display_name": "base",
   "language": "python",
   "name": "python3"
  },
  "language_info": {
   "codemirror_mode": {
    "name": "ipython",
    "version": 3
   },
   "file_extension": ".py",
   "mimetype": "text/x-python",
   "name": "python",
   "nbconvert_exporter": "python",
   "pygments_lexer": "ipython3",
   "version": "3.11.5"
  }
 },
 "nbformat": 4,
 "nbformat_minor": 2
}
