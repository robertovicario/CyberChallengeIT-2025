{
 "cells": [
  {
   "cell_type": "markdown",
   "metadata": {},
   "source": [
    "### Web 06 - HTTP: ricevere un cookie"
   ]
  },
  {
   "cell_type": "code",
   "execution_count": null,
   "metadata": {},
   "outputs": [
    {
     "data": {
      "text/plain": [
       "'flag{7w0_574g3_4cc3s5}'"
      ]
     },
     "execution_count": 1,
     "metadata": {},
     "output_type": "execute_result"
    }
   ],
   "source": [
    "import requests\n",
    "\n",
    "url = 'http://web-06.challs.olicyber.it/token'\n",
    "session = requests.Session()\n",
    "flag = session.get(url=url)\n",
    "\n",
    "headers = { 'Accept': 'application/x-www-form-urlencoded' }\n",
    "\n",
    "cookie = session.cookies.get_dict()\n",
    "url = 'http://web-06.challs.olicyber.it/flag'\n",
    "flag = session.get(url=url, cookies=cookie)\n",
    "\n",
    "flag.text"
   ]
  }
 ],
 "metadata": {
  "kernelspec": {
   "display_name": "base",
   "language": "python",
   "name": "python3"
  },
  "language_info": {
   "codemirror_mode": {
    "name": "ipython",
    "version": 3
   },
   "file_extension": ".py",
   "mimetype": "text/x-python",
   "name": "python",
   "nbconvert_exporter": "python",
   "pygments_lexer": "ipython3",
   "version": "3.11.5"
  }
 },
 "nbformat": 4,
 "nbformat_minor": 2
}
