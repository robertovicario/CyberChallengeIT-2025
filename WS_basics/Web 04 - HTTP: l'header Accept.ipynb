{
 "cells": [
  {
   "cell_type": "markdown",
   "metadata": {},
   "source": [
    "### Web 04 - HTTP: l'header Accept"
   ]
  },
  {
   "cell_type": "code",
   "execution_count": 1,
   "metadata": {},
   "outputs": [
    {
     "data": {
      "text/plain": [
       "'<?xml version=\"1.0\"?>\\n\\n<users>\\n  <user comment=\"flag{54m3_7hing_diff3r3n7_7hing}\">\\n    <name>admin</name>\\n    <role>admin</role>\\n    <registration_date>2018-06-18T15:34:55Z</registration_date>\\n  </user>\\n  <user>\\n    <name>fruitfly</name>\\n    <role>user</role>\\n    <registration_date>2019-08-12T12:04:32Z</registration_date>\\n  </user>\\n  <user>\\n    <name>jim87</name>\\n    <role>user</role>\\n    <registration_date>2022-01-13T20:09:43Z</registration_date>\\n  </user>\\n  <user comment=\"Suspicious activity\">\\n    <name>anonymous05</name>\\n    <role>user</role>\\n    <registration_date>2022-03-09T16:01:07Z</registration_date>\\n  </user>\\n</users>\\n'"
      ]
     },
     "execution_count": 1,
     "metadata": {},
     "output_type": "execute_result"
    }
   ],
   "source": [
    "import requests\n",
    "\n",
    "url = 'http://web-04.challs.olicyber.it/users'\n",
    "headers = { 'Accept': 'application/xml' }\n",
    "flag = requests.get(url=url, headers=headers)\n",
    "\n",
    "flag.text"
   ]
  }
 ],
 "metadata": {
  "kernelspec": {
   "display_name": "base",
   "language": "python",
   "name": "python3"
  },
  "language_info": {
   "codemirror_mode": {
    "name": "ipython",
    "version": 3
   },
   "file_extension": ".py",
   "mimetype": "text/x-python",
   "name": "python",
   "nbconvert_exporter": "python",
   "pygments_lexer": "ipython3",
   "version": "3.11.5"
  }
 },
 "nbformat": 4,
 "nbformat_minor": 2
}
