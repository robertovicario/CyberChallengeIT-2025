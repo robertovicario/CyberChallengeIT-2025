{
 "cells": [
  {
   "cell_type": "markdown",
   "metadata": {},
   "source": [
    "### Web 16 - Tecnologie web: un semplice spider"
   ]
  },
  {
   "cell_type": "code",
   "execution_count": 1,
   "metadata": {},
   "outputs": [
    {
     "name": "stdout",
     "output_type": "stream",
     "text": [
      "flag{n0wh3r3_i5_54f3}\n"
     ]
    }
   ],
   "source": [
    "import requests\n",
    "from bs4 import BeautifulSoup\n",
    "\n",
    "URL = 'http://web-16.challs.olicyber.it/'\n",
    "\n",
    "visited = set()\n",
    "to_visit = [URL]\n",
    "\n",
    "flag_found = False\n",
    "i = 0\n",
    "\n",
    "while not flag_found and i < len(to_visit):\n",
    "    current_url = to_visit[i]\n",
    "    i += 1\n",
    "\n",
    "    if current_url in visited:\n",
    "        continue\n",
    "\n",
    "\n",
    "    response = requests.get(current_url)\n",
    "    soup = BeautifulSoup(response.text, 'html.parser')\n",
    "\n",
    "    titles = soup.find_all('h1')\n",
    "    for title in titles:\n",
    "        if 'flag{' in title.text:\n",
    "            print(title.text.strip())\n",
    "            flag_found = True\n",
    "            break\n",
    "\n",
    "    if not flag_found:\n",
    "        links = soup.find_all('a', href=True)\n",
    "        for link in links:\n",
    "            href = link['href']\n",
    "            if href.startswith('http'):\n",
    "                full_url = href\n",
    "            else:\n",
    "                full_url = URL + href.lstrip('/')\n",
    "            if full_url not in visited and full_url not in to_visit:\n",
    "                to_visit.append(full_url)\n",
    "\n",
    "    visited.add(current_url)\n"
   ]
  }
 ],
 "metadata": {
  "kernelspec": {
   "display_name": "base",
   "language": "python",
   "name": "python3"
  },
  "language_info": {
   "codemirror_mode": {
    "name": "ipython",
    "version": 3
   },
   "file_extension": ".py",
   "mimetype": "text/x-python",
   "name": "python",
   "nbconvert_exporter": "python",
   "pygments_lexer": "ipython3",
   "version": "3.11.5"
  }
 },
 "nbformat": 4,
 "nbformat_minor": 2
}
