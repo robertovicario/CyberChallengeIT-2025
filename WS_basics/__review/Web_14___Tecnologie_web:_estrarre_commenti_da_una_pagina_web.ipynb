{
 "cells": [
  {
   "cell_type": "markdown",
   "metadata": {},
   "source": [
    "### Web 14 - Tecnologie web: estrarre commenti da una pagina web"
   ]
  },
  {
   "cell_type": "code",
   "execution_count": 1,
   "metadata": {},
   "outputs": [
    {
     "name": "stdout",
     "output_type": "stream",
     "text": [
      "Commento trovato: remember to deploy in production\n",
      "Commento trovato: prod. server password: flag{50m3b0dy_f0rg07_70_d31373_7hi5}\n"
     ]
    }
   ],
   "source": [
    "import requests\n",
    "from bs4 import BeautifulSoup, Comment\n",
    "\n",
    "# L'URL della pagina web\n",
    "url = \"http://web-14.challs.olicyber.it/\"\n",
    "\n",
    "# Ottieni il contenuto della pagina\n",
    "response = requests.get(url)\n",
    "\n",
    "# Verifica se la richiesta è andata a buon fine\n",
    "if response.status_code == 200:\n",
    "    # Utilizza BeautifulSoup per fare il parsing del contenuto HTML\n",
    "    soup = BeautifulSoup(response.content, \"html.parser\")\n",
    "\n",
    "    # Trova tutti i commenti (elementi di tipo Comment)\n",
    "    commenti = soup.find_all(string=lambda text: isinstance(text, Comment))\n",
    "\n",
    "    # Concatenare tutti i commenti e stampare\n",
    "    for commento in commenti:\n",
    "        print(\"Commento trovato:\", commento.strip())\n",
    "else:\n",
    "    print(f\"Errore nel recupero della pagina, codice di stato: {response.status_code}\")\n"
   ]
  }
 ],
 "metadata": {
  "kernelspec": {
   "display_name": "base",
   "language": "python",
   "name": "python3"
  },
  "language_info": {
   "codemirror_mode": {
    "name": "ipython",
    "version": 3
   },
   "file_extension": ".py",
   "mimetype": "text/x-python",
   "name": "python",
   "nbconvert_exporter": "python",
   "pygments_lexer": "ipython3",
   "version": "3.11.5"
  }
 },
 "nbformat": 4,
 "nbformat_minor": 2
}
