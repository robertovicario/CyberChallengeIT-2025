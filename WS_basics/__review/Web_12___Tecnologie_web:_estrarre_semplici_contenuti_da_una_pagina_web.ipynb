{
 "cells": [
  {
   "cell_type": "markdown",
   "metadata": {},
   "source": [
    "### Web 12 - Tecnologie web: estrarre semplici contenuti da una pagina web"
   ]
  },
  {
   "cell_type": "code",
   "execution_count": 2,
   "metadata": {},
   "outputs": [
    {
     "data": {
      "text/plain": [
       "'flag{7h3_14ngu4g3_0f_7h3_w3b}'"
      ]
     },
     "execution_count": 2,
     "metadata": {},
     "output_type": "execute_result"
    }
   ],
   "source": [
    "import requests\n",
    "from bs4 import BeautifulSoup\n",
    "\n",
    "# L'URL della pagina web\n",
    "url = \"http://web-12.challs.olicyber.it/\"\n",
    "\n",
    "# Ottieni il contenuto della pagina\n",
    "response = requests.get(url)\n",
    "\n",
    "# Verifica se la richiesta è andata a buon fine\n",
    "if response.status_code == 200:\n",
    "    # Utilizza BeautifulSoup per fare il parsing del contenuto HTML\n",
    "    soup = BeautifulSoup(response.content, \"html.parser\")\n",
    "\n",
    "    # Trova tutti i paragrafi (<p>)\n",
    "    paragrafi = soup.find_all('p')\n",
    "\n",
    "    # Verifica se ci sono almeno due paragrafi\n",
    "    if len(paragrafi) >= 2:\n",
    "        # Il secondo paragrafo è l'indice 1\n",
    "        secondo_paragrafo = paragrafi[1]\n",
    "\n",
    "        # Estrai il testo del secondo paragrafo (che contiene la flag nel tag <pre>)\n",
    "        flag = secondo_paragrafo.find('pre').get_text()\n",
    "        \n",
    "flag"
   ]
  }
 ],
 "metadata": {
  "kernelspec": {
   "display_name": "base",
   "language": "python",
   "name": "python3"
  },
  "language_info": {
   "codemirror_mode": {
    "name": "ipython",
    "version": 3
   },
   "file_extension": ".py",
   "mimetype": "text/x-python",
   "name": "python",
   "nbconvert_exporter": "python",
   "pygments_lexer": "ipython3",
   "version": "3.11.5"
  }
 },
 "nbformat": 4,
 "nbformat_minor": 2
}
