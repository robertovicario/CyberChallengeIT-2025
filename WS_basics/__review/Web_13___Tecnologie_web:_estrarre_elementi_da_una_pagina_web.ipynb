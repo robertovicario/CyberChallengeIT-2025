{
 "cells": [
  {
   "cell_type": "markdown",
   "metadata": {},
   "source": [
    "### Web 13 - Tecnologie web: estrarre elementi da una pagina web"
   ]
  },
  {
   "cell_type": "code",
   "execution_count": 7,
   "metadata": {},
   "outputs": [
    {
     "data": {
      "text/plain": [
       "'flag{donotrecommenddoingthisbyhand}'"
      ]
     },
     "execution_count": 7,
     "metadata": {},
     "output_type": "execute_result"
    }
   ],
   "source": [
    "import requests\n",
    "from bs4 import BeautifulSoup\n",
    "\n",
    "# L'URL della pagina web\n",
    "url = \"http://web-13.challs.olicyber.it/\"\n",
    "\n",
    "# Ottieni il contenuto della pagina\n",
    "response = requests.get(url)\n",
    "\n",
    "# Verifica se la richiesta è andata a buon fine\n",
    "if response.status_code == 200:\n",
    "    # Utilizza BeautifulSoup per fare il parsing del contenuto HTML\n",
    "    soup = BeautifulSoup(response.content, \"html.parser\")\n",
    "\n",
    "    # Trova tutti gli elementi <span> con la classe \"red\"\n",
    "    evidenziati = soup.find_all('span', class_='red')\n",
    "\n",
    "    # Concatenare tutte le lettere evidenziate\n",
    "    flag = ''.join([elemento.get_text() for elemento in evidenziati])\n",
    "\n",
    "'flag{' + flag + '}'"
   ]
  }
 ],
 "metadata": {
  "kernelspec": {
   "display_name": "base",
   "language": "python",
   "name": "python3"
  },
  "language_info": {
   "codemirror_mode": {
    "name": "ipython",
    "version": 3
   },
   "file_extension": ".py",
   "mimetype": "text/x-python",
   "name": "python",
   "nbconvert_exporter": "python",
   "pygments_lexer": "ipython3",
   "version": "3.11.5"
  }
 },
 "nbformat": 4,
 "nbformat_minor": 2
}
