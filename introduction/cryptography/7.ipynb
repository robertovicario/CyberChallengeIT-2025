{
 "cells": [
  {
   "cell_type": "markdown",
   "metadata": {},
   "source": [
    "### Crypto 07 - PyCryptutorial 1"
   ]
  },
  {
   "cell_type": "raw",
   "metadata": {
    "vscode": {
     "languageId": "raw"
    }
   },
   "source": [
    "Cipher = DES\n",
    "Mode of operation = CBC\n",
    "key.hex() = 'c8fa76f7936ecb94'\n",
    "plaintext = 'La lunghezza di questa frase non è divisibile per 8'\n",
    "Padding scheme = x923"
   ]
  },
  {
   "cell_type": "code",
   "execution_count": 15,
   "metadata": {},
   "outputs": [
    {
     "data": {
      "text/plain": [
       "'{\"iv\": \"5b45c8956d632b33\", \"ciphertext\": \"2641eb0f5db8723b192dea7b13b391780919badfcb266722593bc7ee528c715a370eaa1c38be3e19b956d4950a2aa6f933df3a6f96752543\"}'"
      ]
     },
     "execution_count": 15,
     "metadata": {},
     "output_type": "execute_result"
    }
   ],
   "source": [
    "from Crypto.Cipher import DES\n",
    "from Crypto.Util.Padding import pad\n",
    "\n",
    "plaintext = 'La lunghezza di questa frase non è divisibile per 8'\n",
    "plaintext = plaintext.encode('utf-8')\n",
    "key = 'c8fa76f7936ecb94'\n",
    "key = bytes.fromhex(key)\n",
    "\n",
    "cipher = DES.new(key, DES.MODE_CBC)\n",
    "ct_bytes = cipher.encrypt(pad(plaintext, DES.block_size, style='x923'))\n",
    "\n",
    "iv = cipher.iv.hex()\n",
    "ciphertext = ct_bytes.hex()\n",
    "\n",
    "import json\n",
    "result = json.dumps({ 'iv': iv, 'ciphertext': ciphertext })\n",
    "result"
   ]
  },
  {
   "cell_type": "raw",
   "metadata": {
    "vscode": {
     "languageId": "raw"
    }
   },
   "source": [
    "Cipher = AES256\n",
    "Mode of operation = CFB\n",
    "plaintext = 'Mi chiedo cosa significhi il numero nel nome di questo algoritmo.'\n",
    "Padding scheme = pkcs7 (block size = 16)\n",
    "Segment size = 24"
   ]
  },
  {
   "cell_type": "code",
   "execution_count": 16,
   "metadata": {},
   "outputs": [
    {
     "data": {
      "text/plain": [
       "'{\"key\": \"2223a63c58d7e2d9aeadd2008e950f238283962c64965cf1b057b673fac0c1a2\", \"ciphertext\": \"27e81883f80f6e9331b8790df96c0eeec919b3e7549f4f6274ded0ae64832b1a23640a4c14c1339fa74b08f5cde7fa5f040f8869db2b9947127c12bc0cc138c0a745a858a1239c3c73b140a5c3e53478\", \"iv\": \"9ca9200a1bc3a0d4587f5fe93f1683d7\"}'"
      ]
     },
     "execution_count": 16,
     "metadata": {},
     "output_type": "execute_result"
    }
   ],
   "source": [
    "from Crypto.Cipher import AES\n",
    "from Crypto.Random import get_random_bytes\n",
    "\n",
    "plaintext = 'Mi chiedo cosa significhi il numero nel nome di questo algoritmo.'\n",
    "plaintext = plaintext.encode('utf-8')\n",
    "key = get_random_bytes(32)\n",
    "\n",
    "cipher = AES.new(key, AES.MODE_CFB, segment_size=24)\n",
    "ct_bytes = cipher.encrypt(pad(plaintext, block_size=16, style='pkcs7'))\n",
    "\n",
    "key = key.hex()\n",
    "iv = cipher.iv.hex()\n",
    "ciphertext = ct_bytes.hex()\n",
    "\n",
    "import json\n",
    "result = json.dumps({ 'key': key, 'ciphertext': ciphertext, 'iv': iv })\n",
    "result"
   ]
  },
  {
   "cell_type": "raw",
   "metadata": {
    "vscode": {
     "languageId": "raw"
    }
   },
   "source": [
    "Cipher = ChaCha20\n",
    "key.hex() = 'd18cbfa4c452757b0610b3eeb8fe839316302d5c82c72f1cae31cb6e4bcfc7f4'\n",
    "ciphertext.hex() = '2e52aa59d9d3596f8cc97c0343513508ff51096022f9dda850d0b507'\n",
    "Nonce = cipher.nonce.hex() = 'fdb0033ed53e7ea3'"
   ]
  },
  {
   "cell_type": "code",
   "execution_count": 17,
   "metadata": {},
   "outputs": [
    {
     "data": {
      "text/plain": [
       "'Decrypting with mambo rhythm'"
      ]
     },
     "execution_count": 17,
     "metadata": {},
     "output_type": "execute_result"
    }
   ],
   "source": [
    "from binascii import unhexlify\n",
    "from Crypto.Cipher import ChaCha20\n",
    "\n",
    "key = 'd18cbfa4c452757b0610b3eeb8fe839316302d5c82c72f1cae31cb6e4bcfc7f4'\n",
    "key = unhexlify(key)\n",
    "nonce = 'fdb0033ed53e7ea3'\n",
    "nonce = unhexlify(nonce)\n",
    "ciphertext = '2e52aa59d9d3596f8cc97c0343513508ff51096022f9dda850d0b507'\n",
    "ciphertext = unhexlify(ciphertext)\n",
    "\n",
    "cipher = ChaCha20.new(key=key, nonce=nonce)\n",
    "plaintext = cipher.decrypt(ciphertext)\n",
    "plaintext = plaintext.decode('utf-8')\n",
    "\n",
    "plaintext"
   ]
  },
  {
   "cell_type": "raw",
   "metadata": {
    "vscode": {
     "languageId": "raw"
    }
   },
   "source": [
    "flag{4rt1ficial_Symm3trY_Yrt3mmyS_laicif1tr4}"
   ]
  }
 ],
 "metadata": {
  "kernelspec": {
   "display_name": "base",
   "language": "python",
   "name": "python3"
  },
  "language_info": {
   "codemirror_mode": {
    "name": "ipython",
    "version": 3
   },
   "file_extension": ".py",
   "mimetype": "text/x-python",
   "name": "python",
   "nbconvert_exporter": "python",
   "pygments_lexer": "ipython3",
   "version": "3.11.5"
  }
 },
 "nbformat": 4,
 "nbformat_minor": 2
}
