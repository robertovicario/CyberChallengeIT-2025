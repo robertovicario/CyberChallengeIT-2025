{
 "cells": [
  {
   "cell_type": "markdown",
   "metadata": {},
   "source": [
    "### CR_2.01 - RSA-Walkthrough"
   ]
  },
  {
   "cell_type": "code",
   "execution_count": 5,
   "metadata": {},
   "outputs": [
    {
     "data": {
      "text/plain": [
       "(6317103708538266451, 123362224183149454760914059890512892802364944513140)"
      ]
     },
     "execution_count": 5,
     "metadata": {},
     "output_type": "execute_result"
    }
   ],
   "source": [
    "p = 2221337201\n",
    "q = 2843829251\n",
    "n = p * q\n",
    "m = 'This is the plaintext'\n",
    "m = int.from_bytes(m.encode(encoding='utf-8'), 'big')\n",
    "\n",
    "n, m"
   ]
  },
  {
   "cell_type": "code",
   "execution_count": 6,
   "metadata": {},
   "outputs": [
    {
     "data": {
      "text/plain": [
       "3390834262716120890"
      ]
     },
     "execution_count": 6,
     "metadata": {},
     "output_type": "execute_result"
    }
   ],
   "source": [
    "p = 2808280283\n",
    "q = 3057260593\n",
    "m = 7487282020958042502\n",
    "e = 65537\n",
    "\n",
    "pow(m, e, p * q)"
   ]
  },
  {
   "cell_type": "code",
   "execution_count": 7,
   "metadata": {},
   "outputs": [
    {
     "data": {
      "text/plain": [
       "(15205105359690908400, 2286206390502986273)"
      ]
     },
     "execution_count": 7,
     "metadata": {},
     "output_type": "execute_result"
    }
   ],
   "source": [
    "p = 3657561241\n",
    "q = 4157170411\n",
    "e = 65537\n",
    "phi_n = (p - 1) * (q - 1)\n",
    "d = pow(e, -1, phi_n)\n",
    "\n",
    "phi_n, d"
   ]
  },
  {
   "cell_type": "code",
   "execution_count": 8,
   "metadata": {},
   "outputs": [
    {
     "data": {
      "text/plain": [
       "5269962892846684248"
      ]
     },
     "execution_count": 8,
     "metadata": {},
     "output_type": "execute_result"
    }
   ],
   "source": [
    "from sympy import mod_inverse\n",
    "\n",
    "p = 3695512349\n",
    "q = 3142004123\n",
    "e = 65537\n",
    "c = 273619730108140611\n",
    "\n",
    "n = p * q\n",
    "phi_n = (p - 1) * (q - 1)\n",
    "d = mod_inverse(e, phi_n)\n",
    "\n",
    "pow(c, d, n)"
   ]
  },
  {
   "cell_type": "markdown",
   "metadata": {},
   "source": [
    "```txt\n",
    "Welcome to the RSA interactive tutorial!\n",
    "Follow me...\n",
    "Level 1\n",
    "p = 2221337201\n",
    "q = 2843829251\n",
    "n = ?\n",
    "6317103708538266451\n",
    "Correct!\n",
    "Level 2\n",
    "message = This is the plaintext\n",
    "m = ?\n",
    "123362224183149454760914059890512892802364944513140\n",
    "Correct!\n",
    "Level 3\n",
    "p = 2808280283\n",
    "q = 3057260593\n",
    "m = 7487282020958042502\n",
    "e = 65537\n",
    "c = ?\n",
    "3390834262716120890\n",
    "Correct!\n",
    "Level 4\n",
    "p = 3657561241\n",
    "q = 4157170411\n",
    "e = 65537\n",
    "tot(n) = ?\n",
    "15205105359690908400\n",
    "Correct!\n",
    "d = ?\n",
    "2286206390502986273\n",
    "Correct!\n",
    "Level 5\n",
    "p = 3695512349\n",
    "q = 3142004123\n",
    "e = 65537\n",
    "c = 273619730108140611\n",
    "m = ?\n",
    "5269962892846684248\n",
    "Correct!\n",
    "Great! Here's your flag:\n",
    "CCIT{W3lc0me_t0_RSA!}\n",
    "```"
   ]
  }
 ],
 "metadata": {
  "kernelspec": {
   "display_name": "base",
   "language": "python",
   "name": "python3"
  },
  "language_info": {
   "codemirror_mode": {
    "name": "ipython",
    "version": 3
   },
   "file_extension": ".py",
   "mimetype": "text/x-python",
   "name": "python",
   "nbconvert_exporter": "python",
   "pygments_lexer": "ipython3",
   "version": "3.11.5"
  }
 },
 "nbformat": 4,
 "nbformat_minor": 2
}
