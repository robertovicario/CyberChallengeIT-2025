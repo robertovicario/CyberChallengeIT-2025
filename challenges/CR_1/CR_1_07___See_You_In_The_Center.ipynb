{
 "cells": [
  {
   "cell_type": "markdown",
   "metadata": {},
   "source": [
    "### CR_1.07 - See You In The Center"
   ]
  },
  {
   "cell_type": "code",
   "execution_count": 10,
   "metadata": {},
   "outputs": [],
   "source": [
    "import base64\n",
    "\n",
    "def encrypt(clear, key):\n",
    "    enc = []\n",
    "    for i in range(len(clear)):\n",
    "        key_c = key[i % len(key)]\n",
    "        enc_c = chr((ord(clear[i]) + ord(key_c)) % 128)\n",
    "        enc.append(enc_c)\n",
    "    return str(base64.urlsafe_b64encode(''.join(enc).encode('ascii')), 'ascii')\n",
    "\n",
    "def decrypt(enc, key):\n",
    "    dec = []\n",
    "    enc = str(base64.urlsafe_b64decode(enc.encode('ascii')), 'ascii')\n",
    "    for i in range(len(enc)):\n",
    "        key_c = key[i % len(key)]\n",
    "        dec_c = chr((128 + ord(enc[i]) - ord(key_c)) % 128)\n",
    "        dec.append(dec_c)\n",
    "    return ''.join(dec)"
   ]
  },
  {
   "cell_type": "code",
   "execution_count": 11,
   "metadata": {},
   "outputs": [
    {
     "data": {
      "text/plain": [
       "'CCIT{ufoundit}'"
      ]
     },
     "execution_count": 11,
     "metadata": {},
     "output_type": "execute_result"
    }
   ],
   "source": [
    "import itertools\n",
    "import string\n",
    "\n",
    "m = 'See you later in the city center'\n",
    "c = 'QSldSTQ7HkpIJj9cQBY3VUhbQ01HXD9VRBVYSkE6UWRQS0NHRVE3VUQrTDE='\n",
    "\n",
    "k1_candidates = {}\n",
    "for candidate in itertools.product(string.ascii_lowercase, repeat=4):\n",
    "    k1 = ''.join(candidate)\n",
    "    i_1 = encrypt(m, k1)\n",
    "    k1_candidates[i_1] = k1\n",
    "\n",
    "k2_candidates = {}\n",
    "for candidate in itertools.product(string.ascii_lowercase, repeat=4):\n",
    "    k2 = ''.join(candidate)\n",
    "    i_2 = decrypt(c, k2)\n",
    "    k2_candidates[i_2] = k2\n",
    "\n",
    "key = ''\n",
    "for i in k1_candidates:\n",
    "    if i in k2_candidates:\n",
    "        key = ''.join({k1_candidates[i] + k2_candidates[i]})\n",
    "        break\n",
    "\n",
    "'CCIT{' + key + '}'"
   ]
  }
 ],
 "metadata": {
  "kernelspec": {
   "display_name": "base",
   "language": "python",
   "name": "python3"
  },
  "language_info": {
   "codemirror_mode": {
    "name": "ipython",
    "version": 3
   },
   "file_extension": ".py",
   "mimetype": "text/x-python",
   "name": "python",
   "nbconvert_exporter": "python",
   "pygments_lexer": "ipython3",
   "version": "3.11.5"
  }
 },
 "nbformat": 4,
 "nbformat_minor": 2
}
