{
 "cells": [
  {
   "cell_type": "markdown",
   "metadata": {},
   "source": [
    "### CR_2.01 - RSA-Walkthrough"
   ]
  },
  {
   "cell_type": "code",
   "execution_count": null,
   "metadata": {},
   "outputs": [
    {
     "name": "stdout",
     "output_type": "stream",
     "text": [
      "[x] Opening connection to rsa.challs.cyberchallenge.it on port 9040\n",
      "[x] Opening connection to rsa.challs.cyberchallenge.it on port 9040: Trying 5.75.221.48\n",
      "[+] Opening connection to rsa.challs.cyberchallenge.it on port 9040: Done\n"
     ]
    },
    {
     "name": "stderr",
     "output_type": "stream",
     "text": [
      "/var/folders/3n/vf15kv6n675_m6mzk8p8rfxr0000gn/T/ipykernel_20085/2296774633.py:8: BytesWarning: Text is not bytes; assuming ASCII, no guarantees. See https://docs.pwntools.com/#bytes\n",
      "  r.recvuntil('p = ')\n",
      "/var/folders/3n/vf15kv6n675_m6mzk8p8rfxr0000gn/T/ipykernel_20085/2296774633.py:10: BytesWarning: Text is not bytes; assuming ASCII, no guarantees. See https://docs.pwntools.com/#bytes\n",
      "  r.recvuntil('q = ')\n",
      "/var/folders/3n/vf15kv6n675_m6mzk8p8rfxr0000gn/T/ipykernel_20085/2296774633.py:14: BytesWarning: Text is not bytes; assuming ASCII, no guarantees. See https://docs.pwntools.com/#bytes\n",
      "  r.sendline(str(n))\n",
      "/var/folders/3n/vf15kv6n675_m6mzk8p8rfxr0000gn/T/ipykernel_20085/2296774633.py:20: BytesWarning: Text is not bytes; assuming ASCII, no guarantees. See https://docs.pwntools.com/#bytes\n",
      "  r.sendline(str(m))\n",
      "/var/folders/3n/vf15kv6n675_m6mzk8p8rfxr0000gn/T/ipykernel_20085/2296774633.py:24: BytesWarning: Text is not bytes; assuming ASCII, no guarantees. See https://docs.pwntools.com/#bytes\n",
      "  r.recvuntil('p = ')\n",
      "/var/folders/3n/vf15kv6n675_m6mzk8p8rfxr0000gn/T/ipykernel_20085/2296774633.py:26: BytesWarning: Text is not bytes; assuming ASCII, no guarantees. See https://docs.pwntools.com/#bytes\n",
      "  r.recvuntil('q = ')\n",
      "/var/folders/3n/vf15kv6n675_m6mzk8p8rfxr0000gn/T/ipykernel_20085/2296774633.py:28: BytesWarning: Text is not bytes; assuming ASCII, no guarantees. See https://docs.pwntools.com/#bytes\n",
      "  r.recvuntil('m = ')\n",
      "/var/folders/3n/vf15kv6n675_m6mzk8p8rfxr0000gn/T/ipykernel_20085/2296774633.py:30: BytesWarning: Text is not bytes; assuming ASCII, no guarantees. See https://docs.pwntools.com/#bytes\n",
      "  r.recvuntil('e = ')\n",
      "/var/folders/3n/vf15kv6n675_m6mzk8p8rfxr0000gn/T/ipykernel_20085/2296774633.py:35: BytesWarning: Text is not bytes; assuming ASCII, no guarantees. See https://docs.pwntools.com/#bytes\n",
      "  r.sendline(str(c))\n",
      "/var/folders/3n/vf15kv6n675_m6mzk8p8rfxr0000gn/T/ipykernel_20085/2296774633.py:39: BytesWarning: Text is not bytes; assuming ASCII, no guarantees. See https://docs.pwntools.com/#bytes\n",
      "  r.recvuntil('p = ')\n",
      "/var/folders/3n/vf15kv6n675_m6mzk8p8rfxr0000gn/T/ipykernel_20085/2296774633.py:41: BytesWarning: Text is not bytes; assuming ASCII, no guarantees. See https://docs.pwntools.com/#bytes\n",
      "  r.recvuntil('q = ')\n",
      "/var/folders/3n/vf15kv6n675_m6mzk8p8rfxr0000gn/T/ipykernel_20085/2296774633.py:43: BytesWarning: Text is not bytes; assuming ASCII, no guarantees. See https://docs.pwntools.com/#bytes\n",
      "  r.recvuntil('e = ')\n",
      "/var/folders/3n/vf15kv6n675_m6mzk8p8rfxr0000gn/T/ipykernel_20085/2296774633.py:47: BytesWarning: Text is not bytes; assuming ASCII, no guarantees. See https://docs.pwntools.com/#bytes\n",
      "  r.sendline(str(phi_n))\n",
      "/var/folders/3n/vf15kv6n675_m6mzk8p8rfxr0000gn/T/ipykernel_20085/2296774633.py:49: BytesWarning: Text is not bytes; assuming ASCII, no guarantees. See https://docs.pwntools.com/#bytes\n",
      "  r.sendline(str(d))\n",
      "/var/folders/3n/vf15kv6n675_m6mzk8p8rfxr0000gn/T/ipykernel_20085/2296774633.py:53: BytesWarning: Text is not bytes; assuming ASCII, no guarantees. See https://docs.pwntools.com/#bytes\n",
      "  r.recvuntil('p = ')\n",
      "/var/folders/3n/vf15kv6n675_m6mzk8p8rfxr0000gn/T/ipykernel_20085/2296774633.py:55: BytesWarning: Text is not bytes; assuming ASCII, no guarantees. See https://docs.pwntools.com/#bytes\n",
      "  r.recvuntil('q = ')\n",
      "/var/folders/3n/vf15kv6n675_m6mzk8p8rfxr0000gn/T/ipykernel_20085/2296774633.py:57: BytesWarning: Text is not bytes; assuming ASCII, no guarantees. See https://docs.pwntools.com/#bytes\n",
      "  r.recvuntil('e = ')\n",
      "/var/folders/3n/vf15kv6n675_m6mzk8p8rfxr0000gn/T/ipykernel_20085/2296774633.py:59: BytesWarning: Text is not bytes; assuming ASCII, no guarantees. See https://docs.pwntools.com/#bytes\n",
      "  r.recvuntil('c = ')\n",
      "/var/folders/3n/vf15kv6n675_m6mzk8p8rfxr0000gn/T/ipykernel_20085/2296774633.py:66: BytesWarning: Text is not bytes; assuming ASCII, no guarantees. See https://docs.pwntools.com/#bytes\n",
      "  r.sendline(str(m))\n",
      "/var/folders/3n/vf15kv6n675_m6mzk8p8rfxr0000gn/T/ipykernel_20085/2296774633.py:70: BytesWarning: Text is not bytes; assuming ASCII, no guarantees. See https://docs.pwntools.com/#bytes\n",
      "  r.recvuntil('CCIT{')\n"
     ]
    },
    {
     "name": "stdout",
     "output_type": "stream",
     "text": [
      "[*] Closed connection to rsa.challs.cyberchallenge.it port 9040\n"
     ]
    }
   ],
   "source": [
    "from pwn import remote\n",
    "from sympy import mod_inverse\n",
    "\n",
    "r = remote('rsa.challs.cyberchallenge.it', 9040)\n",
    "\n",
    "# -------------------------\n",
    "\n",
    "r.recvuntil('p = ')\n",
    "p = int(r.recvline().strip())\n",
    "r.recvuntil('q = ')\n",
    "q = int(r.recvline().strip())\n",
    "\n",
    "n = p * q\n",
    "r.sendline(str(n))\n",
    "\n",
    "m = 'This is the plaintext'\n",
    "m = int.from_bytes(m.encode(), 'big')\n",
    "r.sendline(str(m))\n",
    "\n",
    "r.recvuntil('p = ')\n",
    "p = int(r.recvline().strip())\n",
    "r.recvuntil('q = ')\n",
    "q = int(r.recvline().strip())\n",
    "r.recvuntil('m = ')\n",
    "m = int(r.recvline().strip())\n",
    "r.recvuntil('e = ')\n",
    "e = int(r.recvline().strip())\n",
    "\n",
    "n = p * q\n",
    "c = pow(m, e, n)\n",
    "r.sendline(str(c))\n",
    "\n",
    "r.recvuntil('p = ')\n",
    "p = int(r.recvline().strip())\n",
    "r.recvuntil('q = ')\n",
    "q = int(r.recvline().strip())\n",
    "r.recvuntil('e = ')\n",
    "e = int(r.recvline().strip())\n",
    "\n",
    "phi_n = (p - 1) * (q - 1)\n",
    "r.sendline(str(phi_n))\n",
    "d = pow(e, -1, phi_n)\n",
    "r.sendline(str(d))\n",
    "\n",
    "r.recvuntil('p = ')\n",
    "p = int(r.recvline().strip())\n",
    "r.recvuntil('q = ')\n",
    "q = int(r.recvline().strip())\n",
    "r.recvuntil('e = ')\n",
    "e = int(r.recvline().strip())\n",
    "r.recvuntil('c = ')\n",
    "c = int(r.recvline().strip())\n",
    "\n",
    "n = p * q\n",
    "phi_n = (p - 1) * (q - 1)\n",
    "d = mod_inverse(e, phi_n)\n",
    "m = pow(c, d, n)\n",
    "r.sendline(str(m))\n",
    "\n",
    "r.recvuntil('CCIT{')\n",
    "flag = r.recvline().strip()\n",
    "\n",
    "r.close()"
   ]
  },
  {
   "cell_type": "code",
   "execution_count": 2,
   "metadata": {},
   "outputs": [
    {
     "data": {
      "text/plain": [
       "'CCIT{W3lc0me_t0_RSA!}'"
      ]
     },
     "execution_count": 2,
     "metadata": {},
     "output_type": "execute_result"
    }
   ],
   "source": [
    "'CCIT{' + flag.decode()[:-1] + '}'"
   ]
  }
 ],
 "metadata": {
  "kernelspec": {
   "display_name": "base",
   "language": "python",
   "name": "python3"
  },
  "language_info": {
   "codemirror_mode": {
    "name": "ipython",
    "version": 3
   },
   "file_extension": ".py",
   "mimetype": "text/x-python",
   "name": "python",
   "nbconvert_exporter": "python",
   "pygments_lexer": "ipython3",
   "version": "3.11.5"
  }
 },
 "nbformat": 4,
 "nbformat_minor": 2
}
