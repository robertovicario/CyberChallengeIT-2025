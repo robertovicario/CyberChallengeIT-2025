{
 "cells": [
  {
   "cell_type": "markdown",
   "metadata": {},
   "source": [
    "### CR_3.02 - Guess The Numbers 2"
   ]
  },
  {
   "cell_type": "code",
   "execution_count": 4,
   "metadata": {},
   "outputs": [],
   "source": [
    "m = 2115495185\n",
    "n = 2147483647\n",
    "v = [1680462708, 77243019]\n",
    "\n",
    "c = (v[1] - m * v[0]) % n\n",
    "\n",
    "seq = [v[0], v[1]]\n",
    "current_value = v[1]\n",
    "\n",
    "for _ in range(50):\n",
    "    next_value = (m * current_value + c) % n\n",
    "    seq.append(next_value)\n",
    "    current_value = next_value"
   ]
  },
  {
   "cell_type": "code",
   "execution_count": 5,
   "metadata": {},
   "outputs": [
    {
     "name": "stdout",
     "output_type": "stream",
     "text": [
      "[x] Opening connection to gtn2.challs.cyberchallenge.it on port 9061\n",
      "[x] Opening connection to gtn2.challs.cyberchallenge.it on port 9061: Trying 5.75.221.48\n",
      "[+] Opening connection to gtn2.challs.cyberchallenge.it on port 9061: Done\n",
      "[*] Closed connection to gtn2.challs.cyberchallenge.it port 9061\n"
     ]
    },
    {
     "name": "stderr",
     "output_type": "stream",
     "text": [
      "/var/folders/3n/vf15kv6n675_m6mzk8p8rfxr0000gn/T/ipykernel_20766/97329764.py:9: BytesWarning: Text is not bytes; assuming ASCII, no guarantees. See https://docs.pwntools.com/#bytes\n",
      "  r.recvuntil('CCIT')\n"
     ]
    }
   ],
   "source": [
    "from pwn import remote\n",
    "r = remote('gtn2.challs.cyberchallenge.it', 9061)\n",
    "\n",
    "# -------------------------\n",
    "\n",
    "for num in seq[2:]:\n",
    "    r.sendline(str(num).encode())\n",
    "\n",
    "r.recvuntil('CCIT')\n",
    "flag = r.recvline().decode().strip()\n",
    "\n",
    "r.close()"
   ]
  },
  {
   "cell_type": "code",
   "execution_count": 6,
   "metadata": {},
   "outputs": [
    {
     "data": {
      "text/plain": [
       "'CCIT{fun_st4rts_h3r3}'"
      ]
     },
     "execution_count": 6,
     "metadata": {},
     "output_type": "execute_result"
    }
   ],
   "source": [
    "'CCIT' + flag"
   ]
  }
 ],
 "metadata": {
  "kernelspec": {
   "display_name": "base",
   "language": "python",
   "name": "python3"
  },
  "language_info": {
   "codemirror_mode": {
    "name": "ipython",
    "version": 3
   },
   "file_extension": ".py",
   "mimetype": "text/x-python",
   "name": "python",
   "nbconvert_exporter": "python",
   "pygments_lexer": "ipython3",
   "version": "3.11.5"
  }
 },
 "nbformat": 4,
 "nbformat_minor": 2
}
