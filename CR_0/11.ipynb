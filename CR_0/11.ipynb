{
 "cells": [
  {
   "cell_type": "markdown",
   "metadata": {},
   "source": [
    "##### Crypto 11 - RSA helpline"
   ]
  },
  {
   "cell_type": "code",
   "execution_count": 121,
   "metadata": {},
   "outputs": [],
   "source": [
    "p = 17\n",
    "q = 11\n",
    "n = p * q"
   ]
  },
  {
   "cell_type": "code",
   "execution_count": 122,
   "metadata": {},
   "outputs": [],
   "source": [
    "m = 3"
   ]
  },
  {
   "cell_type": "code",
   "execution_count": 123,
   "metadata": {},
   "outputs": [],
   "source": [
    "phi_n = (p - 1) * (q - 1)"
   ]
  },
  {
   "cell_type": "code",
   "execution_count": 124,
   "metadata": {},
   "outputs": [],
   "source": [
    "e = 7"
   ]
  },
  {
   "cell_type": "code",
   "execution_count": 125,
   "metadata": {},
   "outputs": [],
   "source": [
    "c = pow(m, e) % n"
   ]
  },
  {
   "cell_type": "code",
   "execution_count": 126,
   "metadata": {},
   "outputs": [],
   "source": [
    "from sympy import mod_inverse\n",
    "d = mod_inverse(e, phi_n)"
   ]
  },
  {
   "cell_type": "code",
   "execution_count": 127,
   "metadata": {},
   "outputs": [
    {
     "data": {
      "text/plain": [
       "'{\"n\": 187, \"m\": 3, \"phi_n\": 160, \"e\": 7, \"c\": 130, \"d\": 23}'"
      ]
     },
     "execution_count": 127,
     "metadata": {},
     "output_type": "execute_result"
    }
   ],
   "source": [
    "import json\n",
    "json.dumps({\n",
    "    \"n\": n,\n",
    "    \"m\": m,\n",
    "    \"phi_n\": phi_n,\n",
    "    \"e\": e,\n",
    "    \"c\": c,\n",
    "    \"d\": d,\n",
    "})"
   ]
  },
  {
   "cell_type": "raw",
   "metadata": {
    "vscode": {
     "languageId": "raw"
    }
   },
   "source": [
    "Salve! Questo è un tutorial su RSA.\n",
    "\n",
    "Riprendiamo ciò che hai visto a lezione.\n",
    "RSA è uno schema basato sull'aritmetica modulare.\n",
    "\n",
    "Ho scelto due piccoli numeri primi. p = 17, q = 11.\n",
    "Il loro prodotto sarà il modulo (n) che utilizzeremo per fare tutte le operazioni del caso.\n",
    "n = ? 187\n",
    "Corretto!\n",
    "\n",
    "Ora, a noi interessa fare potenze modulo n: questo ci permetterà di cifrare e decifrare i nostri messaggi.\n",
    "Prima di tutto scegli un numero, che sarà il nostro messaggio da cifrare.\n",
    "m = ? 3\n",
    "\n",
    "ϕ(n) è la funzione di Eulero: corrisponde al numero di invertibili modulo n, ossia a\n",
    "quanti interi tra 1 ed n-1 sono coprimi con n. Nel caso in cui n = pq, ϕ(n) = (p-1)(q-1).\n",
    "ϕ(n) = ? 160\n",
    "Corretto!\n",
    "\n",
    "Infatti in questo caso gli invertibili modulo n sono:\n",
    "[1, 2, 3, 4, 5, 6, 7, 8, 9, 10, 12, 13, 14, 15, 16, 18, 19, 20, 21, 23, 24, 25, 26, 27, 28, 29, 30, 31, 32, 35, 36, 37, 38, 39, 40, 41, 42, 43, 45, 46, 47, 48, 49, 50, 52, 53, 54, 56, 57, 58, 59, 60, 61, 62, 63, 64, 65, 67, 69, 70, 71, 72, 73, 74, 75, 76, 78, 79, 80, 81, 82, 83, 84, 86, 87, 89, 90, 91, 92, 93, 94, 95, 96, 97, 98, 100, 101, 103, 104, 105, 106, 107, 108, 109, 111, 112, 113, 114, 115, 116, 117, 118, 120, 122, 123, 124, 125, 126, 127, 128, 129, 130, 131, 133, 134, 135, 137, 138, 139, 140, 141, 142, 144, 145, 146, 147, 148, 149, 150, 151, 152, 155, 156, 157, 158, 159, 160, 161, 162, 163, 164, 166, 167, 168, 169, 171, 172, 173, 174, 175, 177, 178, 179, 180, 181, 182, 183, 184, 185, 186], len == 160.\n",
    "\n",
    "Nota come calcolare ϕ(n) sia possibile solo grazie alla conoscenza dei fattori di n.\n",
    "Sì, in questo caso siamo anche riusciti ad elencare esplicitamente tutti gli invertibili, ma\n",
    "in generale p,q sono numeri molto molto grandi e l'unico modo (efficiente) è ricorrere alla formula.\n",
    "\n",
    "La sicurezza di RSA è fondata proprio su questo fatto: impedire a tutti i costi ad un attaccante\n",
    "di fattorizzare il modulo e dunque di recuperare ϕ(n).\n",
    "Per questo motivo il modulo (n) è parte della chiave pubblica, mentre la sua fattorizzazione è privata.\n",
    "\n",
    "Torniamo a noi: potenze modulo n. Abbiamo la base m = 3, scegli un esponente.\n",
    "e = ? 7\n",
    "\n",
    "Ottimo! Cifra ora il messaggio scelto con l'esponente pubblico scelto: c = m^e (mod n).\n",
    "\n",
    "Nota: in Python qualcosa come c = m**e % n non va bene. Questo perché quella riga di codice calcola\n",
    "dapprima tutto m**e (che spesso diventa enorme), per poi effettuare la riduzione modulo n.\n",
    "Ci sono algoritmi più efficienti: se la curiosità ti infervora, prova a cercare \"esponenziazione modulare\".\n",
    "Altrimenti, un'occhiata veloce alla documentazione relativa alla funzione pow() potrebbe esserti d'aiuto..\n",
    "c = ? 130\n",
    "Corretto!\n",
    "\n",
    "Ottimo! Hai cifrato con successo il tuo messaggio. Ora vediamo come decifrarlo.\n",
    "\n",
    "Naturalmente, vorremmo \"effettuare la radice e-esima del nostro cifrato\".\n",
    "Questa, come potrai ormai immaginare, non corrisponde alla radice e-esima nei numeri reali.\n",
    "\n",
    "Viene in nostro soccorso il Teorema di Eulero:\n",
    "    Dati a,n interi coprimi, allora a^ϕ(n) = 1 (mod n).\n",
    "\n",
    "Quindi in realtà, come hai potuto vedere nelle slides, fare la radice e-esima negli interi modulo n\n",
    "corrisponde ad elevare il cifrato all'inverso modulare (rispetto a ϕ(n)) dell'esponente utilizzato!\n",
    "\n",
    "Questo è il motivo per cui GCD(e, ϕ(n)) dev'essere uguale a 1. Altrimenti non è possibile invertirlo!\n",
    "L'inverso dell'esponente pubblico si chiama esponente privato. Anche lui dev'essere mantenuto segreto!\n",
    "d = ? 23\n",
    "Corretto!\n",
    "\n",
    "Ottimo! Infatti pow(c,d,n) == m = True\n",
    "\n",
    "Da qui in avanti la strada che porta ad un'implementazione sicura di RSA è lunga e tortuosa: ci sarebbero moltissime\n",
    "altre cose da dire, dettagli a cui stare attenti, casi limite da evitare. Sicuramente, ora sei in possesso delle basi\n",
    "che ti servono per affrontare challenge un attimino più complesse di questa. Good job! :) flag{RSA_n0n_f4_p1u_C0s1_p4Ur4}"
   ]
  }
 ],
 "metadata": {
  "language_info": {
   "name": "python"
  }
 },
 "nbformat": 4,
 "nbformat_minor": 2
}
