{
 "cells": [
  {
   "cell_type": "markdown",
   "metadata": {},
   "source": [
    "### CR_2.10 - Friendly primes"
   ]
  },
  {
   "cell_type": "code",
   "execution_count": null,
   "metadata": {},
   "outputs": [
    {
     "ename": "IndentationError",
     "evalue": "expected an indented block after 'for' statement on line 10 (1370561589.py, line 11)",
     "output_type": "error",
     "traceback": [
      "\u001b[0;36m  Cell \u001b[0;32mIn[5], line 11\u001b[0;36m\u001b[0m\n\u001b[0;31m    for j in range(len(n)):\u001b[0m\n\u001b[0m    ^\u001b[0m\n\u001b[0;31mIndentationError\u001b[0m\u001b[0;31m:\u001b[0m expected an indented block after 'for' statement on line 10\n"
     ]
    }
   ],
   "source": [
    "n = 420485447340750276798905009197900250076472236951029771396372239960455176076395356078018304176360377601355361640360458283456532642841066439541542468492600074303505516012322941130021941063141150150454719702821666531692873286236281808915376205692263441233138891193279355717503716920577044748917446320341294227\n",
    "e = 65537\n",
    "c = 301134324702979101601229980817712305679459272403009847977905797426967147301009753074163263516519121214477239813381651880610545484766224816075639817078022502740923937485967968414814571266684481074873719521522276878916473424098420305091570571671905697759107642819692889627538051932664261696505877765760765011"
   ]
  }
 ],
 "metadata": {
  "kernelspec": {
   "display_name": "base",
   "language": "python",
   "name": "python3"
  },
  "language_info": {
   "codemirror_mode": {
    "name": "ipython",
    "version": 3
   },
   "file_extension": ".py",
   "mimetype": "text/x-python",
   "name": "python",
   "nbconvert_exporter": "python",
   "pygments_lexer": "ipython3",
   "version": "3.11.5"
  }
 },
 "nbformat": 4,
 "nbformat_minor": 2
}
