{
 "cells": [
  {
   "cell_type": "markdown",
   "metadata": {},
   "source": [
    "### CR_1.06 - Benchmark"
   ]
  },
  {
   "cell_type": "code",
   "execution_count": 1,
   "metadata": {},
   "outputs": [
    {
     "name": "stdout",
     "output_type": "stream",
     "text": [
      "[x] Opening connection to benchmark.challs.cyberchallenge.it on port 9031\n",
      "[x] Opening connection to benchmark.challs.cyberchallenge.it on port 9031: Trying 5.75.221.48\n",
      "[+] Opening connection to benchmark.challs.cyberchallenge.it on port 9031: Done\n",
      "CCIT{s\n",
      "CCIT{s1\n",
      "CCIT{s1d\n",
      "CCIT{s1d3\n",
      "CCIT{s1d3_\n",
      "CCIT{s1d3_c\n",
      "CCIT{s1d3_ch\n",
      "CCIT{s1d3_ch4\n",
      "CCIT{s1d3_ch4n\n",
      "CCIT{s1d3_ch4nn\n",
      "CCIT{s1d3_ch4nn3\n",
      "CCIT{s1d3_ch4nn3l\n",
      "CCIT{s1d3_ch4nn3ls\n",
      "CCIT{s1d3_ch4nn3ls_\n",
      "CCIT{s1d3_ch4nn3ls_r\n",
      "CCIT{s1d3_ch4nn3ls_r_\n",
      "CCIT{s1d3_ch4nn3ls_r_c\n",
      "CCIT{s1d3_ch4nn3ls_r_c0\n",
      "CCIT{s1d3_ch4nn3ls_r_c00\n",
      "CCIT{s1d3_ch4nn3ls_r_c00l\n"
     ]
    },
    {
     "ename": "EOFError",
     "evalue": "",
     "output_type": "error",
     "traceback": [
      "\u001b[0;31m---------------------------------------------------------------------------\u001b[0m",
      "\u001b[0;31mEOFError\u001b[0m                                  Traceback (most recent call last)",
      "Cell \u001b[0;32mIn[1], line 18\u001b[0m\n\u001b[1;32m     16\u001b[0m maxt, maxc \u001b[38;5;241m=\u001b[39m \u001b[38;5;241m0\u001b[39m, \u001b[38;5;28;01mNone\u001b[39;00m\n\u001b[1;32m     17\u001b[0m \u001b[38;5;28;01mfor\u001b[39;00m c \u001b[38;5;129;01min\u001b[39;00m printable[:\u001b[38;5;241m-\u001b[39m\u001b[38;5;241m6\u001b[39m]:\n\u001b[0;32m---> 18\u001b[0m     t \u001b[38;5;241m=\u001b[39m \u001b[43msend\u001b[49m\u001b[43m(\u001b[49m\u001b[43mflag\u001b[49m\u001b[43m \u001b[49m\u001b[38;5;241;43m+\u001b[39;49m\u001b[43m \u001b[49m\u001b[43mc\u001b[49m\u001b[43m)\u001b[49m\n\u001b[1;32m     19\u001b[0m     \u001b[38;5;28;01mif\u001b[39;00m t \u001b[38;5;241m>\u001b[39m maxt:\n\u001b[1;32m     20\u001b[0m         maxt \u001b[38;5;241m=\u001b[39m t\n",
      "Cell \u001b[0;32mIn[1], line 9\u001b[0m, in \u001b[0;36msend\u001b[0;34m(s)\u001b[0m\n\u001b[1;32m      7\u001b[0m \u001b[38;5;28;01mdef\u001b[39;00m \u001b[38;5;21msend\u001b[39m(s):\n\u001b[1;32m      8\u001b[0m     p\u001b[38;5;241m.\u001b[39msendline(s\u001b[38;5;241m.\u001b[39mencode())\n\u001b[0;32m----> 9\u001b[0m     \u001b[43mp\u001b[49m\u001b[38;5;241;43m.\u001b[39;49m\u001b[43mrecvuntil\u001b[49m\u001b[43m(\u001b[49m\u001b[38;5;124;43mb\u001b[39;49m\u001b[38;5;124;43m\"\u001b[39;49m\u001b[38;5;124;43mchecked in \u001b[39;49m\u001b[38;5;124;43m\"\u001b[39;49m\u001b[43m)\u001b[49m\n\u001b[1;32m     10\u001b[0m     n \u001b[38;5;241m=\u001b[39m p\u001b[38;5;241m.\u001b[39mrecvline()\u001b[38;5;241m.\u001b[39mstrip()\n\u001b[1;32m     11\u001b[0m     n \u001b[38;5;241m=\u001b[39m n[:n\u001b[38;5;241m.\u001b[39mindex(\u001b[38;5;124mb\u001b[39m\u001b[38;5;124m\"\u001b[39m\u001b[38;5;124m \u001b[39m\u001b[38;5;124m\"\u001b[39m)]\n",
      "File \u001b[0;32m~/anaconda3/lib/python3.11/site-packages/pwnlib/tubes/tube.py:341\u001b[0m, in \u001b[0;36mtube.recvuntil\u001b[0;34m(self, delims, drop, timeout)\u001b[0m\n\u001b[1;32m    339\u001b[0m \u001b[38;5;28;01mwhile\u001b[39;00m \u001b[38;5;28mself\u001b[39m\u001b[38;5;241m.\u001b[39mcountdown_active():\n\u001b[1;32m    340\u001b[0m     \u001b[38;5;28;01mtry\u001b[39;00m:\n\u001b[0;32m--> 341\u001b[0m         res \u001b[38;5;241m=\u001b[39m \u001b[38;5;28;43mself\u001b[39;49m\u001b[38;5;241;43m.\u001b[39;49m\u001b[43mrecv\u001b[49m\u001b[43m(\u001b[49m\u001b[43mtimeout\u001b[49m\u001b[38;5;241;43m=\u001b[39;49m\u001b[38;5;28;43mself\u001b[39;49m\u001b[38;5;241;43m.\u001b[39;49m\u001b[43mtimeout\u001b[49m\u001b[43m)\u001b[49m\n\u001b[1;32m    342\u001b[0m     \u001b[38;5;28;01mexcept\u001b[39;00m \u001b[38;5;167;01mException\u001b[39;00m:\n\u001b[1;32m    343\u001b[0m         \u001b[38;5;28mself\u001b[39m\u001b[38;5;241m.\u001b[39munrecv(\u001b[38;5;124mb\u001b[39m\u001b[38;5;124m'\u001b[39m\u001b[38;5;124m'\u001b[39m\u001b[38;5;241m.\u001b[39mjoin(data) \u001b[38;5;241m+\u001b[39m top)\n",
      "File \u001b[0;32m~/anaconda3/lib/python3.11/site-packages/pwnlib/tubes/tube.py:106\u001b[0m, in \u001b[0;36mtube.recv\u001b[0;34m(self, numb, timeout)\u001b[0m\n\u001b[1;32m     75\u001b[0m \u001b[38;5;250m\u001b[39m\u001b[38;5;124mr\u001b[39m\u001b[38;5;124;03m\"\"\"recv(numb = 4096, timeout = default) -> bytes\u001b[39;00m\n\u001b[1;32m     76\u001b[0m \n\u001b[1;32m     77\u001b[0m \u001b[38;5;124;03mReceives up to `numb` bytes of data from the tube, and returns\u001b[39;00m\n\u001b[0;32m   (...)\u001b[0m\n\u001b[1;32m    103\u001b[0m \u001b[38;5;124;03m        b'Hello, world'\u001b[39;00m\n\u001b[1;32m    104\u001b[0m \u001b[38;5;124;03m\"\"\"\u001b[39;00m\n\u001b[1;32m    105\u001b[0m numb \u001b[38;5;241m=\u001b[39m \u001b[38;5;28mself\u001b[39m\u001b[38;5;241m.\u001b[39mbuffer\u001b[38;5;241m.\u001b[39mget_fill_size(numb)\n\u001b[0;32m--> 106\u001b[0m \u001b[38;5;28;01mreturn\u001b[39;00m \u001b[38;5;28;43mself\u001b[39;49m\u001b[38;5;241;43m.\u001b[39;49m\u001b[43m_recv\u001b[49m\u001b[43m(\u001b[49m\u001b[43mnumb\u001b[49m\u001b[43m,\u001b[49m\u001b[43m \u001b[49m\u001b[43mtimeout\u001b[49m\u001b[43m)\u001b[49m \u001b[38;5;129;01mor\u001b[39;00m \u001b[38;5;124mb\u001b[39m\u001b[38;5;124m'\u001b[39m\u001b[38;5;124m'\u001b[39m\n",
      "File \u001b[0;32m~/anaconda3/lib/python3.11/site-packages/pwnlib/tubes/tube.py:176\u001b[0m, in \u001b[0;36mtube._recv\u001b[0;34m(self, numb, timeout)\u001b[0m\n\u001b[1;32m    172\u001b[0m numb \u001b[38;5;241m=\u001b[39m \u001b[38;5;28mself\u001b[39m\u001b[38;5;241m.\u001b[39mbuffer\u001b[38;5;241m.\u001b[39mget_fill_size(numb)\n\u001b[1;32m    174\u001b[0m \u001b[38;5;66;03m# No buffered data, could not put anything in the buffer\u001b[39;00m\n\u001b[1;32m    175\u001b[0m \u001b[38;5;66;03m# before timeout.\u001b[39;00m\n\u001b[0;32m--> 176\u001b[0m \u001b[38;5;28;01mif\u001b[39;00m \u001b[38;5;129;01mnot\u001b[39;00m \u001b[38;5;28mself\u001b[39m\u001b[38;5;241m.\u001b[39mbuffer \u001b[38;5;129;01mand\u001b[39;00m \u001b[38;5;129;01mnot\u001b[39;00m \u001b[38;5;28;43mself\u001b[39;49m\u001b[38;5;241;43m.\u001b[39;49m\u001b[43m_fillbuffer\u001b[49m\u001b[43m(\u001b[49m\u001b[43mtimeout\u001b[49m\u001b[43m)\u001b[49m:\n\u001b[1;32m    177\u001b[0m     \u001b[38;5;28;01mreturn\u001b[39;00m \u001b[38;5;124mb\u001b[39m\u001b[38;5;124m'\u001b[39m\u001b[38;5;124m'\u001b[39m\n\u001b[1;32m    179\u001b[0m \u001b[38;5;28;01mreturn\u001b[39;00m \u001b[38;5;28mself\u001b[39m\u001b[38;5;241m.\u001b[39mbuffer\u001b[38;5;241m.\u001b[39mget(numb)\n",
      "File \u001b[0;32m~/anaconda3/lib/python3.11/site-packages/pwnlib/tubes/tube.py:155\u001b[0m, in \u001b[0;36mtube._fillbuffer\u001b[0;34m(self, timeout)\u001b[0m\n\u001b[1;32m    152\u001b[0m data \u001b[38;5;241m=\u001b[39m \u001b[38;5;124mb\u001b[39m\u001b[38;5;124m'\u001b[39m\u001b[38;5;124m'\u001b[39m\n\u001b[1;32m    154\u001b[0m \u001b[38;5;28;01mwith\u001b[39;00m \u001b[38;5;28mself\u001b[39m\u001b[38;5;241m.\u001b[39mlocal(timeout):\n\u001b[0;32m--> 155\u001b[0m     data \u001b[38;5;241m=\u001b[39m \u001b[38;5;28;43mself\u001b[39;49m\u001b[38;5;241;43m.\u001b[39;49m\u001b[43mrecv_raw\u001b[49m\u001b[43m(\u001b[49m\u001b[38;5;28;43mself\u001b[39;49m\u001b[38;5;241;43m.\u001b[39;49m\u001b[43mbuffer\u001b[49m\u001b[38;5;241;43m.\u001b[39;49m\u001b[43mget_fill_size\u001b[49m\u001b[43m(\u001b[49m\u001b[43m)\u001b[49m\u001b[43m)\u001b[49m\n\u001b[1;32m    157\u001b[0m \u001b[38;5;28;01mif\u001b[39;00m data \u001b[38;5;129;01mand\u001b[39;00m \u001b[38;5;28mself\u001b[39m\u001b[38;5;241m.\u001b[39misEnabledFor(logging\u001b[38;5;241m.\u001b[39mDEBUG):\n\u001b[1;32m    158\u001b[0m     \u001b[38;5;28mself\u001b[39m\u001b[38;5;241m.\u001b[39mdebug(\u001b[38;5;124m'\u001b[39m\u001b[38;5;124mReceived \u001b[39m\u001b[38;5;132;01m%#x\u001b[39;00m\u001b[38;5;124m bytes:\u001b[39m\u001b[38;5;124m'\u001b[39m \u001b[38;5;241m%\u001b[39m \u001b[38;5;28mlen\u001b[39m(data))\n",
      "File \u001b[0;32m~/anaconda3/lib/python3.11/site-packages/pwnlib/tubes/sock.py:56\u001b[0m, in \u001b[0;36msock.recv_raw\u001b[0;34m(self, numb, *a)\u001b[0m\n\u001b[1;32m     54\u001b[0m \u001b[38;5;28;01mif\u001b[39;00m \u001b[38;5;129;01mnot\u001b[39;00m data:\n\u001b[1;32m     55\u001b[0m     \u001b[38;5;28mself\u001b[39m\u001b[38;5;241m.\u001b[39mshutdown(\u001b[38;5;124m\"\u001b[39m\u001b[38;5;124mrecv\u001b[39m\u001b[38;5;124m\"\u001b[39m)\n\u001b[0;32m---> 56\u001b[0m     \u001b[38;5;28;01mraise\u001b[39;00m \u001b[38;5;167;01mEOFError\u001b[39;00m\n\u001b[1;32m     58\u001b[0m \u001b[38;5;28;01mreturn\u001b[39;00m data\n",
      "\u001b[0;31mEOFError\u001b[0m: "
     ]
    }
   ],
   "source": [
    "from pwn import *\n",
    "from string import printable\n",
    "\n",
    "p = remote(\"benchmark.challs.cyberchallenge.it\", 9031)\n",
    "p.recvuntil(b\"check:\")\n",
    "\n",
    "def send(s):\n",
    "    p.sendline(s.encode())\n",
    "    p.recvuntil(b\"checked in \")\n",
    "    n = p.recvline().strip()\n",
    "    n = n[:n.index(b\" \")]\n",
    "    return int(n)\n",
    "\n",
    "flag = \"CCIT{\"\n",
    "while True:\n",
    "    maxt, maxc = 0, None\n",
    "    for c in printable[:-6]:\n",
    "        t = send(flag + c)\n",
    "        if t > maxt:\n",
    "            maxt = t\n",
    "            maxc = c\n",
    "    flag = flag + maxc\n",
    "    print(flag)\n",
    "    if maxc == \"}\":\n",
    "        break\n",
    "\n",
    "flag"
   ]
  }
 ],
 "metadata": {
  "kernelspec": {
   "display_name": "base",
   "language": "python",
   "name": "python3"
  },
  "language_info": {
   "codemirror_mode": {
    "name": "ipython",
    "version": 3
   },
   "file_extension": ".py",
   "mimetype": "text/x-python",
   "name": "python",
   "nbconvert_exporter": "python",
   "pygments_lexer": "ipython3",
   "version": "3.11.5"
  }
 },
 "nbformat": 4,
 "nbformat_minor": 2
}
