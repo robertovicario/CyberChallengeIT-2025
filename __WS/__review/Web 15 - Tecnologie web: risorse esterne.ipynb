{
 "cells": [
  {
   "cell_type": "markdown",
   "metadata": {},
   "source": [
    "### Web 15 - Tecnologie web: risorse esterne"
   ]
  },
  {
   "cell_type": "code",
   "execution_count": 1,
   "metadata": {},
   "outputs": [
    {
     "name": "stdout",
     "output_type": "stream",
     "text": [
      "Trovata flag in http://web-15.challs.olicyber.it/dynamic.js:\n",
      "/*\n",
      " * Make titles dynamic\n",
      " *\n",
      " * P.s.: flag{5n00ping_4r0und}\n",
      " *\n",
      " */\n",
      "\n",
      "const colors = [\"black\", \"red\", \"green\", \"blue\"];\n",
      "var color_index = 0;\n",
      "\n",
      "function change_titles_color() {\n",
      "  color_index = (color_index + 1) % colors.length;\n",
      "  for (let el of document.getElementsByTagName(\"h1\")) {\n",
      "    el.style.color = colors[color_index];\n",
      "  }\n",
      "  window.setTimeout(change_titles_color, 800);\n",
      "}\n",
      "\n",
      "window.setTimeout(change_titles_color, 800);\n"
     ]
    }
   ],
   "source": [
    "import requests\n",
    "from bs4 import BeautifulSoup\n",
    "\n",
    "# L'URL della pagina web\n",
    "url = \"http://web-15.challs.olicyber.it/\"\n",
    "\n",
    "# Funzione per scaricare una risorsa esterna e cercare la flag\n",
    "def cerca_flag_in_risorsa(risorsa_url):\n",
    "    try:\n",
    "        response = requests.get(risorsa_url)\n",
    "        if response.status_code == 200:\n",
    "            # Cerca la stringa \"flag{\" nella risorsa scaricata\n",
    "            if \"flag{\" in response.text:\n",
    "                print(f\"Trovata flag in {risorsa_url}:\")\n",
    "                print(response.text)\n",
    "    except requests.RequestException as e:\n",
    "        print(f\"Errore nel recupero della risorsa {risorsa_url}: {e}\")\n",
    "\n",
    "# Ottieni il contenuto della pagina principale\n",
    "response = requests.get(url)\n",
    "\n",
    "# Verifica se la richiesta è andata a buon fine\n",
    "if response.status_code == 200:\n",
    "    # Utilizza BeautifulSoup per fare il parsing del contenuto HTML\n",
    "    soup = BeautifulSoup(response.content, \"html.parser\")\n",
    "\n",
    "    # Trova tutte le risorse esterne: tag <link> e <script>\n",
    "    risorse = []\n",
    "\n",
    "    # Aggiungi i link esterni (CSS) dai tag <link>\n",
    "    for link in soup.find_all('link', href=True):\n",
    "        if link['rel'][0] == 'stylesheet':  # Cerca solo i fogli di stile\n",
    "            risorse.append(link['href'])\n",
    "\n",
    "    # Aggiungi gli script esterni (JS) dai tag <script>\n",
    "    for script in soup.find_all('script', src=True):\n",
    "        risorse.append(script['src'])\n",
    "\n",
    "    # Aggiungi le risorse esterne da URL assoluti o relativi\n",
    "    for risorsa in risorse:\n",
    "        # Se l'URL è relativo, trasformalo in un URL assoluto\n",
    "        if risorsa.startswith('http'):\n",
    "            risorsa_url = risorsa\n",
    "        else:\n",
    "            risorsa_url = url.rstrip('/') + '/' + risorsa.lstrip('/')\n",
    "\n",
    "        # Cerca la flag nella risorsa esterna\n",
    "        cerca_flag_in_risorsa(risorsa_url)\n",
    "\n",
    "else:\n",
    "    print(f\"Errore nel recupero della pagina principale, codice di stato: {response.status_code}\")\n"
   ]
  }
 ],
 "metadata": {
  "kernelspec": {
   "display_name": "base",
   "language": "python",
   "name": "python3"
  },
  "language_info": {
   "codemirror_mode": {
    "name": "ipython",
    "version": 3
   },
   "file_extension": ".py",
   "mimetype": "text/x-python",
   "name": "python",
   "nbconvert_exporter": "python",
   "pygments_lexer": "ipython3",
   "version": "3.11.5"
  }
 },
 "nbformat": 4,
 "nbformat_minor": 2
}
