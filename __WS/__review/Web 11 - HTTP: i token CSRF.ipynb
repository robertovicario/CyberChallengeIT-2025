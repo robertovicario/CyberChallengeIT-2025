{
 "cells": [
  {
   "cell_type": "markdown",
   "metadata": {},
   "source": [
    "### Web 11 - HTTP: i token CSRF"
   ]
  },
  {
   "cell_type": "code",
   "execution_count": 10,
   "metadata": {},
   "outputs": [
    {
     "name": "stdout",
     "output_type": "stream",
     "text": [
      "Login riuscito! Token CSRF iniziale: df70d117290c72ef\n",
      "Flag piece 0: flag{v3ry_\n",
      "Flag piece 1: 53ri0u5_53\n",
      "Flag piece 2: ri35_0f_r3\n",
      "Flag piece 3: qu3575}\n"
     ]
    }
   ],
   "source": [
    "import requests\n",
    "\n",
    "# URL del server\n",
    "login_url = \"http://web-11.challs.olicyber.it/login\"\n",
    "flag_url = \"http://web-11.challs.olicyber.it/flag_piece\"\n",
    "\n",
    "# Dati di login\n",
    "login_data = {\n",
    "    \"username\": \"admin\",\n",
    "    \"password\": \"admin\"\n",
    "}\n",
    "\n",
    "# Crea una sessione\n",
    "session = requests.Session()\n",
    "\n",
    "# Step 1: Effettua il login\n",
    "login_response = session.post(login_url, json=login_data)\n",
    "\n",
    "# Verifica se il login ha avuto successo\n",
    "if login_response.status_code == 200:\n",
    "    # Estrai il cookie di sessione e il token CSRF dalla risposta\n",
    "    cookies = login_response.cookies\n",
    "    csrf_token = login_response.json().get(\"csrf\")\n",
    "    print(f\"Login riuscito! Token CSRF iniziale: {csrf_token}\")\n",
    "else:\n",
    "    print(\"Login fallito!\")\n",
    "    exit()\n",
    "\n",
    "# Step 2: Funzione per ottenere un pezzo della flag\n",
    "def get_flag_piece(index, csrf_token):\n",
    "    params = {\n",
    "        \"index\": index,\n",
    "        \"csrf\": csrf_token\n",
    "    }\n",
    "    \n",
    "    # Effettua la richiesta GET per ottenere il pezzo della flag\n",
    "    flag_response = session.get(flag_url, params=params, cookies=cookies)\n",
    "    \n",
    "    if flag_response.status_code == 200:\n",
    "        # Estrai il pezzo della flag e il nuovo token CSRF\n",
    "        flag_piece = flag_response.json().get(\"flag_piece\")\n",
    "        new_csrf_token = flag_response.json().get(\"csrf\")\n",
    "        print(f\"Flag piece {index}: {flag_piece}\")\n",
    "        return new_csrf_token\n",
    "    else:\n",
    "        print(f\"Errore nel recupero del pezzo della flag {index}: {flag_response.status_code}\")\n",
    "        return None\n",
    "\n",
    "# Step 3: Recupera i 4 pezzi della flag\n",
    "for i in range(4):\n",
    "    csrf_token = get_flag_piece(i, csrf_token)\n",
    "    if csrf_token is None:\n",
    "        break"
   ]
  }
 ],
 "metadata": {
  "kernelspec": {
   "display_name": "base",
   "language": "python",
   "name": "python3"
  },
  "language_info": {
   "codemirror_mode": {
    "name": "ipython",
    "version": 3
   },
   "file_extension": ".py",
   "mimetype": "text/x-python",
   "name": "python",
   "nbconvert_exporter": "python",
   "pygments_lexer": "ipython3",
   "version": "3.11.5"
  }
 },
 "nbformat": 4,
 "nbformat_minor": 2
}
