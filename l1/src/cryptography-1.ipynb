{
 "cells": [
  {
   "cell_type": "code",
   "execution_count": 1,
   "metadata": {},
   "outputs": [
    {
     "name": "stdout",
     "output_type": "stream",
     "text": [
      "1 UUAL{Ysamk_Bmdamk_Uswksj}\n",
      "2 VVBM{Ztbnl_Cnebnl_Vtxltk}\n",
      "3 WWCN{Aucom_Dofcom_Wuymul}\n",
      "4 XXDO{Bvdpn_Epgdpn_Xvznvm}\n",
      "5 YYEP{Cweqo_Fqheqo_Ywaown}\n",
      "6 ZZFQ{Dxfrp_Grifrp_Zxbpxo}\n",
      "7 AAGR{Eygsq_Hsjgsq_Aycqyp}\n",
      "8 BBHS{Fzhtr_Itkhtr_Bzdrzq}\n",
      "9 CCIT{Gaius_Julius_Caesar}\n",
      "10 DDJU{Hbjvt_Kvmjvt_Dbftbs}\n",
      "11 EEKV{Ickwu_Lwnkwu_Ecguct}\n",
      "12 FFLW{Jdlxv_Mxolxv_Fdhvdu}\n",
      "13 GGMX{Kemyw_Nypmyw_Geiwev}\n",
      "14 HHNY{Lfnzx_Ozqnzx_Hfjxfw}\n",
      "15 IIOZ{Mgoay_Paroay_Igkygx}\n",
      "16 JJPA{Nhpbz_Qbspbz_Jhlzhy}\n",
      "17 KKQB{Oiqca_Rctqca_Kimaiz}\n",
      "18 LLRC{Pjrdb_Sdurdb_Ljnbja}\n",
      "19 MMSD{Qksec_Tevsec_Mkockb}\n",
      "20 NNTE{Rltfd_Ufwtfd_Nlpdlc}\n",
      "21 OOUF{Smuge_Vgxuge_Omqemd}\n",
      "22 PPVG{Tnvhf_Whyvhf_Pnrfne}\n",
      "23 QQWH{Uowig_Xizwig_Qosgof}\n",
      "24 RRXI{Vpxjh_Yjaxjh_Rpthpg}\n",
      "25 SSYJ{Wqyki_Zkbyki_Squiqh}\n"
     ]
    }
   ],
   "source": [
    "msg = 'TTZK{Xrzlj_Alczlj_Trvjri}'\n",
    "for i in range(1,26):\n",
    "    print(i, end=' ')\n",
    "    for j in msg:\n",
    "        if j.isalpha():\n",
    "            if j.islower():\n",
    "                print(chr((ord(j)-ord('a')+i)%26+ord('a')), end='')\n",
    "            else:\n",
    "                print(chr((ord(j)-ord('A')+i)%26+ord('A')), end='')\n",
    "        else:\n",
    "            print(j, end='')\n",
    "    print()"
   ]
  }
 ],
 "metadata": {
  "kernelspec": {
   "display_name": "base",
   "language": "python",
   "name": "python3"
  },
  "language_info": {
   "codemirror_mode": {
    "name": "ipython",
    "version": 3
   },
   "file_extension": ".py",
   "mimetype": "text/x-python",
   "name": "python",
   "nbconvert_exporter": "python",
   "pygments_lexer": "ipython3",
   "version": "3.11.5"
  }
 },
 "nbformat": 4,
 "nbformat_minor": 2
}
