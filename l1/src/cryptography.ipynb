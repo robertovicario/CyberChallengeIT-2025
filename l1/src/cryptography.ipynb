{
 "cells": [
  {
   "cell_type": "markdown",
   "metadata": {},
   "source": [
    "##### Crypto 01 - Encoding 1"
   ]
  },
  {
   "cell_type": "code",
   "execution_count": 58,
   "metadata": {},
   "outputs": [
    {
     "name": "stdout",
     "output_type": "stream",
     "text": [
      "flag{ugh_NumB3r5_41r34dy}"
     ]
    }
   ],
   "source": [
    "l = [102, 108, 97, 103, 123, 117, 103, 104, 95, 78, 117, 109, 66, 51, 114, 53, 95, 52, 49, 114, 51, 52, 100, 121, 125]\n",
    "for i in l:\n",
    "    print(chr(i), end=\"\")"
   ]
  },
  {
   "cell_type": "markdown",
   "metadata": {},
   "source": [
    "##### Crypto 01 - Encoding 2"
   ]
  },
  {
   "cell_type": "code",
   "execution_count": 59,
   "metadata": {},
   "outputs": [
    {
     "name": "stdout",
     "output_type": "stream",
     "text": [
      "flag{h3x4decimal_c4n_b3_ABADBABE}\n"
     ]
    }
   ],
   "source": [
    "s = '666c61677b68337834646563696d616c5f63346e5f62335f41424144424142457d'\n",
    "print(bytes.fromhex(s).decode())"
   ]
  },
  {
   "cell_type": "markdown",
   "metadata": {},
   "source": [
    "##### Crypto 01 - Encoding 3"
   ]
  },
  {
   "cell_type": "code",
   "execution_count": 60,
   "metadata": {},
   "outputs": [
    {
     "name": "stdout",
     "output_type": "stream",
     "text": [
      "flag{w41t_1ts_all_b1ts?_4lw4ys_H4s_b33n}\n"
     ]
    }
   ],
   "source": [
    "from base64 import b64decode\n",
    "\n",
    "s = b64decode('ZmxhZ3t3NDF0XzF0c19hbGxfYjE=').decode()\n",
    "b = 664813035583918006462745898431981286737635929725\n",
    "\n",
    "n_bytes = (b.bit_length() + 7) // 8\n",
    "tmpB = b.to_bytes(n_bytes, 'big').decode()\n",
    "\n",
    "print(s + tmpB)"
   ]
  },
  {
   "cell_type": "markdown",
   "metadata": {},
   "source": [
    "##### Crypto 04 - Xor 1"
   ]
  },
  {
   "cell_type": "code",
   "execution_count": null,
   "metadata": {},
   "outputs": [
    {
     "name": "stdout",
     "output_type": "stream",
     "text": [
      "flag{x0R_f0r_th3_w1n!}\n"
     ]
    }
   ],
   "source": [
    "def xor(a, b):\n",
    "    return bytes([x ^ y for x, y in zip(a, b)])\n",
    "\n",
    "m1 = '158bbd7ca876c60530ee0e0bb2de20ef8af95bc60bdf'\n",
    "m2 = '73e7dc1bd30ef6576f883e79edaa48dcd58e6aa82aa2'\n",
    "\n",
    "print(xor(bytes.fromhex(m1), bytes.fromhex(m2)).decode())"
   ]
  },
  {
   "cell_type": "markdown",
   "metadata": {},
   "source": [
    "##### Crypto 05 - Xor 2"
   ]
  },
  {
   "cell_type": "code",
   "execution_count": 79,
   "metadata": {},
   "outputs": [
    {
     "name": "stdout",
     "output_type": "stream",
     "text": [
      "(0, '\\x10N\\x13\\x7fBYT\\x13\\x7ft\\x10\\x7fRU\\x11E\\x7fTh\\x13M\\x7f\\x14lL')\n",
      "(1, '\\x11O\\x12~CXU\\x12~u\\x11~ST\\x10D~Ui\\x12L~\\x15mM')\n",
      "(2, '\\x12L\\x11}@[V\\x11}v\\x12}PW\\x13G}Vj\\x11O}\\x16nN')\n",
      "(3, '\\x13M\\x10|AZW\\x10|w\\x13|QV\\x12F|Wk\\x10N|\\x17oO')\n",
      "(4, '\\x14J\\x17{F]P\\x17{p\\x14{VQ\\x15A{Pl\\x17I{\\x10hH')\n",
      "(5, '\\x15K\\x16zG\\\\Q\\x16zq\\x15zWP\\x14@zQm\\x16Hz\\x11iI')\n",
      "(6, '\\x16H\\x15yD_R\\x15yr\\x16yTS\\x17CyRn\\x15Ky\\x12jJ')\n",
      "(7, '\\x17I\\x14xE^S\\x14xs\\x17xUR\\x16BxSo\\x14Jx\\x13kK')\n",
      "(8, '\\x18F\\x1bwJQ\\\\\\x1bw|\\x18wZ]\\x19Mw\\\\`\\x1bEw\\x1cdD')\n",
      "(9, '\\x19G\\x1avKP]\\x1av}\\x19v[\\\\\\x18Lv]a\\x1aDv\\x1deE')\n",
      "(10, '\\x1aD\\x19uHS^\\x19u~\\x1auX_\\x1bOu^b\\x19Gu\\x1efF')\n",
      "(11, '\\x1bE\\x18tIR_\\x18t\\x7f\\x1btY^\\x1aNt_c\\x18Ft\\x1fgG')\n",
      "(12, '\\x1cB\\x1fsNUX\\x1fsx\\x1cs^Y\\x1dIsXd\\x1fAs\\x18`@')\n",
      "(13, '\\x1dC\\x1erOTY\\x1ery\\x1dr_X\\x1cHrYe\\x1e@r\\x19aA')\n",
      "(14, '\\x1e@\\x1dqLWZ\\x1dqz\\x1eq\\\\[\\x1fKqZf\\x1dCq\\x1abB')\n",
      "(15, '\\x1fA\\x1cpMV[\\x1cp{\\x1fp]Z\\x1eJp[g\\x1cBp\\x1bcC')\n",
      "(16, '\\x00^\\x03oRID\\x03od\\x00oBE\\x01UoDx\\x03]o\\x04|\\\\')\n",
      "(17, '\\x01_\\x02nSHE\\x02ne\\x01nCD\\x00TnEy\\x02\\\\n\\x05}]')\n",
      "(18, '\\x02\\\\\\x01mPKF\\x01mf\\x02m@G\\x03WmFz\\x01_m\\x06~^')\n",
      "(19, '\\x03]\\x00lQJG\\x00lg\\x03lAF\\x02VlG{\\x00^l\\x07\\x7f_')\n",
      "(20, '\\x04Z\\x07kVM@\\x07k`\\x04kFA\\x05Qk@|\\x07Yk\\x00xX')\n",
      "(21, '\\x05[\\x06jWLA\\x06ja\\x05jG@\\x04PjA}\\x06Xj\\x01yY')\n",
      "(22, '\\x06X\\x05iTOB\\x05ib\\x06iDC\\x07SiB~\\x05[i\\x02zZ')\n",
      "(23, '\\x07Y\\x04hUNC\\x04hc\\x07hEB\\x06RhC\\x7f\\x04Zh\\x03{[')\n",
      "(24, '\\x08V\\x0bgZAL\\x0bgl\\x08gJM\\t]gLp\\x0bUg\\x0ctT')\n",
      "(25, '\\tW\\nf[@M\\nfm\\tfKL\\x08\\\\fMq\\nTf\\ruU')\n",
      "(26, '\\nT\\teXCN\\ten\\neHO\\x0b_eNr\\tWe\\x0evV')\n",
      "(27, '\\x0bU\\x08dYBO\\x08do\\x0bdIN\\n^dOs\\x08Vd\\x0fwW')\n",
      "(28, '\\x0cR\\x0fc^EH\\x0fch\\x0ccNI\\rYcHt\\x0fQc\\x08pP')\n",
      "(29, '\\rS\\x0eb_DI\\x0ebi\\rbOH\\x0cXbIu\\x0ePb\\tqQ')\n",
      "(30, '\\x0eP\\ra\\\\GJ\\raj\\x0eaLK\\x0f[aJv\\rSa\\nrR')\n",
      "(31, '\\x0fQ\\x0c`]FK\\x0c`k\\x0f`MJ\\x0eZ`Kw\\x0cR`\\x0bsS')\n",
      "(32, '0n3_byt3_T0_ru1e_tH3m_4Ll')\n",
      "(33, '1o2^cxu2^U1^st0d^uI2l^5Mm')\n",
      "(34, '2l1]`{v1]V2]pw3g]vJ1o]6Nn')\n",
      "(35, '3m0\\\\azw0\\\\W3\\\\qv2f\\\\wK0n\\\\7Oo')\n",
      "(36, '4j7[f}p7[P4[vq5a[pL7i[0Hh')\n",
      "(37, '5k6Zg|q6ZQ5Zwp4`ZqM6hZ1Ii')\n",
      "(38, '6h5Yd\\x7fr5YR6Yts7cYrN5kY2Jj')\n",
      "(39, '7i4Xe~s4XS7Xur6bXsO4jX3Kk')\n",
      "(40, '8f;Wjq|;W\\\\8Wz}9mW|@;eW<Dd')\n",
      "(41, '9g:Vkp}:V]9V{|8lV}A:dV=Ee')\n",
      "(42, ':d9Uhs~9U^:Ux\\x7f;oU~B9gU>Ff')\n",
      "(43, ';e8Tir\\x7f8T_;Ty~:nT\\x7fC8fT?Gg')\n",
      "(44, '<b?Snux?SX<S~y=iSxD?aS8@`')\n",
      "(45, '=c>Roty>RY=R\\x7fx<hRyE>`R9Aa')\n",
      "(46, '>`=Qlwz=QZ>Q|{?kQzF=cQ:Bb')\n",
      "(47, '?a<Pmv{<P[?P}z>jP{G<bP;Cc')\n",
      "(48, ' ~#Orid#OD Obe!uOdX#}O$\\\\|')\n",
      "(49, '!\\x7f\"Nshe\"NE!Ncd tNeY\"|N%]}')\n",
      "(50, '\"|!Mpkf!MF\"M`g#wMfZ!\\x7fM&^~')\n",
      "(51, '#} Lqjg LG#Laf\"vLg[ ~L\\'_\\x7f')\n",
      "(52, \"$z'Kvm`'K@$Kfa%qK`\\\\'yK Xx\")\n",
      "(53, '%{&Jwla&JA%Jg`$pJa]&xJ!Yy')\n",
      "(54, '&x%Itob%IB&Idc\\'sIb^%{I\"Zz')\n",
      "(55, \"'y$Hunc$HC'Heb&rHc_$zH#[{\")\n",
      "(56, '(v+Gzal+GL(Gjm)}GlP+uG,Tt')\n",
      "(57, ')w*F{`m*FM)Fkl(|FmQ*tF-Uu')\n",
      "(58, '*t)Excn)EN*Eho+\\x7fEnR)wE.Vv')\n",
      "(59, '+u(Dybo(DO+Din*~DoS(vD/Ww')\n",
      "(60, ',r/C~eh/CH,Cni-yChT/qC(Pp')\n",
      "(61, '-s.B\\x7fdi.BI-Boh,xBiU.pB)Qq')\n",
      "(62, '.p-A|gj-AJ.Alk/{AjV-sA*Rr')\n",
      "(63, '/q,@}fk,@K/@mj.z@kW,r@+Ss')\n",
      "(64, 'P\\x0eS?\\x02\\x19\\x14S?4P?\\x12\\x15Q\\x05?\\x14(S\\r?T,\\x0c')\n",
      "(65, 'Q\\x0fR>\\x03\\x18\\x15R>5Q>\\x13\\x14P\\x04>\\x15)R\\x0c>U-\\r')\n",
      "(66, 'R\\x0cQ=\\x00\\x1b\\x16Q=6R=\\x10\\x17S\\x07=\\x16*Q\\x0f=V.\\x0e')\n",
      "(67, 'S\\rP<\\x01\\x1a\\x17P<7S<\\x11\\x16R\\x06<\\x17+P\\x0e<W/\\x0f')\n",
      "(68, 'T\\nW;\\x06\\x1d\\x10W;0T;\\x16\\x11U\\x01;\\x10,W\\t;P(\\x08')\n",
      "(69, 'U\\x0bV:\\x07\\x1c\\x11V:1U:\\x17\\x10T\\x00:\\x11-V\\x08:Q)\\t')\n",
      "(70, 'V\\x08U9\\x04\\x1f\\x12U92V9\\x14\\x13W\\x039\\x12.U\\x0b9R*\\n')\n",
      "(71, 'W\\tT8\\x05\\x1e\\x13T83W8\\x15\\x12V\\x028\\x13/T\\n8S+\\x0b')\n",
      "(72, 'X\\x06[7\\n\\x11\\x1c[7<X7\\x1a\\x1dY\\r7\\x1c [\\x057\\\\$\\x04')\n",
      "(73, 'Y\\x07Z6\\x0b\\x10\\x1dZ6=Y6\\x1b\\x1cX\\x0c6\\x1d!Z\\x046]%\\x05')\n",
      "(74, 'Z\\x04Y5\\x08\\x13\\x1eY5>Z5\\x18\\x1f[\\x0f5\\x1e\"Y\\x075^&\\x06')\n",
      "(75, \"[\\x05X4\\t\\x12\\x1fX4?[4\\x19\\x1eZ\\x0e4\\x1f#X\\x064_'\\x07\")\n",
      "(76, '\\\\\\x02_3\\x0e\\x15\\x18_38\\\\3\\x1e\\x19]\\t3\\x18$_\\x013X \\x00')\n",
      "(77, ']\\x03^2\\x0f\\x14\\x19^29]2\\x1f\\x18\\\\\\x082\\x19%^\\x002Y!\\x01')\n",
      "(78, '^\\x00]1\\x0c\\x17\\x1a]1:^1\\x1c\\x1b_\\x0b1\\x1a&]\\x031Z\"\\x02')\n",
      "(79, \"_\\x01\\\\0\\r\\x16\\x1b\\\\0;_0\\x1d\\x1a^\\n0\\x1b'\\\\\\x020[#\\x03\")\n",
      "(80, '@\\x1eC/\\x12\\t\\x04C/$@/\\x02\\x05A\\x15/\\x048C\\x1d/D<\\x1c')\n",
      "(81, 'A\\x1fB.\\x13\\x08\\x05B.%A.\\x03\\x04@\\x14.\\x059B\\x1c.E=\\x1d')\n",
      "(82, 'B\\x1cA-\\x10\\x0b\\x06A-&B-\\x00\\x07C\\x17-\\x06:A\\x1f-F>\\x1e')\n",
      "(83, \"C\\x1d@,\\x11\\n\\x07@,'C,\\x01\\x06B\\x16,\\x07;@\\x1e,G?\\x1f\")\n",
      "(84, 'D\\x1aG+\\x16\\r\\x00G+ D+\\x06\\x01E\\x11+\\x00<G\\x19+@8\\x18')\n",
      "(85, 'E\\x1bF*\\x17\\x0c\\x01F*!E*\\x07\\x00D\\x10*\\x01=F\\x18*A9\\x19')\n",
      "(86, 'F\\x18E)\\x14\\x0f\\x02E)\"F)\\x04\\x03G\\x13)\\x02>E\\x1b)B:\\x1a')\n",
      "(87, 'G\\x19D(\\x15\\x0e\\x03D(#G(\\x05\\x02F\\x12(\\x03?D\\x1a(C;\\x1b')\n",
      "(88, \"H\\x16K'\\x1a\\x01\\x0cK',H'\\n\\rI\\x1d'\\x0c0K\\x15'L4\\x14\")\n",
      "(89, 'I\\x17J&\\x1b\\x00\\rJ&-I&\\x0b\\x0cH\\x1c&\\r1J\\x14&M5\\x15')\n",
      "(90, 'J\\x14I%\\x18\\x03\\x0eI%.J%\\x08\\x0fK\\x1f%\\x0e2I\\x17%N6\\x16')\n",
      "(91, 'K\\x15H$\\x19\\x02\\x0fH$/K$\\t\\x0eJ\\x1e$\\x0f3H\\x16$O7\\x17')\n",
      "(92, 'L\\x12O#\\x1e\\x05\\x08O#(L#\\x0e\\tM\\x19#\\x084O\\x11#H0\\x10')\n",
      "(93, 'M\\x13N\"\\x1f\\x04\\tN\")M\"\\x0f\\x08L\\x18\"\\t5N\\x10\"I1\\x11')\n",
      "(94, 'N\\x10M!\\x1c\\x07\\nM!*N!\\x0c\\x0bO\\x1b!\\n6M\\x13!J2\\x12')\n",
      "(95, 'O\\x11L \\x1d\\x06\\x0bL +O \\r\\nN\\x1a \\x0b7L\\x12 K3\\x13')\n",
      "(96, 'p.s\\x1f\"94s\\x1f\\x14p\\x1f25q%\\x1f4\\x08s-\\x1ft\\x0c,')\n",
      "(97, 'q/r\\x1e#85r\\x1e\\x15q\\x1e34p$\\x1e5\\tr,\\x1eu\\r-')\n",
      "(98, \"r,q\\x1d ;6q\\x1d\\x16r\\x1d07s'\\x1d6\\nq/\\x1dv\\x0e.\")\n",
      "(99, 's-p\\x1c!:7p\\x1c\\x17s\\x1c16r&\\x1c7\\x0bp.\\x1cw\\x0f/')\n",
      "(100, 't*w\\x1b&=0w\\x1b\\x10t\\x1b61u!\\x1b0\\x0cw)\\x1bp\\x08(')\n",
      "(101, \"u+v\\x1a'<1v\\x1a\\x11u\\x1a70t \\x1a1\\rv(\\x1aq\\t)\")\n",
      "(102, 'v(u\\x19$?2u\\x19\\x12v\\x1943w#\\x192\\x0eu+\\x19r\\n*')\n",
      "(103, 'w)t\\x18%>3t\\x18\\x13w\\x1852v\"\\x183\\x0ft*\\x18s\\x0b+')\n",
      "(104, 'x&{\\x17*1<{\\x17\\x1cx\\x17:=y-\\x17<\\x00{%\\x17|\\x04$')\n",
      "(105, \"y'z\\x16+0=z\\x16\\x1dy\\x16;<x,\\x16=\\x01z$\\x16}\\x05%\")\n",
      "(106, \"z$y\\x15(3>y\\x15\\x1ez\\x158?{/\\x15>\\x02y'\\x15~\\x06&\")\n",
      "(107, \"{%x\\x14)2?x\\x14\\x1f{\\x149>z.\\x14?\\x03x&\\x14\\x7f\\x07'\")\n",
      "(108, '|\"\\x7f\\x13.58\\x7f\\x13\\x18|\\x13>9})\\x138\\x04\\x7f!\\x13x\\x00 ')\n",
      "(109, '}#~\\x12/49~\\x12\\x19}\\x12?8|(\\x129\\x05~ \\x12y\\x01!')\n",
      "(110, '~ }\\x11,7:}\\x11\\x1a~\\x11<;\\x7f+\\x11:\\x06}#\\x11z\\x02\"')\n",
      "(111, '\\x7f!|\\x10-6;|\\x10\\x1b\\x7f\\x10=:~*\\x10;\\x07|\"\\x10{\\x03#')\n",
      "(112, '`>c\\x0f2)$c\\x0f\\x04`\\x0f\"%a5\\x0f$\\x18c=\\x0fd\\x1c<')\n",
      "(113, 'a?b\\x0e3(%b\\x0e\\x05a\\x0e#$`4\\x0e%\\x19b<\\x0ee\\x1d=')\n",
      "(114, \"b<a\\r0+&a\\r\\x06b\\r 'c7\\r&\\x1aa?\\rf\\x1e>\")\n",
      "(115, \"c=`\\x0c1*'`\\x0c\\x07c\\x0c!&b6\\x0c'\\x1b`>\\x0cg\\x1f?\")\n",
      "(116, 'd:g\\x0b6- g\\x0b\\x00d\\x0b&!e1\\x0b \\x1cg9\\x0b`\\x188')\n",
      "(117, \"e;f\\n7,!f\\n\\x01e\\n' d0\\n!\\x1df8\\na\\x199\")\n",
      "(118, 'f8e\\t4/\"e\\t\\x02f\\t$#g3\\t\"\\x1ee;\\tb\\x1a:')\n",
      "(119, 'g9d\\x085.#d\\x08\\x03g\\x08%\"f2\\x08#\\x1fd:\\x08c\\x1b;')\n",
      "(120, 'h6k\\x07:!,k\\x07\\x0ch\\x07*-i=\\x07,\\x10k5\\x07l\\x144')\n",
      "(121, 'i7j\\x06; -j\\x06\\ri\\x06+,h<\\x06-\\x11j4\\x06m\\x155')\n",
      "(122, 'j4i\\x058#.i\\x05\\x0ej\\x05(/k?\\x05.\\x12i7\\x05n\\x166')\n",
      "(123, 'k5h\\x049\"/h\\x04\\x0fk\\x04).j>\\x04/\\x13h6\\x04o\\x177')\n",
      "(124, 'l2o\\x03>%(o\\x03\\x08l\\x03.)m9\\x03(\\x14o1\\x03h\\x100')\n",
      "(125, 'm3n\\x02?$)n\\x02\\tm\\x02/(l8\\x02)\\x15n0\\x02i\\x111')\n",
      "(126, \"n0m\\x01<'*m\\x01\\nn\\x01,+o;\\x01*\\x16m3\\x01j\\x122\")\n",
      "(127, 'o1l\\x00=&+l\\x00\\x0bo\\x00-*n:\\x00+\\x17l2\\x00k\\x133')\n"
     ]
    }
   ],
   "source": [
    "def xor(a, b):\n",
    "    return bytes([x ^ y for x, y in zip(a, b)])\n",
    "\n",
    "ciphertext = \"104e137f425954137f74107f525511457f5468134d7f146c4c\"\n",
    "d = []\n",
    "\n",
    "for k in range(128):\n",
    "    dec = bytes([b ^ k for b in bytes.fromhex(ciphertext)])\n",
    "    plain = dec.decode()\n",
    "    d.append((k, plain))\n",
    "\n",
    "for i in d:\n",
    "    print(i)"
   ]
  }
 ],
 "metadata": {
  "kernelspec": {
   "display_name": "base",
   "language": "python",
   "name": "python3"
  },
  "language_info": {
   "codemirror_mode": {
    "name": "ipython",
    "version": 3
   },
   "file_extension": ".py",
   "mimetype": "text/x-python",
   "name": "python",
   "nbconvert_exporter": "python",
   "pygments_lexer": "ipython3",
   "version": "3.11.5"
  }
 },
 "nbformat": 4,
 "nbformat_minor": 2
}
