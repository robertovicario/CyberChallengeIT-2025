{
 "cells": [
  {
   "cell_type": "markdown",
   "metadata": {},
   "source": [
    "### Crypto 13 - A Diffiecult communication"
   ]
  },
  {
   "cell_type": "markdown",
   "metadata": {
    "vscode": {
     "languageId": "plaintext"
    }
   },
   "source": [
    "Salve! Questo è il centralino D-H.\n",
    "Alice è in attesa di avere tue notizie! Purtroppo, questo canale di comunicazione non è sicuro.\n",
    "Per favore, scegli un \"safe prime\" da almeno 1024 bit. [Tale per cui (p-1)//2 sia a sua volta primo"
   ]
  },
  {
   "cell_type": "code",
   "execution_count": 6,
   "metadata": {},
   "outputs": [
    {
     "data": {
      "text/plain": [
       "<function __main__.<lambda>()>"
      ]
     },
     "execution_count": 6,
     "metadata": {},
     "output_type": "execute_result"
    }
   ],
   "source": [
    "\"\"\"\n",
    "Salve! Questo è il centralino D-H.\n",
    "Alice è in attesa di avere tue notizie! Purtroppo, questo canale di comunicazione non è sicuro.\n",
    "Per favore, scegli un \"safe prime\" da almeno 1024 bit. [Tale per cui (p-1)//2 sia a sua volta primo]\n",
    "\"\"\"\n",
    "\n",
    "import sympy\n",
    "\n",
    "prime_1024 = lambda: sympy.randprime(2**1023, 2**1024 - 1)\n",
    "prime_1024"
   ]
  }
 ],
 "metadata": {
  "kernelspec": {
   "display_name": "base",
   "language": "python",
   "name": "python3"
  },
  "language_info": {
   "codemirror_mode": {
    "name": "ipython",
    "version": 3
   },
   "file_extension": ".py",
   "mimetype": "text/x-python",
   "name": "python",
   "nbconvert_exporter": "python",
   "pygments_lexer": "ipython3",
   "version": "3.11.5"
  }
 },
 "nbformat": 4,
 "nbformat_minor": 2
}
