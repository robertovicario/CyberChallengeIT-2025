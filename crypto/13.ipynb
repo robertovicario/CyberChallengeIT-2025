{
 "cells": [
  {
   "cell_type": "markdown",
   "metadata": {},
   "source": [
    "### Crypto 13 - A Diffiecult communication"
   ]
  },
  {
   "cell_type": "markdown",
   "metadata": {
    "vscode": {
     "languageId": "plaintext"
    }
   },
   "source": [
    "Salve! Questo è il centralino D-H.\n",
    "Alice è in attesa di avere tue notizie! Purtroppo, questo canale di comunicazione non è sicuro.\n",
    "Per favore, scegli un \"safe prime\" da almeno 1024 bit. [Tale per cui (p-1)//2 sia a sua volta primo"
   ]
  },
  {
   "cell_type": "code",
   "execution_count": 9,
   "metadata": {},
   "outputs": [
    {
     "data": {
      "text/plain": [
       "89884656743115795386465259539451236680898848947115328636715040578866337902750481566354238661203768010560056939935696678829394884407208311246423715319737062188883946712432742638151109800623047059726541476042502884419075341171231440736956555270413618581675255342293149119973622969239858152417678164812113740223"
      ]
     },
     "execution_count": 9,
     "metadata": {},
     "output_type": "execute_result"
    }
   ],
   "source": [
    "from sympy import nextprime, isprime\n",
    "\n",
    "def find_safe_prime(bit_length):\n",
    "    \"\"\"Trova un safe prime di almeno `bit_length` bit.\"\"\"\n",
    "    candidate = nextprime(2**(bit_length - 1))  # Trova un primo grande abbastanza\n",
    "    while not isprime((candidate - 1) // 2):  # Controlla se (p-1)//2 è primo\n",
    "        candidate = nextprime(candidate)\n",
    "    return candidate\n",
    "\n",
    "# Genera un safe prime di almeno 1024 bit\n",
    "safe_prime_1024 = find_safe_prime(1024)\n",
    "safe_prime_1024\n"
   ]
  },
  {
   "cell_type": "code",
   "execution_count": 11,
   "metadata": {},
   "outputs": [],
   "source": [
    "g = 7"
   ]
  },
  {
   "cell_type": "code",
   "execution_count": null,
   "metadata": {},
   "outputs": [
    {
     "data": {
      "text/plain": [
       "47455051453476697900016954204998483093831087916458174414412400616483626079457516450872713365309957433907740883355701486855721023420671172832214069255152071313498023003276265590241995306574480958247770328971588972710784316629174712127436611490680686913973309498635695148563797975186725536376549536070865276925"
      ]
     },
     "execution_count": 12,
     "metadata": {},
     "output_type": "execute_result"
    }
   ],
   "source": [
    "import random\n",
    "\n",
    "# Generate a private key\n",
    "private_key = random.randint(2, safe_prime_1024 - 2)\n",
    "\n",
    "# Compute the public key\n",
    "public_key = pow(g, private_key, safe_prime_1024)\n",
    "public_key"
   ]
  },
  {
   "cell_type": "code",
   "execution_count": 16,
   "metadata": {},
   "outputs": [
    {
     "ename": "ValueError",
     "evalue": "Padding is incorrect.",
     "output_type": "error",
     "traceback": [
      "\u001b[0;31m---------------------------------------------------------------------------\u001b[0m",
      "\u001b[0;31mValueError\u001b[0m                                Traceback (most recent call last)",
      "Cell \u001b[0;32mIn[16], line 24\u001b[0m\n\u001b[1;32m     22\u001b[0m \u001b[38;5;66;03m# Decrypt the message using AES-CBC\u001b[39;00m\n\u001b[1;32m     23\u001b[0m cipher \u001b[38;5;241m=\u001b[39m AES\u001b[38;5;241m.\u001b[39mnew(aes_key, AES\u001b[38;5;241m.\u001b[39mMODE_CBC, iv)\n\u001b[0;32m---> 24\u001b[0m decrypted_msg \u001b[38;5;241m=\u001b[39m \u001b[43munpad\u001b[49m\u001b[43m(\u001b[49m\u001b[43mcipher\u001b[49m\u001b[38;5;241;43m.\u001b[39;49m\u001b[43mdecrypt\u001b[49m\u001b[43m(\u001b[49m\u001b[43mencrypted_msg\u001b[49m\u001b[43m)\u001b[49m\u001b[43m,\u001b[49m\u001b[43m \u001b[49m\u001b[43mAES\u001b[49m\u001b[38;5;241;43m.\u001b[39;49m\u001b[43mblock_size\u001b[49m\u001b[43m)\u001b[49m\n\u001b[1;32m     26\u001b[0m \u001b[38;5;66;03m# Print the decrypted message\u001b[39;00m\n\u001b[1;32m     27\u001b[0m \u001b[38;5;28mprint\u001b[39m(decrypted_msg\u001b[38;5;241m.\u001b[39mdecode(\u001b[38;5;124m'\u001b[39m\u001b[38;5;124mutf-8\u001b[39m\u001b[38;5;124m'\u001b[39m))\n",
      "File \u001b[0;32m~/anaconda3/lib/python3.11/site-packages/Crypto/Util/Padding.py:92\u001b[0m, in \u001b[0;36munpad\u001b[0;34m(padded_data, block_size, style)\u001b[0m\n\u001b[1;32m     90\u001b[0m padding_len \u001b[38;5;241m=\u001b[39m bord(padded_data[\u001b[38;5;241m-\u001b[39m\u001b[38;5;241m1\u001b[39m])\n\u001b[1;32m     91\u001b[0m \u001b[38;5;28;01mif\u001b[39;00m padding_len\u001b[38;5;241m<\u001b[39m\u001b[38;5;241m1\u001b[39m \u001b[38;5;129;01mor\u001b[39;00m padding_len\u001b[38;5;241m>\u001b[39m\u001b[38;5;28mmin\u001b[39m(block_size, pdata_len):\n\u001b[0;32m---> 92\u001b[0m     \u001b[38;5;28;01mraise\u001b[39;00m \u001b[38;5;167;01mValueError\u001b[39;00m(\u001b[38;5;124m\"\u001b[39m\u001b[38;5;124mPadding is incorrect.\u001b[39m\u001b[38;5;124m\"\u001b[39m)\n\u001b[1;32m     93\u001b[0m \u001b[38;5;28;01mif\u001b[39;00m style \u001b[38;5;241m==\u001b[39m \u001b[38;5;124m'\u001b[39m\u001b[38;5;124mpkcs7\u001b[39m\u001b[38;5;124m'\u001b[39m:\n\u001b[1;32m     94\u001b[0m     \u001b[38;5;28;01mif\u001b[39;00m padded_data[\u001b[38;5;241m-\u001b[39mpadding_len:]\u001b[38;5;241m!=\u001b[39mbchr(padding_len)\u001b[38;5;241m*\u001b[39mpadding_len:\n",
      "\u001b[0;31mValueError\u001b[0m: Padding is incorrect."
     ]
    }
   ],
   "source": [
    "from Crypto.Cipher import AES\n",
    "from Crypto.Util.Padding import unpad\n",
    "import binascii\n",
    "\n",
    "# Alice's public key (hex string)\n",
    "alice_public_key_hex = \"4860f09b33acdc93b84c6639dc5b1d276cd2814ef4305ae405d209848745e8434e13437494318556b6163ab973ef8155a6e02d648cda6a9f465e38b44353a14eb7a712553c6e8ead0350067a7a8ece6e9365f01eca99335f06534c65cec3ede55e6bf18252ca1cc980f1f4e50f80fafcfeb74268b98a83be4bc827edec7d23b8\"\n",
    "alice_public_key = int(alice_public_key_hex, 16)\n",
    "\n",
    "# Compute the shared secret\n",
    "shared_secret = pow(alice_public_key, private_key, safe_prime_1024)\n",
    "\n",
    "# Derive the AES key from the shared secret (using the first 32 bytes)\n",
    "aes_key = shared_secret.to_bytes((shared_secret.bit_length() + 7) // 8, byteorder='big')[:32]\n",
    "\n",
    "# IV and encrypted message (hex strings)\n",
    "iv_hex = \"ed1a96bcee32dd4137d48af28d414dd8\"\n",
    "msg_hex = \"6b3609e62dbe824843fa62704b903afb0d4504b51ef787424a86fbe6605b51e44f2439cb247abca651db30e79ef24f0efaa0c65458791ee41fe5d94f20da9fca\"\n",
    "\n",
    "iv = binascii.unhexlify(iv_hex)\n",
    "encrypted_msg = binascii.unhexlify(msg_hex)\n",
    "\n",
    "# Decrypt the message using AES-CBC\n",
    "cipher = AES.new(aes_key, AES.MODE_CBC, iv)\n",
    "decrypted_msg = unpad(cipher.decrypt(encrypted_msg), AES.block_size)\n",
    "\n",
    "# Print the decrypted message\n",
    "print(decrypted_msg.decode('utf-8'))"
   ]
  },
  {
   "cell_type": "raw",
   "metadata": {
    "vscode": {
     "languageId": "raw"
    }
   },
   "source": [
    "Salve! Questo è il centralino D-H.\n",
    "Alice è in attesa di avere tue notizie! Purtroppo, questo canale di comunicazione non è sicuro.\n",
    "Per favore, scegli un \"safe prime\" da almeno 1024 bit. [Tale per cui (p-1)//2 sia a sua volta primo]\n",
    "\n",
    "p: 89884656743115795386465259539451236680898848947115328636715040578866337902750481566354238661203768010560056939935696678829394884407208311246423715319737062188883946712432742638151109800623047059726541476042502884419075341171231440736956555270413618581675255342293149119973622969239858152417678164812113740223\n",
    "Ottimo! Scegli ora un generatore.\n",
    "g: 7\n",
    "Ben fatto!\n",
    "\n",
    "Alice: Ciao! Mandami la tua chiave pubblica, per favore. 47455051453476697900016954204998483093831087916458174414412400616483626079457516450872713365309957433907740883355701486855721023420671172832214069255152071313498023003276265590241995306574480958247770328971588972710784316629174712127436611490680686913973309498635695148563797975186725536376549536070865276925\n",
    "Alice: Grazie! Ecco la mia chiave pubblica. 4860f09b33acdc93b84c6639dc5b1d276cd2814ef4305ae405d209848745e8434e13437494318556b6163ab973ef8155a6e02d648cda6a9f465e38b44353a14eb7a712553c6e8ead0350067a7a8ece6e9365f01eca99335f06534c65cec3ede55e6bf18252ca1cc980f1f4e50f80fafcfeb74268b98a83be4bc827edec7d23b8\n",
    "Alice: Ed ecco il mio messaggio. L'ho cifrato con AES-CBC, utilizzando i primi bytes del nostro segreto condiviso!\n",
    "IV: ed1a96bcee32dd4137d48af28d414dd8\n",
    "msg: 6b3609e62dbe824843fa62704b903afb0d4504b51ef787424a86fbe6605b51e44f2439cb247abca651db30e79ef24f0efaa0c65458791ee41fe5d94f20da9fca"
   ]
  }
 ],
 "metadata": {
  "kernelspec": {
   "display_name": "base",
   "language": "python",
   "name": "python3"
  },
  "language_info": {
   "codemirror_mode": {
    "name": "ipython",
    "version": 3
   },
   "file_extension": ".py",
   "mimetype": "text/x-python",
   "name": "python",
   "nbconvert_exporter": "python",
   "pygments_lexer": "ipython3",
   "version": "3.11.5"
  }
 },
 "nbformat": 4,
 "nbformat_minor": 2
}
