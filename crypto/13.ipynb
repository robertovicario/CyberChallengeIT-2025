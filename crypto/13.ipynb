{
 "cells": [
  {
   "cell_type": "markdown",
   "metadata": {},
   "source": [
    "### Crypto 13 - A Diffiecult communication"
   ]
  },
  {
   "cell_type": "markdown",
   "metadata": {
    "vscode": {
     "languageId": "plaintext"
    }
   },
   "source": [
    "Salve! Questo è il centralino D-H.\n",
    "Alice è in attesa di avere tue notizie! Purtroppo, questo canale di comunicazione non è sicuro.\n",
    "Per favore, scegli un \"safe prime\" da almeno 1024 bit. [Tale per cui (p-1)//2 sia a sua volta primo"
   ]
  },
  {
   "cell_type": "code",
   "execution_count": 9,
   "metadata": {},
   "outputs": [
    {
     "data": {
      "text/plain": [
       "89884656743115795386465259539451236680898848947115328636715040578866337902750481566354238661203768010560056939935696678829394884407208311246423715319737062188883946712432742638151109800623047059726541476042502884419075341171231440736956555270413618581675255342293149119973622969239858152417678164812113740223"
      ]
     },
     "execution_count": 9,
     "metadata": {},
     "output_type": "execute_result"
    }
   ],
   "source": [
    "from sympy import nextprime, isprime\n",
    "\n",
    "def find_safe_prime(bit_length):\n",
    "    \"\"\"Trova un safe prime di almeno `bit_length` bit.\"\"\"\n",
    "    candidate = nextprime(2**(bit_length - 1))  # Trova un primo grande abbastanza\n",
    "    while not isprime((candidate - 1) // 2):  # Controlla se (p-1)//2 è primo\n",
    "        candidate = nextprime(candidate)\n",
    "    return candidate\n",
    "\n",
    "# Genera un safe prime di almeno 1024 bit\n",
    "safe_prime_1024 = find_safe_prime(1024)\n",
    "safe_prime_1024\n"
   ]
  },
  {
   "cell_type": "code",
   "execution_count": 11,
   "metadata": {},
   "outputs": [],
   "source": [
    "g = 7"
   ]
  },
  {
   "cell_type": "code",
   "execution_count": null,
   "metadata": {},
   "outputs": [
    {
     "data": {
      "text/plain": [
       "47455051453476697900016954204998483093831087916458174414412400616483626079457516450872713365309957433907740883355701486855721023420671172832214069255152071313498023003276265590241995306574480958247770328971588972710784316629174712127436611490680686913973309498635695148563797975186725536376549536070865276925"
      ]
     },
     "execution_count": 12,
     "metadata": {},
     "output_type": "execute_result"
    }
   ],
   "source": [
    "import random\n",
    "\n",
    "# Generate a private key\n",
    "private_key = random.randint(2, safe_prime_1024 - 2)\n",
    "\n",
    "# Compute the public key\n",
    "public_key = pow(g, private_key, safe_prime_1024)\n",
    "public_key"
   ]
  },
  {
   "cell_type": "code",
   "execution_count": 18,
   "metadata": {},
   "outputs": [
    {
     "name": "stdout",
     "output_type": "stream",
     "text": [
      "Messaggio decifrato: {2h#4Z)$xA#Ea\u0018L5\u001cz1hQ®H_@yt\u00036/\u0006@yE6\n"
     ]
    }
   ],
   "source": [
    "from Crypto.Util.number import long_to_bytes\n",
    "from Crypto.Cipher import AES\n",
    "from hashlib import sha256\n",
    "import binascii\n",
    "\n",
    "def decrypt_aes_cbc(ciphertext, key, iv):\n",
    "    cipher = AES.new(key, AES.MODE_CBC, iv)\n",
    "    plaintext = cipher.decrypt(ciphertext)\n",
    "    return plaintext.rstrip(b\"\\x00\")\n",
    "\n",
    "# Parametri Diffie-Hellman\n",
    "\n",
    "# Chiavi pubbliche\n",
    "alice_pub = 0x4860f09b33acdc93b84c6639dc5b1d276cd2814ef4305ae405d209848745e8434e13437494318556b6163ab973ef8155a6e02d648cda6a9f465e38b44353a14eb7a712553c6e8ead0350067a7a8ece6e9365f01eca99335f06534c65cec3ede55e6bf18252ca1cc980f1f4e50f80fafcfeb74268b98a83be4bc827edec7d23b8\n",
    "bob_priv = 1234567890123456789012345678901234567890  # Scegli una chiave privata segreta\n",
    "bob_pub = pow(g, bob_priv, p)\n",
    "\n",
    "# Calcola il segreto condiviso\n",
    "shared_secret = pow(alice_pub, bob_priv, p)\n",
    "shared_secret_bytes = long_to_bytes(shared_secret)\n",
    "\n",
    "aes_key = sha256(shared_secret_bytes).digest()[:16]  # Usa i primi 16 byte per AES-128\n",
    "\n",
    "# Dati cifrati\n",
    "iv = binascii.unhexlify(\"ed1a96bcee32dd4137d48af28d414dd8\")\n",
    "ciphertext = binascii.unhexlify(\"6b3609e62dbe824843fa62704b903afb0d4504b51ef787424a86fbe6605b51e44f2439cb247abca651db30e79ef24f0efaa0c65458791ee41fe5d94f20da9fca\")\n",
    "\n",
    "# Decrittazione\n",
    "plaintext = decrypt_aes_cbc(ciphertext, aes_key, iv)\n",
    "print(\"Messaggio decifrato:\", plaintext.decode(errors='ignore'))\n"
   ]
  },
  {
   "cell_type": "raw",
   "metadata": {
    "vscode": {
     "languageId": "raw"
    }
   },
   "source": [
    "Salve! Questo è il centralino D-H.\n",
    "Alice è in attesa di avere tue notizie! Purtroppo, questo canale di comunicazione non è sicuro.\n",
    "Per favore, scegli un \"safe prime\" da almeno 1024 bit. [Tale per cui (p-1)//2 sia a sua volta primo]\n",
    "\n",
    "p: 89884656743115795386465259539451236680898848947115328636715040578866337902750481566354238661203768010560056939935696678829394884407208311246423715319737062188883946712432742638151109800623047059726541476042502884419075341171231440736956555270413618581675255342293149119973622969239858152417678164812113740223\n",
    "Ottimo! Scegli ora un generatore.\n",
    "g: 7\n",
    "Ben fatto!\n",
    "\n",
    "Alice: Ciao! Mandami la tua chiave pubblica, per favore. 47455051453476697900016954204998483093831087916458174414412400616483626079457516450872713365309957433907740883355701486855721023420671172832214069255152071313498023003276265590241995306574480958247770328971588972710784316629174712127436611490680686913973309498635695148563797975186725536376549536070865276925\n",
    "Alice: Grazie! Ecco la mia chiave pubblica. 4860f09b33acdc93b84c6639dc5b1d276cd2814ef4305ae405d209848745e8434e13437494318556b6163ab973ef8155a6e02d648cda6a9f465e38b44353a14eb7a712553c6e8ead0350067a7a8ece6e9365f01eca99335f06534c65cec3ede55e6bf18252ca1cc980f1f4e50f80fafcfeb74268b98a83be4bc827edec7d23b8\n",
    "Alice: Ed ecco il mio messaggio. L'ho cifrato con AES-CBC, utilizzando i primi bytes del nostro segreto condiviso!\n",
    "IV: ed1a96bcee32dd4137d48af28d414dd8\n",
    "msg: 6b3609e62dbe824843fa62704b903afb0d4504b51ef787424a86fbe6605b51e44f2439cb247abca651db30e79ef24f0efaa0c65458791ee41fe5d94f20da9fca"
   ]
  }
 ],
 "metadata": {
  "kernelspec": {
   "display_name": "base",
   "language": "python",
   "name": "python3"
  },
  "language_info": {
   "codemirror_mode": {
    "name": "ipython",
    "version": 3
   },
   "file_extension": ".py",
   "mimetype": "text/x-python",
   "name": "python",
   "nbconvert_exporter": "python",
   "pygments_lexer": "ipython3",
   "version": "3.11.5"
  }
 },
 "nbformat": 4,
 "nbformat_minor": 2
}
