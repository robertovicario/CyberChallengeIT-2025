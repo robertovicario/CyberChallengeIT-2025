{
 "cells": [
  {
   "cell_type": "markdown",
   "metadata": {},
   "source": [
    "##### Crypto 12 - DH helpline"
   ]
  },
  {
   "cell_type": "raw",
   "metadata": {
    "vscode": {
     "languageId": "raw"
    }
   },
   "source": [
    "Salve! Questo è un tutorial sul protocollo di Diffie-Hellman.\n",
    "\n",
    "Se p è un numero primo, quanti numeri positivi minori di p sono coprimi con p?"
   ]
  },
  {
   "cell_type": "code",
   "execution_count": 147,
   "metadata": {},
   "outputs": [],
   "source": [
    "# Un numero è coprimo con p se il massimo comun divisore tra i due è 1\n",
    "# Se p è primo, allora tutti i numeri minori di p sono coprimi con p\n",
    "# Quindi la risposta è p-1"
   ]
  },
  {
   "cell_type": "code",
   "execution_count": 148,
   "metadata": {},
   "outputs": [
    {
     "data": {
      "text/plain": [
       "7.0"
      ]
     },
     "execution_count": 148,
     "metadata": {},
     "output_type": "execute_result"
    }
   ],
   "source": [
    "import math\n",
    "\n",
    "x = 128\n",
    "mod = 237991455785508507107731305374080213099\n",
    "base = 2\n",
    "\n",
    "math.log(x % mod, base)"
   ]
  },
  {
   "cell_type": "code",
   "execution_count": 149,
   "metadata": {},
   "outputs": [
    {
     "data": {
      "text/plain": [
       "16"
      ]
     },
     "execution_count": 149,
     "metadata": {},
     "output_type": "execute_result"
    }
   ],
   "source": [
    "from sympy.ntheory import discrete_log\n",
    "\n",
    "x = 88\n",
    "mod = 101\n",
    "base = 2\n",
    "\n",
    "discrete_log(mod, x, base)"
   ]
  },
  {
   "cell_type": "code",
   "execution_count": 150,
   "metadata": {},
   "outputs": [
    {
     "data": {
      "text/plain": [
       "(100, 51, 51)"
      ]
     },
     "execution_count": 150,
     "metadata": {},
     "output_type": "execute_result"
    }
   ],
   "source": [
    "p = 173\n",
    "g = 2\n",
    "A = 160\n",
    "\n",
    "b = 100\n",
    "B = pow(g, b, p)\n",
    "\n",
    "K_2 = pow(A, b, p)\n",
    "\n",
    "b, B, K_2"
   ]
  },
  {
   "cell_type": "code",
   "execution_count": null,
   "metadata": {},
   "outputs": [],
   "source": []
  }
 ],
 "metadata": {
  "kernelspec": {
   "display_name": "base",
   "language": "python",
   "name": "python3"
  },
  "language_info": {
   "codemirror_mode": {
    "name": "ipython",
    "version": 3
   },
   "file_extension": ".py",
   "mimetype": "text/x-python",
   "name": "python",
   "nbconvert_exporter": "python",
   "pygments_lexer": "ipython3",
   "version": "3.11.5"
  }
 },
 "nbformat": 4,
 "nbformat_minor": 2
}
