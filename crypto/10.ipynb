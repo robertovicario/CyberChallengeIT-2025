{
 "cells": [
  {
   "cell_type": "markdown",
   "metadata": {},
   "source": [
    "##### Crypto 10 - CRT"
   ]
  },
  {
   "cell_type": "raw",
   "metadata": {
    "vscode": {
     "languageId": "raw"
    }
   },
   "source": [
    "Buondì! Risolvi questo sistema di equazioni modulari per ottenere la flag.\n",
    "In bocca al lupo!\n",
    "\n",
    "x % 67 = 8\n",
    "x % 27 = 6\n",
    "x % 94 = 16\n",
    "x % 19 = 9\n",
    "x % 41 = 12\n",
    "x % 132465834 = ? "
   ]
  },
  {
   "cell_type": "code",
   "execution_count": 16,
   "metadata": {},
   "outputs": [
    {
     "data": {
      "text/plain": [
       "(mpz(125754720), 132465834)"
      ]
     },
     "execution_count": 16,
     "metadata": {},
     "output_type": "execute_result"
    }
   ],
   "source": [
    "from sympy.ntheory.modular import crt\n",
    "crt([67, 27, 94, 19, 41], [8, 6, 16, 9, 12])"
   ]
  },
  {
   "cell_type": "raw",
   "metadata": {
    "vscode": {
     "languageId": "raw"
    }
   },
   "source": [
    "L'algoritmo di Euclide è uno dei più antichi: appare per la prima volta negli \"Elementi\", 300 A.C. circa, ma risale probabilmente a prima di allora. \n",
    "\n",
    "Grande! flag{Ch1n3s3_m4th3m4t1c14n5_4r3_D0p3!}"
   ]
  }
 ],
 "metadata": {
  "kernelspec": {
   "display_name": "base",
   "language": "python",
   "name": "python3"
  },
  "language_info": {
   "codemirror_mode": {
    "name": "ipython",
    "version": 3
   },
   "file_extension": ".py",
   "mimetype": "text/x-python",
   "name": "python",
   "nbconvert_exporter": "python",
   "pygments_lexer": "ipython3",
   "version": "3.11.5"
  }
 },
 "nbformat": 4,
 "nbformat_minor": 2
}
