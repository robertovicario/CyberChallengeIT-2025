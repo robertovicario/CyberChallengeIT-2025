{
 "cells": [
  {
   "cell_type": "markdown",
   "metadata": {},
   "source": [
    "### Crypto 14 - PyCryptutorial 2"
   ]
  },
  {
   "cell_type": "code",
   "execution_count": 1,
   "metadata": {},
   "outputs": [
    {
     "name": "stdout",
     "output_type": "stream",
     "text": [
      "2daba465e04884079b220e455061be60740e2739cfc864c8dd650f8ec688700aa046d78d408725bb5e6f9fb6a387af25\n"
     ]
    }
   ],
   "source": [
    "\"\"\"\n",
    "Buondì! Benvenuto al secondo tutorial su PyCryptodome.\n",
    "Per ottenere la flag, rispondi correttamente ai quesiti facendo uso degli algoritmi asimmetrici offerti dalla libreria.\n",
    "\n",
    "msg = 'hash_me_pls'\n",
    "SHA3-384(msg) = ? (hex)\n",
    "\"\"\"\n",
    "from Crypto.Hash import SHA3_384\n",
    "\n",
    "msg = 'hash_me_pls'\n",
    "hasher = SHA3_384.new()\n",
    "hasher.update(msg.encode())\n",
    "digest = hasher.hexdigest()\n",
    "print(digest)"
   ]
  }
 ],
 "metadata": {
  "kernelspec": {
   "display_name": "base",
   "language": "python",
   "name": "python3"
  },
  "language_info": {
   "codemirror_mode": {
    "name": "ipython",
    "version": 3
   },
   "file_extension": ".py",
   "mimetype": "text/x-python",
   "name": "python",
   "nbconvert_exporter": "python",
   "pygments_lexer": "ipython3",
   "version": "3.11.5"
  }
 },
 "nbformat": 4,
 "nbformat_minor": 2
}
