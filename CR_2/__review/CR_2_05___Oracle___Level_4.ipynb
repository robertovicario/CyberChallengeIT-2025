{
 "cells": [
  {
   "cell_type": "markdown",
   "metadata": {},
   "source": [
    "### CR_2.05 - Oracle - Level 4"
   ]
  },
  {
   "cell_type": "code",
   "execution_count": 9,
   "metadata": {},
   "outputs": [
    {
     "name": "stdout",
     "output_type": "stream",
     "text": [
      "[x] Opening connection to oracle.challs.cyberchallenge.it on port 9044\n",
      "[x] Opening connection to oracle.challs.cyberchallenge.it on port 9044: Trying 5.75.221.48\n",
      "[+] Opening connection to oracle.challs.cyberchallenge.it on port 9044: Done\n"
     ]
    },
    {
     "name": "stderr",
     "output_type": "stream",
     "text": [
      "/var/folders/3n/vf15kv6n675_m6mzk8p8rfxr0000gn/T/ipykernel_19909/1027023754.py:15: BytesWarning: Text is not bytes; assuming ASCII, no guarantees. See https://docs.pwntools.com/#bytes\n",
      "  r.recvuntil('flag: ')\n",
      "/var/folders/3n/vf15kv6n675_m6mzk8p8rfxr0000gn/T/ipykernel_19909/1027023754.py:18: BytesWarning: Text is not bytes; assuming ASCII, no guarantees. See https://docs.pwntools.com/#bytes\n",
      "  r.recvuntil('> ')\n",
      "/var/folders/3n/vf15kv6n675_m6mzk8p8rfxr0000gn/T/ipykernel_19909/1027023754.py:21: BytesWarning: Text is not bytes; assuming ASCII, no guarantees. See https://docs.pwntools.com/#bytes\n",
      "  r.recvuntil('Ciphertext > ')\n",
      "/var/folders/3n/vf15kv6n675_m6mzk8p8rfxr0000gn/T/ipykernel_19909/1027023754.py:24: BytesWarning: Text is not bytes; assuming ASCII, no guarantees. See https://docs.pwntools.com/#bytes\n",
      "  r.recvuntil('Decrypted: ')\n",
      "/var/folders/3n/vf15kv6n675_m6mzk8p8rfxr0000gn/T/ipykernel_19909/1027023754.py:27: BytesWarning: Text is not bytes; assuming ASCII, no guarantees. See https://docs.pwntools.com/#bytes\n",
      "  r.recvuntil('> ')\n",
      "/var/folders/3n/vf15kv6n675_m6mzk8p8rfxr0000gn/T/ipykernel_19909/1027023754.py:30: BytesWarning: Text is not bytes; assuming ASCII, no guarantees. See https://docs.pwntools.com/#bytes\n",
      "  r.recvuntil('Ciphertext > ')\n",
      "/var/folders/3n/vf15kv6n675_m6mzk8p8rfxr0000gn/T/ipykernel_19909/1027023754.py:33: BytesWarning: Text is not bytes; assuming ASCII, no guarantees. See https://docs.pwntools.com/#bytes\n",
      "  r.recvuntil('Decrypted: ')\n",
      "/var/folders/3n/vf15kv6n675_m6mzk8p8rfxr0000gn/T/ipykernel_19909/1027023754.py:44: BytesWarning: Text is not bytes; assuming ASCII, no guarantees. See https://docs.pwntools.com/#bytes\n",
      "  r.recvuntil('> ')\n",
      "/var/folders/3n/vf15kv6n675_m6mzk8p8rfxr0000gn/T/ipykernel_19909/1027023754.py:47: BytesWarning: Text is not bytes; assuming ASCII, no guarantees. See https://docs.pwntools.com/#bytes\n",
      "  r.recvuntil('Ciphertext > ')\n",
      "/var/folders/3n/vf15kv6n675_m6mzk8p8rfxr0000gn/T/ipykernel_19909/1027023754.py:50: BytesWarning: Text is not bytes; assuming ASCII, no guarantees. See https://docs.pwntools.com/#bytes\n",
      "  r.recvuntil('Decrypted: ')\n"
     ]
    },
    {
     "data": {
      "text/plain": [
       "'CCIT{und3rfl0w_n0t_0verfl0w}'"
      ]
     },
     "execution_count": 9,
     "metadata": {},
     "output_type": "execute_result"
    }
   ],
   "source": [
    "from Crypto.Util.number import long_to_bytes\n",
    "from gmpy2 import *\n",
    "from pwn import *\n",
    "\n",
    "# e = 65537\n",
    "# c = flag_encrypted\n",
    "\n",
    "# c = m^e % n -> encrypt\n",
    "# m = c^d % n -> decrypt\n",
    "# n = ? --> \n",
    "HOST = \"oracle.challs.cyberchallenge.it\"\n",
    "PORT = 9044\n",
    "r = remote(HOST, PORT)\n",
    "\n",
    "r.recvuntil('flag: ')\n",
    "flag_encrypted = r.recvline().decode()[0:-1]\n",
    "\n",
    "r.recvuntil('> ')\n",
    "r.sendline(str(2).encode())\n",
    "\n",
    "r.recvuntil('Ciphertext > ')\n",
    "r.sendline(str(-1).encode())\n",
    "\n",
    "r.recvuntil('Decrypted: ')\n",
    "n_meno_1 = int(r.recvline().decode()[0:-1])\n",
    "\n",
    "r.recvuntil('> ')\n",
    "r.sendline(str(2).encode())\n",
    "\n",
    "r.recvuntil('Ciphertext > ')\n",
    "r.sendline(str(2).encode())\n",
    "\n",
    "r.recvuntil('Decrypted: ')\n",
    "p_decrypted = int(r.recvline().decode()[0:-1])\n",
    "\n",
    "n = n_meno_1 + 1\n",
    "\n",
    "if int(flag_encrypted[-1]) % 2 != 0:\n",
    "    print('Repeat.')\n",
    "\n",
    "get_context().precision = 65536\n",
    "flag = mul(int(flag_encrypted), 0.5)\n",
    "\n",
    "r.recvuntil('> ')\n",
    "r.sendline(str(2).encode())\n",
    "\n",
    "r.recvuntil('Ciphertext > ')\n",
    "r.sendline(str(int(flag)).encode())\n",
    "\n",
    "r.recvuntil('Decrypted: ')\n",
    "flag_ = int(r.recvline().decode()[0:-1])\n",
    "\n",
    "flags = p_decrypted * flag_\n",
    "\n",
    "long_to_bytes(pow(flags, 1, n)).decode()"
   ]
  }
 ],
 "metadata": {
  "kernelspec": {
   "display_name": "base",
   "language": "python",
   "name": "python3"
  },
  "language_info": {
   "codemirror_mode": {
    "name": "ipython",
    "version": 3
   },
   "file_extension": ".py",
   "mimetype": "text/x-python",
   "name": "python",
   "nbconvert_exporter": "python",
   "pygments_lexer": "ipython3",
   "version": "3.11.5"
  }
 },
 "nbformat": 4,
 "nbformat_minor": 2
}
