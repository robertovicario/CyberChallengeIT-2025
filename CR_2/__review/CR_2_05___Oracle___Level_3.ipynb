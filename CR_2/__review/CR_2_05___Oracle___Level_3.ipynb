{
 "cells": [
  {
   "cell_type": "markdown",
   "metadata": {},
   "source": [
    "### CR_2.05 - Oracle - Level 3"
   ]
  },
  {
   "cell_type": "code",
   "execution_count": 2,
   "metadata": {},
   "outputs": [
    {
     "name": "stdout",
     "output_type": "stream",
     "text": [
      "[x] Opening connection to oracle.challs.cyberchallenge.it on port 9043\n",
      "[x] Opening connection to oracle.challs.cyberchallenge.it on port 9043: Trying 5.75.221.48\n",
      "[+] Opening connection to oracle.challs.cyberchallenge.it on port 9043: Done\n"
     ]
    },
    {
     "name": "stderr",
     "output_type": "stream",
     "text": [
      "/var/folders/3n/vf15kv6n675_m6mzk8p8rfxr0000gn/T/ipykernel_20406/2063440384.py:15: BytesWarning: Text is not bytes; assuming ASCII, no guarantees. See https://docs.pwntools.com/#bytes\n",
      "  r.recvuntil('flag: ')\n",
      "/var/folders/3n/vf15kv6n675_m6mzk8p8rfxr0000gn/T/ipykernel_20406/2063440384.py:18: BytesWarning: Text is not bytes; assuming ASCII, no guarantees. See https://docs.pwntools.com/#bytes\n",
      "  r.recvuntil('> ')\n",
      "/var/folders/3n/vf15kv6n675_m6mzk8p8rfxr0000gn/T/ipykernel_20406/2063440384.py:21: BytesWarning: Text is not bytes; assuming ASCII, no guarantees. See https://docs.pwntools.com/#bytes\n",
      "  r.recvuntil('Ciphertext > ')\n",
      "/var/folders/3n/vf15kv6n675_m6mzk8p8rfxr0000gn/T/ipykernel_20406/2063440384.py:24: BytesWarning: Text is not bytes; assuming ASCII, no guarantees. See https://docs.pwntools.com/#bytes\n",
      "  r.recvuntil('Decrypted: ')\n",
      "/var/folders/3n/vf15kv6n675_m6mzk8p8rfxr0000gn/T/ipykernel_20406/2063440384.py:29: BytesWarning: Text is not bytes; assuming ASCII, no guarantees. See https://docs.pwntools.com/#bytes\n",
      "  r.recvuntil('> ')\n",
      "/var/folders/3n/vf15kv6n675_m6mzk8p8rfxr0000gn/T/ipykernel_20406/2063440384.py:32: BytesWarning: Text is not bytes; assuming ASCII, no guarantees. See https://docs.pwntools.com/#bytes\n",
      "  r.recvuntil('Ciphertext > ')\n",
      "/var/folders/3n/vf15kv6n675_m6mzk8p8rfxr0000gn/T/ipykernel_20406/2063440384.py:35: BytesWarning: Text is not bytes; assuming ASCII, no guarantees. See https://docs.pwntools.com/#bytes\n",
      "  r.recvuntil('Decrypted: ')\n",
      "/var/folders/3n/vf15kv6n675_m6mzk8p8rfxr0000gn/T/ipykernel_20406/2063440384.py:40: BytesWarning: Text is not bytes; assuming ASCII, no guarantees. See https://docs.pwntools.com/#bytes\n",
      "  r.recvuntil('> ')\n",
      "/var/folders/3n/vf15kv6n675_m6mzk8p8rfxr0000gn/T/ipykernel_20406/2063440384.py:43: BytesWarning: Text is not bytes; assuming ASCII, no guarantees. See https://docs.pwntools.com/#bytes\n",
      "  r.recvuntil('Ciphertext > ')\n",
      "/var/folders/3n/vf15kv6n675_m6mzk8p8rfxr0000gn/T/ipykernel_20406/2063440384.py:46: BytesWarning: Text is not bytes; assuming ASCII, no guarantees. See https://docs.pwntools.com/#bytes\n",
      "  r.recvuntil('Decrypted: ')\n",
      "/var/folders/3n/vf15kv6n675_m6mzk8p8rfxr0000gn/T/ipykernel_20406/2063440384.py:51: BytesWarning: Text is not bytes; assuming ASCII, no guarantees. See https://docs.pwntools.com/#bytes\n",
      "  r.recvuntil('> ')\n",
      "/var/folders/3n/vf15kv6n675_m6mzk8p8rfxr0000gn/T/ipykernel_20406/2063440384.py:54: BytesWarning: Text is not bytes; assuming ASCII, no guarantees. See https://docs.pwntools.com/#bytes\n",
      "  r.recvuntil('Ciphertext > ')\n",
      "/var/folders/3n/vf15kv6n675_m6mzk8p8rfxr0000gn/T/ipykernel_20406/2063440384.py:57: BytesWarning: Text is not bytes; assuming ASCII, no guarantees. See https://docs.pwntools.com/#bytes\n",
      "  r.recvuntil('Decrypted: ')\n",
      "/var/folders/3n/vf15kv6n675_m6mzk8p8rfxr0000gn/T/ipykernel_20406/2063440384.py:70: BytesWarning: Text is not bytes; assuming ASCII, no guarantees. See https://docs.pwntools.com/#bytes\n",
      "  r.recvuntil('> ')\n"
     ]
    },
    {
     "name": "stdout",
     "output_type": "stream",
     "text": [
      "Flag: CCIT{gr34t3st_c0mm0n_d1v1s0r}\n"
     ]
    },
    {
     "name": "stderr",
     "output_type": "stream",
     "text": [
      "/var/folders/3n/vf15kv6n675_m6mzk8p8rfxr0000gn/T/ipykernel_20406/2063440384.py:73: BytesWarning: Text is not bytes; assuming ASCII, no guarantees. See https://docs.pwntools.com/#bytes\n",
      "  r.recvuntil('Ciphertext > ')\n",
      "/var/folders/3n/vf15kv6n675_m6mzk8p8rfxr0000gn/T/ipykernel_20406/2063440384.py:76: BytesWarning: Text is not bytes; assuming ASCII, no guarantees. See https://docs.pwntools.com/#bytes\n",
      "  r.recvuntil('Decrypted: ')\n"
     ]
    },
    {
     "data": {
      "text/plain": [
       "'CCIT{gr34t3st_c0mm0n_d1v1s0r}'"
      ]
     },
     "execution_count": 2,
     "metadata": {},
     "output_type": "execute_result"
    }
   ],
   "source": [
    "from Crypto.Util.number import long_to_bytes\n",
    "from gmpy2 import *\n",
    "from pwn import *\n",
    "\n",
    "# e = 65537\n",
    "# c = flag_encrypted\n",
    "\n",
    "# c = m^e % n -> encrypt\n",
    "# m = c^d % n -> decrypt\n",
    "# n = ? --> \n",
    "HOST = \"oracle.challs.cyberchallenge.it\"\n",
    "PORT = 9043\n",
    "r = remote(HOST, PORT)\n",
    "\n",
    "r.recvuntil('flag: ')\n",
    "flag_encrypted = r.recvline().decode()[0:-1]\n",
    "\n",
    "r.recvuntil('> ')\n",
    "r.sendline(str(2).encode())\n",
    "\n",
    "r.recvuntil('Ciphertext > ')\n",
    "r.sendline(str(2).encode())\n",
    "\n",
    "r.recvuntil('Decrypted: ')\n",
    "p_decrypted = int(r.recvline().decode()[0:-1])\n",
    "\n",
    "encrypt_x_2 = p_decrypted ** 2\n",
    "\n",
    "r.recvuntil('> ')\n",
    "r.sendline(str(2).encode())\n",
    "\n",
    "r.recvuntil('Ciphertext > ')\n",
    "r.sendline(str(4).encode())\n",
    "\n",
    "r.recvuntil('Decrypted: ')\n",
    "encrypt_x2 = int(r.recvline().decode()[0:-1])\n",
    "\n",
    "multiple_n1 = encrypt_x_2 - encrypt_x2\n",
    "\n",
    "r.recvuntil('> ')\n",
    "r.sendline(str(2).encode())\n",
    "\n",
    "r.recvuntil('Ciphertext > ')\n",
    "r.sendline(str(167).encode())\n",
    "\n",
    "r.recvuntil('Decrypted: ')\n",
    "three_encrypted = int(r.recvline().decode()[0:-1])\n",
    "\n",
    "encrypt_x_3 = three_encrypted ** 2\n",
    "\n",
    "r.recvuntil('> ')\n",
    "r.sendline(str(2).encode())\n",
    "\n",
    "r.recvuntil('Ciphertext > ')\n",
    "r.sendline(str(27889).encode())\n",
    "\n",
    "r.recvuntil('Decrypted: ')\n",
    "encrypt_x3 = int(r.recvline().decode()[0:-1])\n",
    "\n",
    "multiple_n2 = encrypt_x_3 - encrypt_x3\n",
    "\n",
    "n = int(gcd(multiple_n1, multiple_n2))\n",
    "\n",
    "if int(flag_encrypted[-1]) % 2 != 0:\n",
    "    print('Repeat.')\n",
    "\n",
    "get_context().precision = 65536\n",
    "flag = mul(int(flag_encrypted), 0.5)\n",
    "\n",
    "r.recvuntil('> ')\n",
    "r.sendline(str(2).encode())\n",
    "\n",
    "r.recvuntil('Ciphertext > ')\n",
    "r.sendline(str(int(flag)).encode())\n",
    "\n",
    "r.recvuntil('Decrypted: ')\n",
    "flag_ = int(r.recvline().decode()[0:-1])\n",
    "\n",
    "flags = p_decrypted * flag_\n",
    "\n",
    "print('Flag:', long_to_bytes(pow(flags, 1, n)).decode())\n",
    "\n",
    "long_to_bytes(pow(flags, 1, n)).decode()"
   ]
  }
 ],
 "metadata": {
  "kernelspec": {
   "display_name": "base",
   "language": "python",
   "name": "python3"
  },
  "language_info": {
   "codemirror_mode": {
    "name": "ipython",
    "version": 3
   },
   "file_extension": ".py",
   "mimetype": "text/x-python",
   "name": "python",
   "nbconvert_exporter": "python",
   "pygments_lexer": "ipython3",
   "version": "3.11.5"
  }
 },
 "nbformat": 4,
 "nbformat_minor": 2
}
