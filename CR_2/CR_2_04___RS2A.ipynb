{
 "cells": [
  {
   "cell_type": "markdown",
   "metadata": {},
   "source": [
    "### CR_2.04 - RS2A"
   ]
  },
  {
   "cell_type": "code",
   "execution_count": 8,
   "metadata": {},
   "outputs": [],
   "source": [
    "e = 7\n",
    "c = 4646642449734441795234716931873293337783178140295369476477414842493124786921367410881883742032891927674175802184387462112160099639235866128869152699193604169126692210658727708932871872023684255128054850532442397694479339589044019605244318335689745815134153090707404781703605885093038671892987162453083145333870361779070165023194343649585368917744026385936244068253021787577318611063841675505845949101602680733302819197803902930243946808728999105280115072171655797971649055822574030686629682830354992117"
   ]
  },
  {
   "cell_type": "code",
   "execution_count": 9,
   "metadata": {},
   "outputs": [
    {
     "data": {
      "text/plain": [
       "'CCIT{t00_s3cur3_1s_n0t_s3cur3}'"
      ]
     },
     "execution_count": 9,
     "metadata": {},
     "output_type": "execute_result"
    }
   ],
   "source": [
    "import gmpy2\n",
    "\n",
    "d = gmpy2.iroot(c, e)[0]\n",
    "flag = bytes.fromhex(hex(d)[2:])\n",
    "\n",
    "flag.decode()"
   ]
  }
 ],
 "metadata": {
  "kernelspec": {
   "display_name": "base",
   "language": "python",
   "name": "python3"
  },
  "language_info": {
   "codemirror_mode": {
    "name": "ipython",
    "version": 3
   },
   "file_extension": ".py",
   "mimetype": "text/x-python",
   "name": "python",
   "nbconvert_exporter": "python",
   "pygments_lexer": "ipython3",
   "version": "3.11.5"
  }
 },
 "nbformat": 4,
 "nbformat_minor": 2
}
