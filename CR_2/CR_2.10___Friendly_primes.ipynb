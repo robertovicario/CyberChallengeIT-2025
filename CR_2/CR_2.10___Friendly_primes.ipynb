{
 "cells": [
  {
   "cell_type": "markdown",
   "metadata": {},
   "source": [
    "### CR_2.10 - Friendly primes"
   ]
  },
  {
   "cell_type": "code",
   "execution_count": 16,
   "metadata": {},
   "outputs": [
    {
     "name": "stdout",
     "output_type": "stream",
     "text": [
      "zSÐDó<\u0013\u0000R»Ôl)ÑçÁ\u0004§9Wzå\u0013¦ì°ÝdÌ¶a\u00184­¼¼µÆ´6Kòè\f|6$æèRuÚ«{MDB\u001c\u0010?Û'/qýqÁï+Þ1>¾¤û<Íñ\u0003vs\u001cï¢¶fc\u0012»´\n"
     ]
    }
   ],
   "source": [
    "from Crypto.Util.number import getPrime, bytes_to_long, long_to_bytes\n",
    "from functools import reduce\n",
    "from math import isqrt\n",
    "from sympy import mod_inverse\n",
    "\n",
    "n = 420485447340750276798905009197900250076472236951029771396372239960455176076395356078018304176360377601355361640360458283456532642841066439541542468492600074303505516012322941130021941063141150150454719702821666531692873286236281808915376205692263441233138891193279355717503716920577044748917446320341294227\n",
    "e = 65537\n",
    "c = 301134324702979101601229980817712305679459272403009847977905797426967147301009753074163263516519121214477239813381651880610545484766224816075639817078022502740923937485967968414814571266684481074873719521522276878916473424098420305091570571671905697759107642819692889627538051932664261696505877765760765011\n",
    "\n",
    "primes = [getPrime(64) for _ in range(16)]\n",
    "n = reduce((lambda x, y: x * y), primes)\n",
    "\n",
    "phi_n = 1\n",
    "for p in primes:\n",
    "    phi_n *= p - 1\n",
    "\n",
    "d = mod_inverse(e, phi_n)\n",
    "m = pow(c, d, n)\n",
    "flag = long_to_bytes(m)\n",
    "flag = flag.decode('latin-1')\n",
    "print(flag)\n",
    "\n",
    "\n",
    "\n",
    "\n",
    "# primes = [getPrime(64) for _ in range(16)]\n",
    "# n = reduce((lambda x, y: x * y), primes)\n",
    "# c = pow(bytes_to_long(flag), 65537, n)\n",
    "\n",
    "\n"
   ]
  }
 ],
 "metadata": {
  "kernelspec": {
   "display_name": "base",
   "language": "python",
   "name": "python3"
  },
  "language_info": {
   "codemirror_mode": {
    "name": "ipython",
    "version": 3
   },
   "file_extension": ".py",
   "mimetype": "text/x-python",
   "name": "python",
   "nbconvert_exporter": "python",
   "pygments_lexer": "ipython3",
   "version": "3.11.5"
  }
 },
 "nbformat": 4,
 "nbformat_minor": 2
}
