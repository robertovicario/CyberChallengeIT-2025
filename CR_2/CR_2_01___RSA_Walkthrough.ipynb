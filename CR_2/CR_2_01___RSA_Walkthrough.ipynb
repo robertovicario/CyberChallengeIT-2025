{
 "cells": [
  {
   "cell_type": "markdown",
   "metadata": {},
   "source": [
    "### CR_2.01 - RSA-Walkthrough"
   ]
  },
  {
   "cell_type": "code",
   "execution_count": null,
   "metadata": {},
   "outputs": [
    {
     "name": "stdout",
     "output_type": "stream",
     "text": [
      "[x] Opening connection to rsa.challs.cyberchallenge.it on port 9040\n",
      "[x] Opening connection to rsa.challs.cyberchallenge.it on port 9040: Trying 5.75.221.48\n",
      "[+] Opening connection to rsa.challs.cyberchallenge.it on port 9040: Done\n"
     ]
    },
    {
     "name": "stderr",
     "output_type": "stream",
     "text": [
      "/var/folders/3n/vf15kv6n675_m6mzk8p8rfxr0000gn/T/ipykernel_60136/2684500913.py:8: BytesWarning: Text is not bytes; assuming ASCII, no guarantees. See https://docs.pwntools.com/#bytes\n",
      "  conn.recvuntil('p = ')\n",
      "/var/folders/3n/vf15kv6n675_m6mzk8p8rfxr0000gn/T/ipykernel_60136/2684500913.py:10: BytesWarning: Text is not bytes; assuming ASCII, no guarantees. See https://docs.pwntools.com/#bytes\n",
      "  conn.recvuntil('q = ')\n",
      "/var/folders/3n/vf15kv6n675_m6mzk8p8rfxr0000gn/T/ipykernel_60136/2684500913.py:14: BytesWarning: Text is not bytes; assuming ASCII, no guarantees. See https://docs.pwntools.com/#bytes\n",
      "  conn.sendline(str(n))\n",
      "/var/folders/3n/vf15kv6n675_m6mzk8p8rfxr0000gn/T/ipykernel_60136/2684500913.py:20: BytesWarning: Text is not bytes; assuming ASCII, no guarantees. See https://docs.pwntools.com/#bytes\n",
      "  conn.sendline(str(m))\n",
      "/var/folders/3n/vf15kv6n675_m6mzk8p8rfxr0000gn/T/ipykernel_60136/2684500913.py:24: BytesWarning: Text is not bytes; assuming ASCII, no guarantees. See https://docs.pwntools.com/#bytes\n",
      "  conn.recvuntil('p = ')\n",
      "/var/folders/3n/vf15kv6n675_m6mzk8p8rfxr0000gn/T/ipykernel_60136/2684500913.py:26: BytesWarning: Text is not bytes; assuming ASCII, no guarantees. See https://docs.pwntools.com/#bytes\n",
      "  conn.recvuntil('q = ')\n",
      "/var/folders/3n/vf15kv6n675_m6mzk8p8rfxr0000gn/T/ipykernel_60136/2684500913.py:28: BytesWarning: Text is not bytes; assuming ASCII, no guarantees. See https://docs.pwntools.com/#bytes\n",
      "  conn.recvuntil('m = ')\n",
      "/var/folders/3n/vf15kv6n675_m6mzk8p8rfxr0000gn/T/ipykernel_60136/2684500913.py:30: BytesWarning: Text is not bytes; assuming ASCII, no guarantees. See https://docs.pwntools.com/#bytes\n",
      "  conn.recvuntil('e = ')\n",
      "/var/folders/3n/vf15kv6n675_m6mzk8p8rfxr0000gn/T/ipykernel_60136/2684500913.py:35: BytesWarning: Text is not bytes; assuming ASCII, no guarantees. See https://docs.pwntools.com/#bytes\n",
      "  conn.sendline(str(c))\n",
      "/var/folders/3n/vf15kv6n675_m6mzk8p8rfxr0000gn/T/ipykernel_60136/2684500913.py:39: BytesWarning: Text is not bytes; assuming ASCII, no guarantees. See https://docs.pwntools.com/#bytes\n",
      "  conn.recvuntil('p = ')\n",
      "/var/folders/3n/vf15kv6n675_m6mzk8p8rfxr0000gn/T/ipykernel_60136/2684500913.py:41: BytesWarning: Text is not bytes; assuming ASCII, no guarantees. See https://docs.pwntools.com/#bytes\n",
      "  conn.recvuntil('q = ')\n",
      "/var/folders/3n/vf15kv6n675_m6mzk8p8rfxr0000gn/T/ipykernel_60136/2684500913.py:43: BytesWarning: Text is not bytes; assuming ASCII, no guarantees. See https://docs.pwntools.com/#bytes\n",
      "  conn.recvuntil('e = ')\n",
      "/var/folders/3n/vf15kv6n675_m6mzk8p8rfxr0000gn/T/ipykernel_60136/2684500913.py:47: BytesWarning: Text is not bytes; assuming ASCII, no guarantees. See https://docs.pwntools.com/#bytes\n",
      "  conn.sendline(str(phi_n))\n",
      "/var/folders/3n/vf15kv6n675_m6mzk8p8rfxr0000gn/T/ipykernel_60136/2684500913.py:49: BytesWarning: Text is not bytes; assuming ASCII, no guarantees. See https://docs.pwntools.com/#bytes\n",
      "  conn.sendline(str(d))\n",
      "/var/folders/3n/vf15kv6n675_m6mzk8p8rfxr0000gn/T/ipykernel_60136/2684500913.py:53: BytesWarning: Text is not bytes; assuming ASCII, no guarantees. See https://docs.pwntools.com/#bytes\n",
      "  conn.recvuntil('p = ')\n",
      "/var/folders/3n/vf15kv6n675_m6mzk8p8rfxr0000gn/T/ipykernel_60136/2684500913.py:55: BytesWarning: Text is not bytes; assuming ASCII, no guarantees. See https://docs.pwntools.com/#bytes\n",
      "  conn.recvuntil('q = ')\n",
      "/var/folders/3n/vf15kv6n675_m6mzk8p8rfxr0000gn/T/ipykernel_60136/2684500913.py:57: BytesWarning: Text is not bytes; assuming ASCII, no guarantees. See https://docs.pwntools.com/#bytes\n",
      "  conn.recvuntil('e = ')\n",
      "/var/folders/3n/vf15kv6n675_m6mzk8p8rfxr0000gn/T/ipykernel_60136/2684500913.py:59: BytesWarning: Text is not bytes; assuming ASCII, no guarantees. See https://docs.pwntools.com/#bytes\n",
      "  conn.recvuntil('c = ')\n",
      "/var/folders/3n/vf15kv6n675_m6mzk8p8rfxr0000gn/T/ipykernel_60136/2684500913.py:66: BytesWarning: Text is not bytes; assuming ASCII, no guarantees. See https://docs.pwntools.com/#bytes\n",
      "  conn.sendline(str(m))\n",
      "/var/folders/3n/vf15kv6n675_m6mzk8p8rfxr0000gn/T/ipykernel_60136/2684500913.py:70: BytesWarning: Text is not bytes; assuming ASCII, no guarantees. See https://docs.pwntools.com/#bytes\n",
      "  conn.recvuntil('CCIT{')\n"
     ]
    },
    {
     "name": "stdout",
     "output_type": "stream",
     "text": [
      "[*] Closed connection to rsa.challs.cyberchallenge.it port 9040\n"
     ]
    }
   ],
   "source": [
    "from pwn import remote\n",
    "from sympy import mod_inverse\n",
    "\n",
    "conn = remote('rsa.challs.cyberchallenge.it', 9040)\n",
    "\n",
    "# -------------------------------------------------\n",
    "\n",
    "conn.recvuntil('p = ')\n",
    "p = int(conn.recvline().strip())\n",
    "conn.recvuntil('q = ')\n",
    "q = int(conn.recvline().strip())\n",
    "\n",
    "n = p * q\n",
    "conn.sendline(str(n))\n",
    "\n",
    "# -------------------------------------------------\n",
    "\n",
    "m = 'This is the plaintext'\n",
    "m = int.from_bytes(m.encode(), 'big')\n",
    "conn.sendline(str(m))\n",
    "\n",
    "# -------------------------------------------------\n",
    "\n",
    "conn.recvuntil('p = ')\n",
    "p = int(conn.recvline().strip())\n",
    "conn.recvuntil('q = ')\n",
    "q = int(conn.recvline().strip())\n",
    "conn.recvuntil('m = ')\n",
    "m = int(conn.recvline().strip())\n",
    "conn.recvuntil('e = ')\n",
    "e = int(conn.recvline().strip())\n",
    "\n",
    "n = p * q\n",
    "c = pow(m, e, n)\n",
    "conn.sendline(str(c))\n",
    "\n",
    "# -------------------------------------------------\n",
    "\n",
    "conn.recvuntil('p = ')\n",
    "p = int(conn.recvline().strip())\n",
    "conn.recvuntil('q = ')\n",
    "q = int(conn.recvline().strip())\n",
    "conn.recvuntil('e = ')\n",
    "e = int(conn.recvline().strip())\n",
    "\n",
    "phi_n = (p - 1) * (q - 1)\n",
    "conn.sendline(str(phi_n))\n",
    "d = pow(e, -1, phi_n)\n",
    "conn.sendline(str(d))\n",
    "\n",
    "# -------------------------------------------------\n",
    "\n",
    "conn.recvuntil('p = ')\n",
    "p = int(conn.recvline().strip())\n",
    "conn.recvuntil('q = ')\n",
    "q = int(conn.recvline().strip())\n",
    "conn.recvuntil('e = ')\n",
    "e = int(conn.recvline().strip())\n",
    "conn.recvuntil('c = ')\n",
    "c = int(conn.recvline().strip())\n",
    "\n",
    "n = p * q\n",
    "phi_n = (p - 1) * (q - 1)\n",
    "d = mod_inverse(e, phi_n)\n",
    "m = pow(c, d, n)\n",
    "conn.sendline(str(m))\n",
    "\n",
    "# -------------------------------------------------\n",
    "\n",
    "conn.recvuntil('CCIT{')\n",
    "flag = conn.recvline().strip()\n",
    "\n",
    "# -------------------------------------------------\n",
    "\n",
    "conn.close()"
   ]
  },
  {
   "cell_type": "code",
   "execution_count": 41,
   "metadata": {},
   "outputs": [
    {
     "data": {
      "text/plain": [
       "'CCIT{W3lc0me_t0_RSA!}'"
      ]
     },
     "execution_count": 41,
     "metadata": {},
     "output_type": "execute_result"
    }
   ],
   "source": [
    "'CCIT{' + flag.decode()[:-1] + '}'"
   ]
  }
 ],
 "metadata": {
  "kernelspec": {
   "display_name": "base",
   "language": "python",
   "name": "python3"
  },
  "language_info": {
   "codemirror_mode": {
    "name": "ipython",
    "version": 3
   },
   "file_extension": ".py",
   "mimetype": "text/x-python",
   "name": "python",
   "nbconvert_exporter": "python",
   "pygments_lexer": "ipython3",
   "version": "3.11.5"
  }
 },
 "nbformat": 4,
 "nbformat_minor": 2
}
