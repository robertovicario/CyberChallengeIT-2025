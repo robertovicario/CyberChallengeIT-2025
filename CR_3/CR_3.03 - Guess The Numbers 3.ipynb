{
 "cells": [
  {
   "cell_type": "markdown",
   "metadata": {},
   "source": [
    "### CR_3.03 - Guess The Numbers 3"
   ]
  },
  {
   "cell_type": "code",
   "execution_count": 2,
   "metadata": {},
   "outputs": [],
   "source": [
    "from sympy import mod_inverse\n",
    "\n",
    "n = 2147483647\n",
    "v = [125778740,\n",
    "     513146825,\n",
    "     1999511474]\n",
    "\n",
    "delta1 = (v[1] - v[0]) % n\n",
    "delta2 = (v[2] - v[1]) % n\n",
    "delta1_inverse = mod_inverse(delta1, n)\n",
    "m = (delta2 * delta1_inverse) % n\n",
    "c = (v[1] - m * v[0]) % n\n",
    "\n",
    "seq = [v[0], v[1], v[2]]\n",
    "current_value = v[2]\n",
    "\n",
    "for _ in range(50):\n",
    "    next_value = (m * current_value + c) % n\n",
    "    seq.append(next_value)\n",
    "    current_value = next_value"
   ]
  },
  {
   "cell_type": "code",
   "execution_count": 3,
   "metadata": {},
   "outputs": [
    {
     "name": "stdout",
     "output_type": "stream",
     "text": [
      "[x] Opening connection to gtn3.challs.cyberchallenge.it on port 9062\n",
      "[x] Opening connection to gtn3.challs.cyberchallenge.it on port 9062: Trying 5.75.221.48\n",
      "[+] Opening connection to gtn3.challs.cyberchallenge.it on port 9062: Done\n",
      "[x] Receiving all data\n",
      "[x] Receiving all data: 0B\n",
      "[x] Receiving all data: 175B\n",
      "[x] Receiving all data: 597B\n",
      "[+] Receiving all data: Done (597B)\n",
      "[*] Closed connection to gtn3.challs.cyberchallenge.it port 9062\n",
      "\n",
      "CCIT{4lm0st_t0_th3_t0p!}\n",
      "\n"
     ]
    }
   ],
   "source": [
    "from pwn import remote\n",
    "conn = remote('gtn3.challs.cyberchallenge.it', 9062)\n",
    "\n",
    "# --------------------------------------------------\n",
    "\n",
    "for num in seq[3:]:\n",
    "    conn.sendline(str(num).encode(encoding='utf-8'))\n",
    "\n",
    "response = conn.recvall().decode(encoding='utf-8')\n",
    "for line in response.split(' '):\n",
    "    if 'CCIT' in line:\n",
    "        print(f'\\n{line}')\n",
    "        break\n",
    "\n",
    "conn.close()"
   ]
  }
 ],
 "metadata": {
  "kernelspec": {
   "display_name": "base",
   "language": "python",
   "name": "python3"
  },
  "language_info": {
   "codemirror_mode": {
    "name": "ipython",
    "version": 3
   },
   "file_extension": ".py",
   "mimetype": "text/x-python",
   "name": "python",
   "nbconvert_exporter": "python",
   "pygments_lexer": "ipython3",
   "version": "3.11.5"
  }
 },
 "nbformat": 4,
 "nbformat_minor": 2
}
