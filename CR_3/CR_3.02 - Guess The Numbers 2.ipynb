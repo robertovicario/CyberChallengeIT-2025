{
 "cells": [
  {
   "cell_type": "markdown",
   "metadata": {},
   "source": [
    "### CR_3.02 - Guess The Numbers 2"
   ]
  },
  {
   "cell_type": "code",
   "execution_count": 5,
   "metadata": {},
   "outputs": [],
   "source": [
    "m = 2115495185\n",
    "n = 2147483647\n",
    "v = [1680462708, 77243019]\n",
    "\n",
    "c = (v[1] - m * v[0]) % n\n",
    "\n",
    "seq = [v[0], v[1]]\n",
    "current_value = v[1]\n",
    "\n",
    "for _ in range(50):\n",
    "    next_value = (m * current_value + c) % n\n",
    "    seq.append(next_value)\n",
    "    current_value = next_value"
   ]
  },
  {
   "cell_type": "code",
   "execution_count": 6,
   "metadata": {},
   "outputs": [
    {
     "name": "stdout",
     "output_type": "stream",
     "text": [
      "[x] Opening connection to gtn2.challs.cyberchallenge.it on port 9061\n",
      "[x] Opening connection to gtn2.challs.cyberchallenge.it on port 9061: Trying 5.75.221.48\n",
      "[+] Opening connection to gtn2.challs.cyberchallenge.it on port 9061: Done\n",
      "[x] Receiving all data\n",
      "[x] Receiving all data: 0B\n",
      "[x] Receiving all data: 172B\n",
      "[x] Receiving all data: 590B\n",
      "[+] Receiving all data: Done (590B)\n",
      "[*] Closed connection to gtn2.challs.cyberchallenge.it port 9061\n",
      "\n",
      "CCIT{fun_st4rts_h3r3}\n",
      "\n"
     ]
    }
   ],
   "source": [
    "from pwn import remote\n",
    "conn = remote('gtn2.challs.cyberchallenge.it', 9061)\n",
    "\n",
    "# --------------------------------------------------\n",
    "\n",
    "for num in seq[2:]:\n",
    "    conn.sendline(str(num).encode(encoding='utf-8'))\n",
    "\n",
    "response = conn.recvall().decode(encoding='utf-8')\n",
    "for line in response.split(' '):\n",
    "    if 'CCIT' in line:\n",
    "        print(f'\\n{line}')\n",
    "        break\n",
    "\n",
    "conn.close()"
   ]
  }
 ],
 "metadata": {
  "kernelspec": {
   "display_name": "base",
   "language": "python",
   "name": "python3"
  },
  "language_info": {
   "codemirror_mode": {
    "name": "ipython",
    "version": 3
   },
   "file_extension": ".py",
   "mimetype": "text/x-python",
   "name": "python",
   "nbconvert_exporter": "python",
   "pygments_lexer": "ipython3",
   "version": "3.11.5"
  }
 },
 "nbformat": 4,
 "nbformat_minor": 2
}
