{
 "cells": [
  {
   "cell_type": "markdown",
   "metadata": {},
   "source": [
    "### CR_3.01 - Guess The Numbers 1"
   ]
  },
  {
   "cell_type": "code",
   "execution_count": 1,
   "metadata": {},
   "outputs": [],
   "source": [
    "m = 1076867677\n",
    "n = 2147483647\n",
    "c = 1265354953\n",
    "v = [1862611659]\n",
    "\n",
    "seq = []\n",
    "current_value = v[0]\n",
    "\n",
    "for _ in range(50):\n",
    "    next_value = (m * current_value + c) % n\n",
    "    seq.append(next_value)\n",
    "    current_value = next_value"
   ]
  },
  {
   "cell_type": "code",
   "execution_count": 2,
   "metadata": {},
   "outputs": [
    {
     "name": "stdout",
     "output_type": "stream",
     "text": [
      "[x] Opening connection to gtn1.challs.cyberchallenge.it on port 9060\n",
      "[x] Opening connection to gtn1.challs.cyberchallenge.it on port 9060: Trying 5.75.221.48\n",
      "[+] Opening connection to gtn1.challs.cyberchallenge.it on port 9060: Done\n",
      "[*] Closed connection to gtn1.challs.cyberchallenge.it port 9060\n"
     ]
    },
    {
     "name": "stderr",
     "output_type": "stream",
     "text": [
      "/var/folders/3n/vf15kv6n675_m6mzk8p8rfxr0000gn/T/ipykernel_21396/2931958159.py:9: BytesWarning: Text is not bytes; assuming ASCII, no guarantees. See https://docs.pwntools.com/#bytes\n",
      "  conn.recvuntil('CCIT')\n"
     ]
    }
   ],
   "source": [
    "from pwn import remote\n",
    "conn = remote('gtn1.challs.cyberchallenge.it', 9060)\n",
    "\n",
    "# --------------------------------------------------\n",
    "\n",
    "for num in seq:\n",
    "    conn.sendline(str(num).encode())\n",
    "\n",
    "conn.recvuntil('CCIT')\n",
    "flag = conn.recvline().decode().strip()\n",
    "\n",
    "conn.close()"
   ]
  },
  {
   "cell_type": "code",
   "execution_count": 3,
   "metadata": {},
   "outputs": [
    {
     "data": {
      "text/plain": [
       "'CCIT{!s0_r4nd0m}'"
      ]
     },
     "execution_count": 3,
     "metadata": {},
     "output_type": "execute_result"
    }
   ],
   "source": [
    "'CCIT' + flag"
   ]
  }
 ],
 "metadata": {
  "kernelspec": {
   "display_name": "base",
   "language": "python",
   "name": "python3"
  },
  "language_info": {
   "codemirror_mode": {
    "name": "ipython",
    "version": 3
   },
   "file_extension": ".py",
   "mimetype": "text/x-python",
   "name": "python",
   "nbconvert_exporter": "python",
   "pygments_lexer": "ipython3",
   "version": "3.11.5"
  }
 },
 "nbformat": 4,
 "nbformat_minor": 2
}
