{
 "cells": [
  {
   "cell_type": "markdown",
   "metadata": {},
   "source": [
    "### CR_3.04 - Guess The Numbers 4"
   ]
  },
  {
   "cell_type": "code",
   "execution_count": 5,
   "metadata": {},
   "outputs": [],
   "source": [
    "from sympy import mod_inverse\n",
    "\n",
    "n = 2147483647\n",
    "v = [1180552760,\n",
    "     1346555300,\n",
    "     1257227113,\n",
    "     2122109152,\n",
    "     1619023512,\n",
    "     1664547291,\n",
    "     394287731]\n",
    "\n",
    "delta1 = (v[2] - v[1]) % n\n",
    "delta2 = (v[3] - v[2]) % n\n",
    "delta1_inverse = mod_inverse(delta1, n)\n",
    "m = (delta2 * delta1_inverse) % n\n",
    "c = (v[2] - m * v[1]) % n\n",
    "\n",
    "seq = [v[0], v[1], v[2], v[3], v[4], v[5], v[6]]\n",
    "current_value = v[6]\n",
    "\n",
    "for _ in range(50):\n",
    "    next_value = (m * current_value + c) % n\n",
    "    v.append(next_value)\n",
    "    current_value = next_value"
   ]
  },
  {
   "cell_type": "code",
   "execution_count": 6,
   "metadata": {},
   "outputs": [
    {
     "name": "stdout",
     "output_type": "stream",
     "text": [
      "[x] Opening connection to gtn4.challs.cyberchallenge.it on port 9063\n",
      "[x] Opening connection to gtn4.challs.cyberchallenge.it on port 9063: Trying 5.75.221.48\n",
      "[+] Opening connection to gtn4.challs.cyberchallenge.it on port 9063: Done\n",
      "[*] Closed connection to gtn4.challs.cyberchallenge.it port 9063\n"
     ]
    },
    {
     "name": "stderr",
     "output_type": "stream",
     "text": [
      "/var/folders/3n/vf15kv6n675_m6mzk8p8rfxr0000gn/T/ipykernel_52633/266658799.py:9: BytesWarning: Text is not bytes; assuming ASCII, no guarantees. See https://docs.pwntools.com/#bytes\n",
      "  conn.recvuntil('CCIT')\n"
     ]
    }
   ],
   "source": [
    "from pwn import remote\n",
    "conn = remote('gtn4.challs.cyberchallenge.it', 9063)\n",
    "\n",
    "# --------------------------------------------------\n",
    "\n",
    "for num in v[7:]:\n",
    "    conn.sendline(str(num).encode('utf-8'))\n",
    "\n",
    "conn.recvuntil('CCIT')\n",
    "flag = conn.recvline().decode(encoding='utf-8').strip()\n",
    "\n",
    "conn.close()"
   ]
  },
  {
   "cell_type": "code",
   "execution_count": 7,
   "metadata": {},
   "outputs": [
    {
     "data": {
      "text/plain": [
       "'CCIT{Y0u_kn0w_n0th1ng_J0hn_Sn0w}'"
      ]
     },
     "execution_count": 7,
     "metadata": {},
     "output_type": "execute_result"
    }
   ],
   "source": [
    "''.join(['CCIT', flag])"
   ]
  }
 ],
 "metadata": {
  "kernelspec": {
   "display_name": "base",
   "language": "python",
   "name": "python3"
  },
  "language_info": {
   "codemirror_mode": {
    "name": "ipython",
    "version": 3
   },
   "file_extension": ".py",
   "mimetype": "text/x-python",
   "name": "python",
   "nbconvert_exporter": "python",
   "pygments_lexer": "ipython3",
   "version": "3.11.5"
  }
 },
 "nbformat": 4,
 "nbformat_minor": 2
}
