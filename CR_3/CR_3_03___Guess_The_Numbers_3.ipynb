{
 "cells": [
  {
   "cell_type": "markdown",
   "metadata": {},
   "source": [
    "### CR_3.03 - Guess The Numbers 3"
   ]
  },
  {
   "cell_type": "code",
   "execution_count": 2,
   "metadata": {},
   "outputs": [],
   "source": [
    "from sympy import mod_inverse\n",
    "\n",
    "n = 2147483647\n",
    "v = [125778740,\n",
    "     513146825,\n",
    "     1999511474]\n",
    "\n",
    "delta1 = (v[1] - v[0]) % n\n",
    "delta2 = (v[2] - v[1]) % n\n",
    "delta1_inverse = mod_inverse(delta1, n)\n",
    "m = (delta2 * delta1_inverse) % n\n",
    "c = (v[1] - m * v[0]) % n\n",
    "\n",
    "seq = [v[0], v[1], v[2]]\n",
    "current_value = v[2]\n",
    "\n",
    "for _ in range(50):\n",
    "    next_value = (m * current_value + c) % n\n",
    "    seq.append(next_value)\n",
    "    current_value = next_value"
   ]
  },
  {
   "cell_type": "code",
   "execution_count": 3,
   "metadata": {},
   "outputs": [
    {
     "name": "stdout",
     "output_type": "stream",
     "text": [
      "[x] Opening connection to gtn3.challs.cyberchallenge.it on port 9062\n",
      "[x] Opening connection to gtn3.challs.cyberchallenge.it on port 9062: Trying 5.75.221.48\n",
      "[+] Opening connection to gtn3.challs.cyberchallenge.it on port 9062: Done\n",
      "[*] Closed connection to gtn3.challs.cyberchallenge.it port 9062\n"
     ]
    },
    {
     "name": "stderr",
     "output_type": "stream",
     "text": [
      "/var/folders/3n/vf15kv6n675_m6mzk8p8rfxr0000gn/T/ipykernel_22030/2032316966.py:9: BytesWarning: Text is not bytes; assuming ASCII, no guarantees. See https://docs.pwntools.com/#bytes\n",
      "  conn.recvuntil('CCIT')\n"
     ]
    }
   ],
   "source": [
    "from pwn import remote\n",
    "conn = remote('gtn3.challs.cyberchallenge.it', 9062)\n",
    "\n",
    "# --------------------------------------------------\n",
    "\n",
    "for num in seq[3:]:\n",
    "    conn.sendline(str(num).encode())\n",
    "\n",
    "conn.recvuntil('CCIT')\n",
    "flag = conn.recvline().decode().strip()\n",
    "\n",
    "conn.close()"
   ]
  },
  {
   "cell_type": "code",
   "execution_count": 4,
   "metadata": {},
   "outputs": [
    {
     "data": {
      "text/plain": [
       "'CCIT{4lm0st_t0_th3_t0p!}'"
      ]
     },
     "execution_count": 4,
     "metadata": {},
     "output_type": "execute_result"
    }
   ],
   "source": [
    "'CCIT' + flag"
   ]
  }
 ],
 "metadata": {
  "kernelspec": {
   "display_name": "base",
   "language": "python",
   "name": "python3"
  },
  "language_info": {
   "codemirror_mode": {
    "name": "ipython",
    "version": 3
   },
   "file_extension": ".py",
   "mimetype": "text/x-python",
   "name": "python",
   "nbconvert_exporter": "python",
   "pygments_lexer": "ipython3",
   "version": "3.11.5"
  }
 },
 "nbformat": 4,
 "nbformat_minor": 2
}
