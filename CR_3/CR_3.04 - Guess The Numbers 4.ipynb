{
 "cells": [
  {
   "cell_type": "markdown",
   "metadata": {},
   "source": [
    "### CR_3.04 - Guess The Numbers 4"
   ]
  },
  {
   "cell_type": "code",
   "execution_count": 8,
   "metadata": {},
   "outputs": [],
   "source": [
    "from sympy import mod_inverse\n",
    "\n",
    "n = 2147483647\n",
    "v = [1180552760,\n",
    "     1346555300,\n",
    "     1257227113,\n",
    "     2122109152,\n",
    "     1619023512,\n",
    "     1664547291,\n",
    "     394287731]\n",
    "\n",
    "delta1 = (v[2] - v[1]) % n\n",
    "delta2 = (v[3] - v[2]) % n\n",
    "delta1_inverse = mod_inverse(delta1, n)\n",
    "m = (delta2 * delta1_inverse) % n\n",
    "c = (v[2] - m * v[1]) % n\n",
    "\n",
    "seq = [v[0], v[1], v[2], v[3], v[4], v[5], v[6]]\n",
    "current_value = v[6]\n",
    "\n",
    "for _ in range(50):\n",
    "    next_value = (m * current_value + c) % n\n",
    "    v.append(next_value)\n",
    "    current_value = next_value"
   ]
  },
  {
   "cell_type": "code",
   "execution_count": 9,
   "metadata": {},
   "outputs": [
    {
     "name": "stdout",
     "output_type": "stream",
     "text": [
      "[x] Opening connection to gtn4.challs.cyberchallenge.it on port 9063\n",
      "[x] Opening connection to gtn4.challs.cyberchallenge.it on port 9063: Trying 5.75.221.48\n",
      "[+] Opening connection to gtn4.challs.cyberchallenge.it on port 9063: Done\n",
      "[x] Receiving all data\n",
      "[x] Receiving all data: 0B\n",
      "[x] Receiving all data: 233B\n",
      "[x] Receiving all data: 667B\n",
      "[+] Receiving all data: Done (667B)\n",
      "[*] Closed connection to gtn4.challs.cyberchallenge.it port 9063\n",
      "\n",
      "CCIT{Y0u_kn0w_n0th1ng_J0hn_Sn0w}\n",
      "\n"
     ]
    }
   ],
   "source": [
    "from pwn import remote\n",
    "conn = remote('gtn4.challs.cyberchallenge.it', 9063)\n",
    "\n",
    "# --------------------------------------------------\n",
    "\n",
    "for num in v[7:]:\n",
    "    conn.sendline(str(num).encode('utf-8'))\n",
    "\n",
    "response = conn.recvall().decode('utf-8')\n",
    "for line in response.split(' '):\n",
    "    if 'CCIT' in line:\n",
    "        print(f'\\n{line}')\n",
    "        break\n",
    "\n",
    "conn.close()"
   ]
  }
 ],
 "metadata": {
  "kernelspec": {
   "display_name": "base",
   "language": "python",
   "name": "python3"
  },
  "language_info": {
   "codemirror_mode": {
    "name": "ipython",
    "version": 3
   },
   "file_extension": ".py",
   "mimetype": "text/x-python",
   "name": "python",
   "nbconvert_exporter": "python",
   "pygments_lexer": "ipython3",
   "version": "3.11.5"
  }
 },
 "nbformat": 4,
 "nbformat_minor": 2
}
