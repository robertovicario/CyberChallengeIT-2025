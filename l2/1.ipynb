{
 "cells": [
  {
   "cell_type": "markdown",
   "metadata": {},
   "source": [
    "### Crypto 07 - PyCryptutorial 1"
   ]
  },
  {
   "cell_type": "raw",
   "metadata": {
    "vscode": {
     "languageId": "raw"
    }
   },
   "source": [
    "Cipher = DES\n",
    "Mode of operation = CBC\n",
    "key.hex() = '2088578115ff8327'\n",
    "plaintext = 'La lunghezza di questa frase non è divisibile per 8'\n",
    "Padding scheme = x923"
   ]
  },
  {
   "cell_type": "code",
   "execution_count": 40,
   "metadata": {},
   "outputs": [
    {
     "data": {
      "text/plain": [
       "('a0645e40ec45429a',\n",
       " 'e573b5f7be62408bcb71cb3396eb9f674650e57834cad4b63fe7db1ef33d276296c3198f1a24a8340f2b21f8b9b46494d695f399db698dc6')"
      ]
     },
     "execution_count": 40,
     "metadata": {},
     "output_type": "execute_result"
    }
   ],
   "source": [
    "from Crypto.Cipher import DES\n",
    "from Crypto.Util.Padding import pad\n",
    "\n",
    "plaintext = 'La lunghezza di questa frase non è divisibile per 8'\n",
    "plaintext = plaintext.encode('utf-8')\n",
    "key = '2088578115ff8327'\n",
    "key = bytes.fromhex(key)\n",
    "\n",
    "cipher = DES.new(key, DES.MODE_CBC)\n",
    "ct_bytes = cipher.encrypt(pad(plaintext, DES.block_size, style='x923'))\n",
    "\n",
    "iv = cipher.iv.hex()\n",
    "ct = ct_bytes.hex()\n",
    "\n",
    "iv, ct"
   ]
  },
  {
   "cell_type": "raw",
   "metadata": {
    "vscode": {
     "languageId": "raw"
    }
   },
   "source": [
    "Cipher = AES256\n",
    "Mode of operation = CFB\n",
    "plaintext = 'Mi chiedo cosa significhi il numero nel nome di questo algoritmo.'\n",
    "Padding scheme = pkcs7 (block size = 16)\n",
    "Segment size = 24"
   ]
  },
  {
   "cell_type": "code",
   "execution_count": 41,
   "metadata": {},
   "outputs": [
    {
     "data": {
      "text/plain": [
       "('97bba1ce4fea32c72cf93d7135471cac84f2b997ba5a7e245ef7dc3461c5f5f7',\n",
       " 'e60802b93c1044a6e86eab5d3c50122c',\n",
       " '8ddf51891ba074356c1871f7a12e7b1db03b3d7f48eb81199eab8f5996d7eb2bfb635a7b652d4f633abc5fe8879ee938264f726490e2620c1c5e83c41f7f504ce26013c16c03152581289dcc6d9a86da')"
      ]
     },
     "execution_count": 41,
     "metadata": {},
     "output_type": "execute_result"
    }
   ],
   "source": [
    "from Crypto.Cipher import AES\n",
    "from Crypto.Random import get_random_bytes\n",
    "\n",
    "plaintext = 'Mi chiedo cosa significhi il numero nel nome di questo algoritmo.'\n",
    "plaintext = plaintext.encode('utf-8')\n",
    "key = get_random_bytes(32)\n",
    "\n",
    "cipher = AES.new(key, AES.MODE_CFB, segment_size=24)\n",
    "ct_bytes = cipher.encrypt(pad(plaintext, block_size=16, style='pkcs7'))\n",
    "\n",
    "key = key.hex()\n",
    "iv = cipher.iv.hex()\n",
    "ct = ct_bytes.hex()\n",
    "\n",
    "key, iv, ct"
   ]
  },
  {
   "cell_type": "raw",
   "metadata": {
    "vscode": {
     "languageId": "raw"
    }
   },
   "source": [
    "Cipher = ChaCha20\n",
    "key.hex() = 'd18cbfa4c452757b0610b3eeb8fe839316302d5c82c72f1cae31cb6e4bcfc7f4'\n",
    "ciphertext.hex() = '2e52aa59d9d3596f8cc97c0343513508ff51096022f9dda850d0b507'\n",
    "Nonce = cipher.nonce.hex() = 'fdb0033ed53e7ea3'"
   ]
  },
  {
   "cell_type": "code",
   "execution_count": 43,
   "metadata": {},
   "outputs": [
    {
     "data": {
      "text/plain": [
       "'Decrypting with mambo rhythm'"
      ]
     },
     "execution_count": 43,
     "metadata": {},
     "output_type": "execute_result"
    }
   ],
   "source": [
    "from binascii import unhexlify\n",
    "from Crypto.Cipher import ChaCha20\n",
    "\n",
    "key = 'd18cbfa4c452757b0610b3eeb8fe839316302d5c82c72f1cae31cb6e4bcfc7f4'\n",
    "key = unhexlify(key)\n",
    "nonce = 'fdb0033ed53e7ea3'\n",
    "nonce = unhexlify(nonce)\n",
    "ciphertext = '2e52aa59d9d3596f8cc97c0343513508ff51096022f9dda850d0b507'\n",
    "ciphertext = unhexlify(ciphertext)\n",
    "\n",
    "cipher = ChaCha20.new(key=key, nonce=nonce)\n",
    "plaintext = cipher.decrypt(ciphertext)\n",
    "plaintext = plaintext.decode('utf-8')\n",
    "\n",
    "plaintext"
   ]
  },
  {
   "cell_type": "raw",
   "metadata": {
    "vscode": {
     "languageId": "raw"
    }
   },
   "source": [
    "flag{4rt1ficial_Symm3trY_Yrt3mmyS_laicif1tr4}"
   ]
  }
 ],
 "metadata": {
  "kernelspec": {
   "display_name": "base",
   "language": "python",
   "name": "python3"
  },
  "language_info": {
   "codemirror_mode": {
    "name": "ipython",
    "version": 3
   },
   "file_extension": ".py",
   "mimetype": "text/x-python",
   "name": "python",
   "nbconvert_exporter": "python",
   "pygments_lexer": "ipython3",
   "version": "3.11.5"
  }
 },
 "nbformat": 4,
 "nbformat_minor": 2
}
