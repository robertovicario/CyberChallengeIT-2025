{
 "cells": [
  {
   "cell_type": "markdown",
   "metadata": {},
   "source": [
    "### CR_1.10 - notadmin"
   ]
  },
  {
   "cell_type": "code",
   "execution_count": 8,
   "metadata": {},
   "outputs": [
    {
     "name": "stdout",
     "output_type": "stream",
     "text": [
      "[x] Opening connection to notadmin.challs.cyberchallenge.it on port 9032\n",
      "[x] Opening connection to notadmin.challs.cyberchallenge.it on port 9032: Trying 5.75.221.48\n",
      "[+] Opening connection to notadmin.challs.cyberchallenge.it on port 9032: Done\n",
      "[x] Receiving all data\n",
      "[x] Receiving all data: 0B\n",
      "[x] Receiving all data: 62B\n",
      "[-] Receiving all data: Failed\n"
     ]
    },
    {
     "ename": "KeyboardInterrupt",
     "evalue": "",
     "output_type": "error",
     "traceback": [
      "\u001b[0;31m---------------------------------------------------------------------------\u001b[0m",
      "\u001b[0;31mKeyboardInterrupt\u001b[0m                         Traceback (most recent call last)",
      "Cell \u001b[0;32mIn[8], line 37\u001b[0m\n\u001b[1;32m     34\u001b[0m conn\u001b[38;5;241m.\u001b[39msendline(new_token\u001b[38;5;241m.\u001b[39mencode())\n\u001b[1;32m     36\u001b[0m \u001b[38;5;66;03m# 6. Leggiamo la risposta del server\u001b[39;00m\n\u001b[0;32m---> 37\u001b[0m response \u001b[38;5;241m=\u001b[39m \u001b[43mconn\u001b[49m\u001b[38;5;241;43m.\u001b[39;49m\u001b[43mrecvall\u001b[49m\u001b[43m(\u001b[49m\u001b[43m)\u001b[49m\u001b[38;5;241m.\u001b[39mdecode()\n\u001b[1;32m     38\u001b[0m \u001b[38;5;28mprint\u001b[39m(response)\n\u001b[1;32m     40\u001b[0m conn\u001b[38;5;241m.\u001b[39mclose()\n",
      "File \u001b[0;32m~/anaconda3/lib/python3.11/site-packages/pwnlib/tubes/sock.py:31\u001b[0m, in \u001b[0;36msock.recvall\u001b[0;34m(self, timeout)\u001b[0m\n\u001b[1;32m     29\u001b[0m     \u001b[38;5;28mself\u001b[39m\u001b[38;5;241m.\u001b[39merror(\u001b[38;5;124m\"\u001b[39m\u001b[38;5;124mUDP sockets does not supports recvall\u001b[39m\u001b[38;5;124m\"\u001b[39m)\n\u001b[1;32m     30\u001b[0m \u001b[38;5;28;01melse\u001b[39;00m:\n\u001b[0;32m---> 31\u001b[0m     \u001b[38;5;28;01mreturn\u001b[39;00m \u001b[38;5;28;43msuper\u001b[39;49m\u001b[43m(\u001b[49m\u001b[43msock\u001b[49m\u001b[43m,\u001b[49m\u001b[43m \u001b[49m\u001b[38;5;28;43mself\u001b[39;49m\u001b[43m)\u001b[49m\u001b[38;5;241;43m.\u001b[39;49m\u001b[43mrecvall\u001b[49m\u001b[43m(\u001b[49m\u001b[43mtimeout\u001b[49m\u001b[43m)\u001b[49m\n",
      "File \u001b[0;32m~/anaconda3/lib/python3.11/site-packages/pwnlib/tubes/tube.py:796\u001b[0m, in \u001b[0;36mtube.recvall\u001b[0;34m(self, timeout)\u001b[0m\n\u001b[1;32m    794\u001b[0m         l \u001b[38;5;241m=\u001b[39m misc\u001b[38;5;241m.\u001b[39msize(\u001b[38;5;28mlen\u001b[39m(\u001b[38;5;28mself\u001b[39m\u001b[38;5;241m.\u001b[39mbuffer))\n\u001b[1;32m    795\u001b[0m         h\u001b[38;5;241m.\u001b[39mstatus(l)\n\u001b[0;32m--> 796\u001b[0m         \u001b[38;5;28;01mif\u001b[39;00m \u001b[38;5;129;01mnot\u001b[39;00m \u001b[38;5;28;43mself\u001b[39;49m\u001b[38;5;241;43m.\u001b[39;49m\u001b[43m_fillbuffer\u001b[49m\u001b[43m(\u001b[49m\u001b[43m)\u001b[49m:\n\u001b[1;32m    797\u001b[0m             \u001b[38;5;28;01mbreak\u001b[39;00m\n\u001b[1;32m    798\u001b[0m \u001b[38;5;28;01mexcept\u001b[39;00m \u001b[38;5;167;01mEOFError\u001b[39;00m:\n",
      "File \u001b[0;32m~/anaconda3/lib/python3.11/site-packages/pwnlib/tubes/tube.py:155\u001b[0m, in \u001b[0;36mtube._fillbuffer\u001b[0;34m(self, timeout)\u001b[0m\n\u001b[1;32m    152\u001b[0m data \u001b[38;5;241m=\u001b[39m \u001b[38;5;124mb\u001b[39m\u001b[38;5;124m'\u001b[39m\u001b[38;5;124m'\u001b[39m\n\u001b[1;32m    154\u001b[0m \u001b[38;5;28;01mwith\u001b[39;00m \u001b[38;5;28mself\u001b[39m\u001b[38;5;241m.\u001b[39mlocal(timeout):\n\u001b[0;32m--> 155\u001b[0m     data \u001b[38;5;241m=\u001b[39m \u001b[38;5;28;43mself\u001b[39;49m\u001b[38;5;241;43m.\u001b[39;49m\u001b[43mrecv_raw\u001b[49m\u001b[43m(\u001b[49m\u001b[38;5;28;43mself\u001b[39;49m\u001b[38;5;241;43m.\u001b[39;49m\u001b[43mbuffer\u001b[49m\u001b[38;5;241;43m.\u001b[39;49m\u001b[43mget_fill_size\u001b[49m\u001b[43m(\u001b[49m\u001b[43m)\u001b[49m\u001b[43m)\u001b[49m\n\u001b[1;32m    157\u001b[0m \u001b[38;5;28;01mif\u001b[39;00m data \u001b[38;5;129;01mand\u001b[39;00m \u001b[38;5;28mself\u001b[39m\u001b[38;5;241m.\u001b[39misEnabledFor(logging\u001b[38;5;241m.\u001b[39mDEBUG):\n\u001b[1;32m    158\u001b[0m     \u001b[38;5;28mself\u001b[39m\u001b[38;5;241m.\u001b[39mdebug(\u001b[38;5;124m'\u001b[39m\u001b[38;5;124mReceived \u001b[39m\u001b[38;5;132;01m%#x\u001b[39;00m\u001b[38;5;124m bytes:\u001b[39m\u001b[38;5;124m'\u001b[39m \u001b[38;5;241m%\u001b[39m \u001b[38;5;28mlen\u001b[39m(data))\n",
      "File \u001b[0;32m~/anaconda3/lib/python3.11/site-packages/pwnlib/tubes/sock.py:39\u001b[0m, in \u001b[0;36msock.recv_raw\u001b[0;34m(self, numb, *a)\u001b[0m\n\u001b[1;32m     37\u001b[0m \u001b[38;5;28;01mwhile\u001b[39;00m \u001b[38;5;28;01mTrue\u001b[39;00m:\n\u001b[1;32m     38\u001b[0m     \u001b[38;5;28;01mtry\u001b[39;00m:\n\u001b[0;32m---> 39\u001b[0m         data \u001b[38;5;241m=\u001b[39m \u001b[38;5;28;43mself\u001b[39;49m\u001b[38;5;241;43m.\u001b[39;49m\u001b[43msock\u001b[49m\u001b[38;5;241;43m.\u001b[39;49m\u001b[43mrecv\u001b[49m\u001b[43m(\u001b[49m\u001b[43mnumb\u001b[49m\u001b[43m,\u001b[49m\u001b[43m \u001b[49m\u001b[38;5;241;43m*\u001b[39;49m\u001b[43ma\u001b[49m\u001b[43m)\u001b[49m\n\u001b[1;32m     40\u001b[0m         \u001b[38;5;28;01mbreak\u001b[39;00m\n\u001b[1;32m     41\u001b[0m     \u001b[38;5;28;01mexcept\u001b[39;00m socket\u001b[38;5;241m.\u001b[39mtimeout:\n",
      "\u001b[0;31mKeyboardInterrupt\u001b[0m: "
     ]
    }
   ],
   "source": [
    "from pwn import *\n",
    "import binascii\n",
    "\n",
    "# Connettiamoci al server\n",
    "host = \"notadmin.challs.cyberchallenge.it\"\n",
    "port = 9032\n",
    "\n",
    "# Creiamo una connessione\n",
    "conn = remote(host, port)\n",
    "\n",
    "# 1. Registriamo un utente\n",
    "conn.recvuntil(b\"> \")\n",
    "conn.sendline(b\"1\")\n",
    "conn.recvuntil(b\"Insert your username: \")\n",
    "conn.sendline(b\"AAAAAA\")\n",
    "token_line = conn.recvline().decode().strip()\n",
    "\n",
    "# 2. Estrarre IV e Cifrato\n",
    "token = token_line.split(\"Your login token: \")[1]\n",
    "iv = bytes.fromhex(token[:32])\n",
    "ciphertext = bytes.fromhex(token[32:])\n",
    "\n",
    "# 3. Modificare l'IV per bit-flipping attack\n",
    "modified_iv = bytearray(iv)\n",
    "modified_iv[-2] ^= 1  # Cambia '0' in '1' nel flag is_admin=0\n",
    "\n",
    "# 4. Creiamo il nuovo token con IV modificato\n",
    "new_token = binascii.hexlify(bytes(modified_iv)).decode() + token[32:]\n",
    "\n",
    "# 5. Login con il nuovo token\n",
    "conn.recvuntil(b\"> \")\n",
    "conn.sendline(b\"2\")\n",
    "conn.recvuntil(b\"Insert your token: \")\n",
    "conn.sendline(new_token.encode())\n",
    "\n",
    "# 6. Leggiamo la risposta del server\n",
    "response = conn.recvall().decode()\n",
    "print(response)\n",
    "\n",
    "conn.close()"
   ]
  }
 ],
 "metadata": {
  "kernelspec": {
   "display_name": "base",
   "language": "python",
   "name": "python3"
  },
  "language_info": {
   "codemirror_mode": {
    "name": "ipython",
    "version": 3
   },
   "file_extension": ".py",
   "mimetype": "text/x-python",
   "name": "python",
   "nbconvert_exporter": "python",
   "pygments_lexer": "ipython3",
   "version": "3.11.5"
  }
 },
 "nbformat": 4,
 "nbformat_minor": 2
}
