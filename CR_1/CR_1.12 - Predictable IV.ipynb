{
 "cells": [
  {
   "cell_type": "code",
   "execution_count": 1,
   "metadata": {},
   "outputs": [
    {
     "name": "stdout",
     "output_type": "stream",
     "text": [
      "[x] Opening connection to predictable.challs.cyberchallenge.it on port 9034\n",
      "[x] Opening connection to predictable.challs.cyberchallenge.it on port 9034: Trying 5.75.221.48\n",
      "[+] Opening connection to predictable.challs.cyberchallenge.it on port 9034: Done\n",
      "The user token is: 09778e6a55e2316991c92fe023b27b104534593d54360275777aff217e068b8f\n",
      "The user iv is: 09778e6a55e2316991c92fe023b27b10\n",
      "The admin iv is: 7398523f7fd8bd2125e03901f6642779\n",
      "Generating the command with user IV:\n",
      "64\n",
      "i'm here\n",
      "b' Welcome back \\n'\n",
      "The command token is: 09778e6a55e2316991c92fe023b27b1068b2237881d3ca7c29d7848fd040ef7948a469be7a961d260e2bd7d3b92d9d2e\n",
      "The lenght of the actual command is: 32\n",
      "The modified command token is: 7398523f7fd8bd2125e03901f664277968b2237881d3ca7c29d7848fd040ef79\n"
     ]
    },
    {
     "name": "stderr",
     "output_type": "stream",
     "text": [
      "/var/folders/3n/vf15kv6n675_m6mzk8p8rfxr0000gn/T/ipykernel_26896/416631734.py:44: BytesWarning: Text is not bytes; assuming ASCII, no guarantees. See https://docs.pwntools.com/#bytes\n",
      "  challenge_server.sendline(xored_command.hex())\n",
      "/var/folders/3n/vf15kv6n675_m6mzk8p8rfxr0000gn/T/ipykernel_26896/416631734.py:56: BytesWarning: Text is not bytes; assuming ASCII, no guarantees. See https://docs.pwntools.com/#bytes\n",
      "  challenge_server.sendline(modified_command_token)\n"
     ]
    },
    {
     "name": "stdout",
     "output_type": "stream",
     "text": [
      "b'Here is your flag: CCIT{f1x3d_k3y+pr3d1c74bl3_1v=br0k3n_cryp70}\\n'\n"
     ]
    }
   ],
   "source": [
    "from Crypto.Cipher import AES\n",
    "from Crypto.Util.Padding import pad, unpad\n",
    "import os\n",
    "from pwn import *\n",
    "import ast\n",
    "\n",
    "def xor(plaintext, malicious):\n",
    "    output = bytearray(len(plaintext))\n",
    "    for i in range(len(plaintext)):\n",
    "        output[i] = plaintext[i] ^ malicious[i]\n",
    "    \n",
    "    return output\n",
    "\n",
    "def main():\n",
    "    challenge_server = remote('predictable.challs.cyberchallenge.it', 9034)\n",
    "    challenge_server.recvuntil(b\">\")\n",
    "    challenge_server.sendline(b\"1\")\n",
    "    challenge_server.recvuntil(b\"Insert your username:\")\n",
    "    challenge_server.sendline(b\"\")\n",
    "    token = challenge_server.recvline().decode()[19:].rstrip()\n",
    "    print(f\"The user token is: {token}\")\n",
    "    challenge_server.recvuntil(b\">\")\n",
    "    challenge_server.sendline(b\"4\")\n",
    "    IVs = eval(challenge_server.recvuntil(b\"}\").decode())\n",
    "    admin_IV = IVs['admin']\n",
    "    user_IV = IVs['']\n",
    "    print(f\"The user iv is: {user_IV}\")\n",
    "    print(f\"The admin iv is: {admin_IV}\")\n",
    "    print(\"Generating the command with user IV:\")\n",
    "    challenge_server.recvuntil(b\">\")\n",
    "    challenge_server.sendline(b\"2\")\n",
    "    challenge_server.recvuntil(b\"token\")\n",
    "    print(len(token))\n",
    "    challenge_server.sendline(token.encode())\n",
    "    print(\"i'm here\")\n",
    "    print(challenge_server.recvline())\n",
    "    challenge_server.recvuntil(b\"execute? \")\n",
    "    command = \"get_flag\".encode()\n",
    "\n",
    "    padded_command = pad(command, 16)\n",
    "    IV_difference = xor(bytes.fromhex(admin_IV), bytes.fromhex(user_IV))\n",
    "    xored_command = xor(padded_command[:16], IV_difference)\n",
    "\n",
    "    challenge_server.sendline(xored_command.hex())\n",
    "    command_token = challenge_server.recvline().decode()[20:].rstrip()\n",
    "    print(f\"The command token is: {command_token}\")\n",
    "\n",
    "    print(f\"The lenght of the actual command is: {len(bytes.fromhex(command_token[32:]))}\")\n",
    "\n",
    "    modified_command_token = admin_IV + command_token[32:64]\n",
    "    print(f\"The modified command token is: {modified_command_token}\")\n",
    "\n",
    "    challenge_server.recvuntil(b\">\")\n",
    "    challenge_server.sendline(b\"3\")\n",
    "    challenge_server.recvuntil(b\"do? \")\n",
    "    challenge_server.sendline(modified_command_token)\n",
    "    print(challenge_server.recvline())\n",
    "\n",
    "if __name__ == \"__main__\":\n",
    "    main()"
   ]
  }
 ],
 "metadata": {
  "kernelspec": {
   "display_name": "base",
   "language": "python",
   "name": "python3"
  },
  "language_info": {
   "codemirror_mode": {
    "name": "ipython",
    "version": 3
   },
   "file_extension": ".py",
   "mimetype": "text/x-python",
   "name": "python",
   "nbconvert_exporter": "python",
   "pygments_lexer": "ipython3",
   "version": "3.11.5"
  }
 },
 "nbformat": 4,
 "nbformat_minor": 2
}
