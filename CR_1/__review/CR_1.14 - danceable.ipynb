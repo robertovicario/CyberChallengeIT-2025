{
 "cells": [
  {
   "cell_type": "markdown",
   "metadata": {},
   "source": [
    "### CR_1.14 - danceable"
   ]
  },
  {
   "cell_type": "code",
   "execution_count": 3,
   "metadata": {},
   "outputs": [
    {
     "name": "stdout",
     "output_type": "stream",
     "text": [
      "[x] Opening connection to danceable.challs.cyberchallenge.it on port 9036\n",
      "[x] Opening connection to danceable.challs.cyberchallenge.it on port 9036: Trying 5.75.221.48\n",
      "[+] Opening connection to danceable.challs.cyberchallenge.it on port 9036: Done\n"
     ]
    },
    {
     "name": "stderr",
     "output_type": "stream",
     "text": [
      "/var/folders/3n/vf15kv6n675_m6mzk8p8rfxr0000gn/T/ipykernel_35882/128566078.py:10: BytesWarning: Text is not bytes; assuming ASCII, no guarantees. See https://docs.pwntools.com/#bytes\n",
      "  remote_conn.sendlineafter(\"> \", \"1\")\n",
      "/Users/robertovicario/anaconda3/lib/python3.11/site-packages/pwnlib/tubes/tube.py:876: BytesWarning: Text is not bytes; assuming ASCII, no guarantees. See https://docs.pwntools.com/#bytes\n",
      "  res = self.recvuntil(delim, timeout=timeout)\n",
      "/var/folders/3n/vf15kv6n675_m6mzk8p8rfxr0000gn/T/ipykernel_35882/128566078.py:11: BytesWarning: Text is not bytes; assuming ASCII, no guarantees. See https://docs.pwntools.com/#bytes\n",
      "  remote_conn.sendlineafter(\"hex)? \", hex_data)\n"
     ]
    },
    {
     "name": "stdout",
     "output_type": "stream",
     "text": [
      "[*] Closed connection to danceable.challs.cyberchallenge.it port 9036\n",
      "Flag: CCIT{r3us3d_n0nc3_1n_Ch4Ch420}\n"
     ]
    }
   ],
   "source": [
    "from pwn import *\n",
    "from Crypto.Util.Padding import unpad\n",
    "\n",
    "# Configura il target\n",
    "HOST = \"danceable.challs.cyberchallenge.it\"\n",
    "PORT = 9036\n",
    "\n",
    "# Funzione per interagire col server e cifrare il messaggio\n",
    "def encrypt(remote_conn, hex_data):\n",
    "    remote_conn.sendlineafter(\"> \", \"1\")\n",
    "    remote_conn.sendlineafter(\"hex)? \", hex_data)\n",
    "    encrypted = remote_conn.recvline().strip().decode()\n",
    "    return bytes.fromhex(encrypted)\n",
    "\n",
    "# 1. Recupera il keystream cifrando 16 byte nulli\n",
    "conn = remote(HOST, PORT)\n",
    "\n",
    "# 16 byte nulli\n",
    "known_plaintext = b\"\\x00\" * 16\n",
    "known_ciphertext = encrypt(conn, known_plaintext.hex())\n",
    "\n",
    "# Keystream = ciphertext ⊕ 0x00 = ciphertext\n",
    "keystream = known_ciphertext[:16]\n",
    "\n",
    "# 2. Cifra un input vuoto per ottenere il flag cifrato\n",
    "flag_ciphertext = encrypt(conn, \"\")  # input vuoto -> plaintext = flag + padding\n",
    "conn.close()\n",
    "\n",
    "# 3. Decifra i blocchi del flag\n",
    "flag_decrypted = b\"\"\n",
    "for i in range(0, len(flag_ciphertext), 16):\n",
    "    block = flag_ciphertext[i:i+16]\n",
    "    # Decifra usando keystream\n",
    "    decrypted_block = bytes([b ^ k for b, k in zip(block, keystream)])\n",
    "    flag_decrypted += decrypted_block\n",
    "\n",
    "# 4. Rimuovi padding PKCS#7\n",
    "try:\n",
    "    flag = unpad(flag_decrypted, 16).decode()\n",
    "    print(\"Flag:\", flag)\n",
    "except ValueError:\n",
    "    print(\"Errore nella rimozione del padding. Dati grezzi:\", flag_decrypted)\n"
   ]
  }
 ],
 "metadata": {
  "kernelspec": {
   "display_name": "base",
   "language": "python",
   "name": "python3"
  },
  "language_info": {
   "codemirror_mode": {
    "name": "ipython",
    "version": 3
   },
   "file_extension": ".py",
   "mimetype": "text/x-python",
   "name": "python",
   "nbconvert_exporter": "python",
   "pygments_lexer": "ipython3",
   "version": "3.11.5"
  }
 },
 "nbformat": 4,
 "nbformat_minor": 2
}
