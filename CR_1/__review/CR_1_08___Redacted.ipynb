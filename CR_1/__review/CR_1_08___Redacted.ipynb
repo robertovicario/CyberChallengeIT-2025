{
 "cells": [
  {
   "cell_type": "markdown",
   "metadata": {
    "vscode": {
     "languageId": "plaintext"
    }
   },
   "source": [
    "### CR_1.08 - Redacted"
   ]
  },
  {
   "cell_type": "code",
   "execution_count": 3,
   "metadata": {},
   "outputs": [
    {
     "name": "stdout",
     "output_type": "stream",
     "text": [
      "CCIT{P4rt14l_1nf0_b4d}\n"
     ]
    }
   ],
   "source": [
    "import binascii\n",
    "\n",
    "from Crypto.Cipher import AES\n",
    "from binascii import unhexlify\n",
    "from itertools import product\n",
    "from string import printable\n",
    "\n",
    "\n",
    "# Mancano due caratteri per la Key\n",
    "KEY = \"yn9RB3Lr43xJK2\"\n",
    "\n",
    "# Cyphertext incompleto nella prima parte, completo nella seconda. HEX Format\n",
    "CYPHER = \"c5██████████████████████████d49e78c670cb67a9e5773d696dc96b78c4e0\"  # len ==64\n",
    "PLAIN = \"AES with CBC is very unbreakable\"\n",
    "\n",
    "\n",
    "def xor(a, b):\n",
    "    return bytes([a[i] ^ b[i] for i in range(len(a))])\n",
    "\n",
    "\n",
    "# BruteForce all the keys\n",
    "printable = printable[:-6]\n",
    "couples = product(printable, repeat=2)\n",
    "couples = [\"\".join(c) for c in couples]\n",
    "\n",
    "keys = list()\n",
    "for c in couples:\n",
    "    key = KEY + c\n",
    "    keys.append(key)\n",
    "\n",
    "\n",
    "# Itero Fra tutte le keys per trovare quella corretta \n",
    "for k in keys:\n",
    "    aes = AES.new(k.encode(), AES.MODE_ECB)\n",
    "    a_decrypt = aes.decrypt(unhexlify(CYPHER[32:]))\n",
    "    my_cipher = xor(a_decrypt, PLAIN[16:].encode())\n",
    "    my_cipher = binascii.hexlify(my_cipher).decode()\n",
    "\n",
    "    # Correct Key return a CT which is equal to the first block given \n",
    "    if my_cipher[:2] == \"c5\" and my_cipher[28:32] == \"d49e\":\n",
    "        a_decrypt = aes.decrypt(unhexlify(my_cipher))\n",
    "        iv = xor(a_decrypt, PLAIN[:16].encode())\n",
    "        print(\"CCIT{\" +iv.decode() + \"}\")"
   ]
  }
 ],
 "metadata": {
  "kernelspec": {
   "display_name": "base",
   "language": "python",
   "name": "python3"
  },
  "language_info": {
   "codemirror_mode": {
    "name": "ipython",
    "version": 3
   },
   "file_extension": ".py",
   "mimetype": "text/x-python",
   "name": "python",
   "nbconvert_exporter": "python",
   "pygments_lexer": "ipython3",
   "version": "3.11.5"
  }
 },
 "nbformat": 4,
 "nbformat_minor": 2
}
