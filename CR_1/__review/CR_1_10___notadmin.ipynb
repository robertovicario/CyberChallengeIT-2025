{
 "cells": [
  {
   "cell_type": "markdown",
   "metadata": {},
   "source": [
    "### CR_1.10 - notadmin"
   ]
  },
  {
   "cell_type": "code",
   "execution_count": 3,
   "metadata": {},
   "outputs": [],
   "source": [
    "def flip_last_bit_of_iv(token):\n",
    "    iv = token[:32]\n",
    "    iv_bin = bin(int(iv, 16))[2:].zfill(128)\n",
    "    iv_bin_flipped = iv_bin[:-1] + ('1' if iv_bin[-1] == '0' else '0')\n",
    "    iv_flipped = hex(int(iv_bin_flipped, 2))[2:].zfill(32)\n",
    "    new_token = iv_flipped + token[32:]\n",
    "    return new_token"
   ]
  },
  {
   "cell_type": "code",
   "execution_count": 4,
   "metadata": {},
   "outputs": [
    {
     "data": {
      "text/plain": [
       "'b6f3534595a8828497c5d697a3deff53fed8c968a8a61e0fe56b49686d35552ad88cb38d20b49e4180b5ea6b19f33020'"
      ]
     },
     "execution_count": 4,
     "metadata": {},
     "output_type": "execute_result"
    }
   ],
   "source": [
    "token = 'b6f3534595a8828497c5d697a3deff52fed8c968a8a61e0fe56b49686d35552ad88cb38d20b49e4180b5ea6b19f33020'\n",
    "\n",
    "flip_last_bit_of_iv(token)"
   ]
  },
  {
   "cell_type": "markdown",
   "metadata": {},
   "source": [
    "```txt\n",
    "1. Register\n",
    "2. Login\n",
    "0. Exit\n",
    "> 1\n",
    "Insert your username: a\n",
    "Your login token: b6f3534595a8828497c5d697a3deff52fed8c968a8a61e0fe56b49686d35552ad88cb38d20b49e4180b5ea6b19f33020\n",
    "1. Register\n",
    "2. Login\n",
    "0. Exit\n",
    "> 2\n",
    "Insert your token: b6f3534595a8828497c5d697a3deff53fed8c968a8a61e0fe56b49686d35552ad88cb38d20b49e4180b5ea6b19f33020\n",
    "Welcome back a is_admin=1\n",
    "Here is your flag CCIT{pr0b4bly_n07_7h3_b357_w4y_70_537_c00k135}\n",
    "1. Register\n",
    "2. Login\n",
    "0. Exit\n",
    ">\n",
    "```"
   ]
  }
 ],
 "metadata": {
  "kernelspec": {
   "display_name": "base",
   "language": "python",
   "name": "python3"
  },
  "language_info": {
   "codemirror_mode": {
    "name": "ipython",
    "version": 3
   },
   "file_extension": ".py",
   "mimetype": "text/x-python",
   "name": "python",
   "nbconvert_exporter": "python",
   "pygments_lexer": "ipython3",
   "version": "3.11.5"
  }
 },
 "nbformat": 4,
 "nbformat_minor": 2
}
