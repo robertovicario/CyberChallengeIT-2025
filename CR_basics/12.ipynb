{
 "cells": [
  {
   "cell_type": "markdown",
   "metadata": {},
   "source": [
    "### Crypto 12 - DH helpline"
   ]
  },
  {
   "cell_type": "code",
   "execution_count": 172,
   "metadata": {},
   "outputs": [
    {
     "data": {
      "text/plain": [
       "14.0"
      ]
     },
     "execution_count": 172,
     "metadata": {},
     "output_type": "execute_result"
    }
   ],
   "source": [
    "import math\n",
    "\n",
    "x = 16384\n",
    "mod = 198707040189073349879297244493612839829\n",
    "base = 2\n",
    "\n",
    "math.log(x % mod, base)"
   ]
  },
  {
   "cell_type": "code",
   "execution_count": 173,
   "metadata": {},
   "outputs": [
    {
     "data": {
      "text/plain": [
       "38"
      ]
     },
     "execution_count": 173,
     "metadata": {},
     "output_type": "execute_result"
    }
   ],
   "source": [
    "from sympy.ntheory import discrete_log\n",
    "\n",
    "x = 35\n",
    "mod = 67\n",
    "base = 2\n",
    "\n",
    "discrete_log(mod, x, base)"
   ]
  },
  {
   "cell_type": "code",
   "execution_count": 174,
   "metadata": {},
   "outputs": [],
   "source": [
    "g = 2\n",
    "p = 53\n",
    "big_a = 24\n",
    "\n",
    "b = 173  # random.randint(128, 256)\n",
    "big_b = pow(g, b, p)\n",
    "key = pow(big_a, b, p)"
   ]
  },
  {
   "cell_type": "code",
   "execution_count": 175,
   "metadata": {},
   "outputs": [
    {
     "data": {
      "text/plain": [
       "'{\"big_b\": 3, \"key\": 49}'"
      ]
     },
     "execution_count": 175,
     "metadata": {},
     "output_type": "execute_result"
    }
   ],
   "source": [
    "import json\n",
    "json.dumps({\n",
    "    \"big_b\": big_b,\n",
    "    \"key\": key\n",
    "})"
   ]
  },
  {
   "cell_type": "markdown",
   "metadata": {},
   "source": [
    "```txt\n",
    "Salve! Questo è un tutorial sul protocollo di Diffie-Hellman.\n",
    "\n",
    "Se p è un numero primo, quanti numeri positivi minori di p sono coprimi con p? p-1\n",
    "Corretto!\n",
    "\n",
    "Qual è il logaritmo discreto di 16384 in base 2 (mod 198707040189073349879297244493612839829)? 14\n",
    "Corretto!\n",
    "\n",
    "Qual è il logaritmo discreto di 35 in base 2 (mod 67)? 38\n",
    "Corretto!\n",
    "\n",
    "Per concludere, mettiamoci d'accordo su un segreto condiviso!\n",
    "Parametri pubblici: p = 53, g = 2.\n",
    "La mia chiave pubblica è 24.\n",
    "Qual è la tua chiave pubblica? 3\n",
    "Grazie! Qual è la nostra chiave condivisa? 49\n",
    "Corretto!\n",
    "\n",
    "Grande! flag{W3_st4Nd_t0d4Y_0n_th3_Br1nk_of_4_r3v01uTioN_1n_Cryptography.}\n",
    "```"
   ]
  }
 ],
 "metadata": {
  "kernelspec": {
   "display_name": "base",
   "language": "python",
   "name": "python3"
  },
  "language_info": {
   "codemirror_mode": {
    "name": "ipython",
    "version": 3
   },
   "file_extension": ".py",
   "mimetype": "text/x-python",
   "name": "python",
   "nbconvert_exporter": "python",
   "pygments_lexer": "ipython3",
   "version": "3.11.5"
  }
 },
 "nbformat": 4,
 "nbformat_minor": 2
}
