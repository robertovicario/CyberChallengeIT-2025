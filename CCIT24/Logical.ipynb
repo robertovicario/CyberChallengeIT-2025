{
 "cells": [
  {
   "cell_type": "markdown",
   "metadata": {},
   "source": [
    "### Logical"
   ]
  },
  {
   "cell_type": "code",
   "execution_count": 6,
   "metadata": {},
   "outputs": [
    {
     "name": "stdout",
     "output_type": "stream",
     "text": [
      "[x] Opening connection to logical.challs.cyberchallenge.it on port 38207\n",
      "[x] Opening connection to logical.challs.cyberchallenge.it on port 38207: Trying 5.75.221.48\n",
      "[+] Opening connection to logical.challs.cyberchallenge.it on port 38207: Done\n",
      "[*] Closed connection to logical.challs.cyberchallenge.it port 38207\n"
     ]
    },
    {
     "data": {
      "text/plain": [
       "'CCIT{th3r3_1s_n0_n33d_f0r_4_d3crypt_funct10n_1f_y0u_us3_mtp_73242cc2}'"
      ]
     },
     "execution_count": 6,
     "metadata": {},
     "output_type": "execute_result"
    }
   ],
   "source": [
    "from Crypto.Util.number import long_to_bytes\n",
    "from pwn import remote\n",
    "\n",
    "conn = remote('logical.challs.cyberchallenge.it', 38207)\n",
    "\n",
    "conn.recvuntil(b'> ')\n",
    "conn.sendline(b'2')\n",
    "\n",
    "enc_flag = int(conn.recvline())\n",
    "n = (enc_flag.bit_length() + 1) // 2\n",
    "\n",
    "conn.sendline(b'1')\n",
    "conn.recvuntil(b'> ')\n",
    "conn.sendline(b'\\0')\n",
    "conn.recvuntil(b'> ')\n",
    "conn.sendline(b'2')\n",
    "conn.recvline()\n",
    "\n",
    "enc_note = int(conn.recvline())\n",
    "\n",
    "conn.close()\n",
    "\n",
    "secret_key = enc_note\n",
    "flag = ''\n",
    "\n",
    "for i in range(n):\n",
    "    if (secret_key & 1) != (enc_flag & 1):\n",
    "        flag = '1' + flag\n",
    "    else:\n",
    "        flag = '0' + flag\n",
    "\n",
    "    secret_key >>= 2\n",
    "    enc_flag >>= 2\n",
    "\n",
    "long_to_bytes(int(flag, 2)).decode()"
   ]
  }
 ],
 "metadata": {
  "kernelspec": {
   "display_name": "base",
   "language": "python",
   "name": "python3"
  },
  "language_info": {
   "codemirror_mode": {
    "name": "ipython",
    "version": 3
   },
   "file_extension": ".py",
   "mimetype": "text/x-python",
   "name": "python",
   "nbconvert_exporter": "python",
   "pygments_lexer": "ipython3",
   "version": "3.11.5"
  }
 },
 "nbformat": 4,
 "nbformat_minor": 2
}
