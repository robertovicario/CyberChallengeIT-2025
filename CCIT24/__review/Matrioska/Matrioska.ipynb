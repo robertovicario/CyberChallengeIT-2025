{
 "cells": [
  {
   "cell_type": "markdown",
   "metadata": {},
   "source": [
    "### Matrioska"
   ]
  },
  {
   "cell_type": "code",
   "execution_count": 3,
   "metadata": {},
   "outputs": [
    {
     "name": "stdout",
     "output_type": "stream",
     "text": [
      "CCIT{apt_install_everything_c3fe3682}\n"
     ]
    }
   ],
   "source": [
    "import os\n",
    "import sys\n",
    "import subprocess\n",
    "import tempfile\n",
    "\n",
    "def detect(filename):\n",
    "    m = subprocess.run([\"file\", filename], stdout=subprocess.PIPE).stdout.decode().strip().split(': ')[1]\n",
    "    if m.startswith(\"ASCII text\"):\n",
    "        file = open(filename, 'r').readline()\n",
    "        if file.startswith(\"CCIT{\"):\n",
    "            return 'FLAG'\n",
    "        elif file.startswith('00000000:'):\n",
    "            return 'HEX'\n",
    "        else:\n",
    "            return 'BASE64'\n",
    "    elif m.startswith(\"Zip archive data\"):\n",
    "        return 'ZIP'\n",
    "    elif m.startswith(\"XZ compressed data\"):\n",
    "        return 'XZ'\n",
    "    elif m.startswith(\"bzip2 compressed data\"):\n",
    "        return 'BZIP2'\n",
    "    elif m.startswith(\"gzip compressed data\"):\n",
    "        return 'GZIP'\n",
    "    elif m.startswith(\"POSIX tar archive\"):\n",
    "        return 'TAR'\n",
    "    elif m.startswith(\"7-zip archive data\"):\n",
    "        return '7Z'\n",
    "    else:\n",
    "        print(\"Unknown file type\")\n",
    "        print(m)\n",
    "        sys.exit(1)\n",
    "\n",
    "def extract(filename, destination):\n",
    "    result = subprocess.run([\"7z\", \"x\", \"-ppassword\", filename, f\"-o{destination}\"], stdout=subprocess.PIPE, stderr=subprocess.PIPE)\n",
    "    if result.returncode != 0:\n",
    "        print(result.stderr.decode())\n",
    "        sys.exit(1)\n",
    "    return filename\n",
    "\n",
    "def solve(filename):\n",
    "    currfile = filename\n",
    "    currdir = tempfile.TemporaryDirectory()\n",
    "    os.system(f\"cp {filename} {currdir.name}\")\n",
    "    \n",
    "    while True:\n",
    "        destdir = tempfile.TemporaryDirectory()\n",
    "        f = detect(f\"{currdir.name}/{currfile}\")\n",
    "        \n",
    "        if f == 'FLAG':\n",
    "            flag = open(f\"{currdir.name}/{currfile}\", 'r').readline()\n",
    "            return flag\n",
    "        elif f in ['ZIP', 'XZ', 'BZIP2', 'GZIP', 'TAR', '7Z']:\n",
    "            extract(f\"{currdir.name}/{currfile}\", destdir.name)\n",
    "            currdir.cleanup()\n",
    "            currfile = os.listdir(destdir.name)[0]\n",
    "            currdir = destdir\n",
    "        elif f == 'HEX':\n",
    "            subprocess.run(f\"xxd -r {currdir.name}/{currfile} > {destdir.name}/{currfile}\", shell=True, check=True)\n",
    "            currdir.cleanup()\n",
    "            currdir = destdir\n",
    "        elif f == 'BASE64':\n",
    "            try:\n",
    "                import base64\n",
    "                with open(f\"{currdir.name}/{currfile}\", 'rb') as infile, open(f\"{destdir.name}/{currfile}\", 'wb') as outfile:\n",
    "                    base64.decode(infile, outfile)\n",
    "                currdir.cleanup()\n",
    "                currdir = destdir\n",
    "            except (base64.binascii.Error, FileNotFoundError) as e:\n",
    "                print(f\"Error decoding Base64 file: {e}\")\n",
    "                sys.exit(1)\n",
    "        else:\n",
    "            print(\"Unknown file type\")\n",
    "            sys.exit(1)\n",
    "\n",
    "if __name__ == \"__main__\":\n",
    "    print(solve(\"challenge.zip\"))\n"
   ]
  }
 ],
 "metadata": {
  "kernelspec": {
   "display_name": "base",
   "language": "python",
   "name": "python3"
  },
  "language_info": {
   "codemirror_mode": {
    "name": "ipython",
    "version": 3
   },
   "file_extension": ".py",
   "mimetype": "text/x-python",
   "name": "python",
   "nbconvert_exporter": "python",
   "pygments_lexer": "ipython3",
   "version": "3.11.5"
  }
 },
 "nbformat": 4,
 "nbformat_minor": 2
}
